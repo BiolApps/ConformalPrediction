{
  "nbformat": 4,
  "nbformat_minor": 0,
  "metadata": {
    "colab": {
      "provenance": []
    },
    "kernelspec": {
      "name": "python3",
      "display_name": "Python 3"
    },
    "language_info": {
      "name": "python"
    }
  },
  "cells": [
    {
      "cell_type": "markdown",
      "source": [
        "Load required libraries"
      ],
      "metadata": {
        "id": "dYt3t_Wh5Evt"
      }
    },
    {
      "cell_type": "code",
      "execution_count": 1,
      "metadata": {
        "id": "492W-3n34pg2"
      },
      "outputs": [],
      "source": [
        "import numpy as np\n",
        "import pandas as pd\n",
        "from google.colab import files\n",
        "import sklearn as sk\n",
        "import seaborn as sns\n",
        "from scipy.stats import t"
      ]
    },
    {
      "cell_type": "markdown",
      "source": [
        "#Upload files from directory"
      ],
      "metadata": {
        "id": "JdFxFjE95f3T"
      }
    },
    {
      "cell_type": "code",
      "execution_count": 13,
      "metadata": {
        "colab": {
          "base_uri": "https://localhost:8080/",
          "height": 73
        },
        "outputId": "c6560607-8ca0-456e-e11e-4debedc13b9d",
        "id": "tSja4yZHl8u4"
      },
      "outputs": [
        {
          "output_type": "display_data",
          "data": {
            "text/plain": [
              "<IPython.core.display.HTML object>"
            ],
            "text/html": [
              "\n",
              "     <input type=\"file\" id=\"files-6e1ac1a2-f0b9-42a8-98c8-cc256734b66f\" name=\"files[]\" multiple disabled\n",
              "        style=\"border:none\" />\n",
              "     <output id=\"result-6e1ac1a2-f0b9-42a8-98c8-cc256734b66f\">\n",
              "      Upload widget is only available when the cell has been executed in the\n",
              "      current browser session. Please rerun this cell to enable.\n",
              "      </output>\n",
              "      <script>// Copyright 2017 Google LLC\n",
              "//\n",
              "// Licensed under the Apache License, Version 2.0 (the \"License\");\n",
              "// you may not use this file except in compliance with the License.\n",
              "// You may obtain a copy of the License at\n",
              "//\n",
              "//      http://www.apache.org/licenses/LICENSE-2.0\n",
              "//\n",
              "// Unless required by applicable law or agreed to in writing, software\n",
              "// distributed under the License is distributed on an \"AS IS\" BASIS,\n",
              "// WITHOUT WARRANTIES OR CONDITIONS OF ANY KIND, either express or implied.\n",
              "// See the License for the specific language governing permissions and\n",
              "// limitations under the License.\n",
              "\n",
              "/**\n",
              " * @fileoverview Helpers for google.colab Python module.\n",
              " */\n",
              "(function(scope) {\n",
              "function span(text, styleAttributes = {}) {\n",
              "  const element = document.createElement('span');\n",
              "  element.textContent = text;\n",
              "  for (const key of Object.keys(styleAttributes)) {\n",
              "    element.style[key] = styleAttributes[key];\n",
              "  }\n",
              "  return element;\n",
              "}\n",
              "\n",
              "// Max number of bytes which will be uploaded at a time.\n",
              "const MAX_PAYLOAD_SIZE = 100 * 1024;\n",
              "\n",
              "function _uploadFiles(inputId, outputId) {\n",
              "  const steps = uploadFilesStep(inputId, outputId);\n",
              "  const outputElement = document.getElementById(outputId);\n",
              "  // Cache steps on the outputElement to make it available for the next call\n",
              "  // to uploadFilesContinue from Python.\n",
              "  outputElement.steps = steps;\n",
              "\n",
              "  return _uploadFilesContinue(outputId);\n",
              "}\n",
              "\n",
              "// This is roughly an async generator (not supported in the browser yet),\n",
              "// where there are multiple asynchronous steps and the Python side is going\n",
              "// to poll for completion of each step.\n",
              "// This uses a Promise to block the python side on completion of each step,\n",
              "// then passes the result of the previous step as the input to the next step.\n",
              "function _uploadFilesContinue(outputId) {\n",
              "  const outputElement = document.getElementById(outputId);\n",
              "  const steps = outputElement.steps;\n",
              "\n",
              "  const next = steps.next(outputElement.lastPromiseValue);\n",
              "  return Promise.resolve(next.value.promise).then((value) => {\n",
              "    // Cache the last promise value to make it available to the next\n",
              "    // step of the generator.\n",
              "    outputElement.lastPromiseValue = value;\n",
              "    return next.value.response;\n",
              "  });\n",
              "}\n",
              "\n",
              "/**\n",
              " * Generator function which is called between each async step of the upload\n",
              " * process.\n",
              " * @param {string} inputId Element ID of the input file picker element.\n",
              " * @param {string} outputId Element ID of the output display.\n",
              " * @return {!Iterable<!Object>} Iterable of next steps.\n",
              " */\n",
              "function* uploadFilesStep(inputId, outputId) {\n",
              "  const inputElement = document.getElementById(inputId);\n",
              "  inputElement.disabled = false;\n",
              "\n",
              "  const outputElement = document.getElementById(outputId);\n",
              "  outputElement.innerHTML = '';\n",
              "\n",
              "  const pickedPromise = new Promise((resolve) => {\n",
              "    inputElement.addEventListener('change', (e) => {\n",
              "      resolve(e.target.files);\n",
              "    });\n",
              "  });\n",
              "\n",
              "  const cancel = document.createElement('button');\n",
              "  inputElement.parentElement.appendChild(cancel);\n",
              "  cancel.textContent = 'Cancel upload';\n",
              "  const cancelPromise = new Promise((resolve) => {\n",
              "    cancel.onclick = () => {\n",
              "      resolve(null);\n",
              "    };\n",
              "  });\n",
              "\n",
              "  // Wait for the user to pick the files.\n",
              "  const files = yield {\n",
              "    promise: Promise.race([pickedPromise, cancelPromise]),\n",
              "    response: {\n",
              "      action: 'starting',\n",
              "    }\n",
              "  };\n",
              "\n",
              "  cancel.remove();\n",
              "\n",
              "  // Disable the input element since further picks are not allowed.\n",
              "  inputElement.disabled = true;\n",
              "\n",
              "  if (!files) {\n",
              "    return {\n",
              "      response: {\n",
              "        action: 'complete',\n",
              "      }\n",
              "    };\n",
              "  }\n",
              "\n",
              "  for (const file of files) {\n",
              "    const li = document.createElement('li');\n",
              "    li.append(span(file.name, {fontWeight: 'bold'}));\n",
              "    li.append(span(\n",
              "        `(${file.type || 'n/a'}) - ${file.size} bytes, ` +\n",
              "        `last modified: ${\n",
              "            file.lastModifiedDate ? file.lastModifiedDate.toLocaleDateString() :\n",
              "                                    'n/a'} - `));\n",
              "    const percent = span('0% done');\n",
              "    li.appendChild(percent);\n",
              "\n",
              "    outputElement.appendChild(li);\n",
              "\n",
              "    const fileDataPromise = new Promise((resolve) => {\n",
              "      const reader = new FileReader();\n",
              "      reader.onload = (e) => {\n",
              "        resolve(e.target.result);\n",
              "      };\n",
              "      reader.readAsArrayBuffer(file);\n",
              "    });\n",
              "    // Wait for the data to be ready.\n",
              "    let fileData = yield {\n",
              "      promise: fileDataPromise,\n",
              "      response: {\n",
              "        action: 'continue',\n",
              "      }\n",
              "    };\n",
              "\n",
              "    // Use a chunked sending to avoid message size limits. See b/62115660.\n",
              "    let position = 0;\n",
              "    do {\n",
              "      const length = Math.min(fileData.byteLength - position, MAX_PAYLOAD_SIZE);\n",
              "      const chunk = new Uint8Array(fileData, position, length);\n",
              "      position += length;\n",
              "\n",
              "      const base64 = btoa(String.fromCharCode.apply(null, chunk));\n",
              "      yield {\n",
              "        response: {\n",
              "          action: 'append',\n",
              "          file: file.name,\n",
              "          data: base64,\n",
              "        },\n",
              "      };\n",
              "\n",
              "      let percentDone = fileData.byteLength === 0 ?\n",
              "          100 :\n",
              "          Math.round((position / fileData.byteLength) * 100);\n",
              "      percent.textContent = `${percentDone}% done`;\n",
              "\n",
              "    } while (position < fileData.byteLength);\n",
              "  }\n",
              "\n",
              "  // All done.\n",
              "  yield {\n",
              "    response: {\n",
              "      action: 'complete',\n",
              "    }\n",
              "  };\n",
              "}\n",
              "\n",
              "scope.google = scope.google || {};\n",
              "scope.google.colab = scope.google.colab || {};\n",
              "scope.google.colab._files = {\n",
              "  _uploadFiles,\n",
              "  _uploadFilesContinue,\n",
              "};\n",
              "})(self);\n",
              "</script> "
            ]
          },
          "metadata": {}
        },
        {
          "output_type": "stream",
          "name": "stdout",
          "text": [
            "Saving Afatinib.csv to Afatinib (1).csv\n"
          ]
        }
      ],
      "source": [
        "uploaded = files.upload()\n",
        "dr = pd.read_csv('Afatinib.csv')"
      ]
    },
    {
      "cell_type": "code",
      "source": [
        "uploaded = files.upload()\n",
        "target = pd.read_csv('AfatinibTarget.csv')"
      ],
      "metadata": {
        "id": "0YJEqhP2RDyj",
        "colab": {
          "base_uri": "https://localhost:8080/",
          "height": 73
        },
        "outputId": "eaf1a5c3-b420-426d-e149-1bd397402886"
      },
      "execution_count": 14,
      "outputs": [
        {
          "output_type": "display_data",
          "data": {
            "text/plain": [
              "<IPython.core.display.HTML object>"
            ],
            "text/html": [
              "\n",
              "     <input type=\"file\" id=\"files-07c1d7c4-bf3a-4db5-8d5e-8943a05b6fc6\" name=\"files[]\" multiple disabled\n",
              "        style=\"border:none\" />\n",
              "     <output id=\"result-07c1d7c4-bf3a-4db5-8d5e-8943a05b6fc6\">\n",
              "      Upload widget is only available when the cell has been executed in the\n",
              "      current browser session. Please rerun this cell to enable.\n",
              "      </output>\n",
              "      <script>// Copyright 2017 Google LLC\n",
              "//\n",
              "// Licensed under the Apache License, Version 2.0 (the \"License\");\n",
              "// you may not use this file except in compliance with the License.\n",
              "// You may obtain a copy of the License at\n",
              "//\n",
              "//      http://www.apache.org/licenses/LICENSE-2.0\n",
              "//\n",
              "// Unless required by applicable law or agreed to in writing, software\n",
              "// distributed under the License is distributed on an \"AS IS\" BASIS,\n",
              "// WITHOUT WARRANTIES OR CONDITIONS OF ANY KIND, either express or implied.\n",
              "// See the License for the specific language governing permissions and\n",
              "// limitations under the License.\n",
              "\n",
              "/**\n",
              " * @fileoverview Helpers for google.colab Python module.\n",
              " */\n",
              "(function(scope) {\n",
              "function span(text, styleAttributes = {}) {\n",
              "  const element = document.createElement('span');\n",
              "  element.textContent = text;\n",
              "  for (const key of Object.keys(styleAttributes)) {\n",
              "    element.style[key] = styleAttributes[key];\n",
              "  }\n",
              "  return element;\n",
              "}\n",
              "\n",
              "// Max number of bytes which will be uploaded at a time.\n",
              "const MAX_PAYLOAD_SIZE = 100 * 1024;\n",
              "\n",
              "function _uploadFiles(inputId, outputId) {\n",
              "  const steps = uploadFilesStep(inputId, outputId);\n",
              "  const outputElement = document.getElementById(outputId);\n",
              "  // Cache steps on the outputElement to make it available for the next call\n",
              "  // to uploadFilesContinue from Python.\n",
              "  outputElement.steps = steps;\n",
              "\n",
              "  return _uploadFilesContinue(outputId);\n",
              "}\n",
              "\n",
              "// This is roughly an async generator (not supported in the browser yet),\n",
              "// where there are multiple asynchronous steps and the Python side is going\n",
              "// to poll for completion of each step.\n",
              "// This uses a Promise to block the python side on completion of each step,\n",
              "// then passes the result of the previous step as the input to the next step.\n",
              "function _uploadFilesContinue(outputId) {\n",
              "  const outputElement = document.getElementById(outputId);\n",
              "  const steps = outputElement.steps;\n",
              "\n",
              "  const next = steps.next(outputElement.lastPromiseValue);\n",
              "  return Promise.resolve(next.value.promise).then((value) => {\n",
              "    // Cache the last promise value to make it available to the next\n",
              "    // step of the generator.\n",
              "    outputElement.lastPromiseValue = value;\n",
              "    return next.value.response;\n",
              "  });\n",
              "}\n",
              "\n",
              "/**\n",
              " * Generator function which is called between each async step of the upload\n",
              " * process.\n",
              " * @param {string} inputId Element ID of the input file picker element.\n",
              " * @param {string} outputId Element ID of the output display.\n",
              " * @return {!Iterable<!Object>} Iterable of next steps.\n",
              " */\n",
              "function* uploadFilesStep(inputId, outputId) {\n",
              "  const inputElement = document.getElementById(inputId);\n",
              "  inputElement.disabled = false;\n",
              "\n",
              "  const outputElement = document.getElementById(outputId);\n",
              "  outputElement.innerHTML = '';\n",
              "\n",
              "  const pickedPromise = new Promise((resolve) => {\n",
              "    inputElement.addEventListener('change', (e) => {\n",
              "      resolve(e.target.files);\n",
              "    });\n",
              "  });\n",
              "\n",
              "  const cancel = document.createElement('button');\n",
              "  inputElement.parentElement.appendChild(cancel);\n",
              "  cancel.textContent = 'Cancel upload';\n",
              "  const cancelPromise = new Promise((resolve) => {\n",
              "    cancel.onclick = () => {\n",
              "      resolve(null);\n",
              "    };\n",
              "  });\n",
              "\n",
              "  // Wait for the user to pick the files.\n",
              "  const files = yield {\n",
              "    promise: Promise.race([pickedPromise, cancelPromise]),\n",
              "    response: {\n",
              "      action: 'starting',\n",
              "    }\n",
              "  };\n",
              "\n",
              "  cancel.remove();\n",
              "\n",
              "  // Disable the input element since further picks are not allowed.\n",
              "  inputElement.disabled = true;\n",
              "\n",
              "  if (!files) {\n",
              "    return {\n",
              "      response: {\n",
              "        action: 'complete',\n",
              "      }\n",
              "    };\n",
              "  }\n",
              "\n",
              "  for (const file of files) {\n",
              "    const li = document.createElement('li');\n",
              "    li.append(span(file.name, {fontWeight: 'bold'}));\n",
              "    li.append(span(\n",
              "        `(${file.type || 'n/a'}) - ${file.size} bytes, ` +\n",
              "        `last modified: ${\n",
              "            file.lastModifiedDate ? file.lastModifiedDate.toLocaleDateString() :\n",
              "                                    'n/a'} - `));\n",
              "    const percent = span('0% done');\n",
              "    li.appendChild(percent);\n",
              "\n",
              "    outputElement.appendChild(li);\n",
              "\n",
              "    const fileDataPromise = new Promise((resolve) => {\n",
              "      const reader = new FileReader();\n",
              "      reader.onload = (e) => {\n",
              "        resolve(e.target.result);\n",
              "      };\n",
              "      reader.readAsArrayBuffer(file);\n",
              "    });\n",
              "    // Wait for the data to be ready.\n",
              "    let fileData = yield {\n",
              "      promise: fileDataPromise,\n",
              "      response: {\n",
              "        action: 'continue',\n",
              "      }\n",
              "    };\n",
              "\n",
              "    // Use a chunked sending to avoid message size limits. See b/62115660.\n",
              "    let position = 0;\n",
              "    do {\n",
              "      const length = Math.min(fileData.byteLength - position, MAX_PAYLOAD_SIZE);\n",
              "      const chunk = new Uint8Array(fileData, position, length);\n",
              "      position += length;\n",
              "\n",
              "      const base64 = btoa(String.fromCharCode.apply(null, chunk));\n",
              "      yield {\n",
              "        response: {\n",
              "          action: 'append',\n",
              "          file: file.name,\n",
              "          data: base64,\n",
              "        },\n",
              "      };\n",
              "\n",
              "      let percentDone = fileData.byteLength === 0 ?\n",
              "          100 :\n",
              "          Math.round((position / fileData.byteLength) * 100);\n",
              "      percent.textContent = `${percentDone}% done`;\n",
              "\n",
              "    } while (position < fileData.byteLength);\n",
              "  }\n",
              "\n",
              "  // All done.\n",
              "  yield {\n",
              "    response: {\n",
              "      action: 'complete',\n",
              "    }\n",
              "  };\n",
              "}\n",
              "\n",
              "scope.google = scope.google || {};\n",
              "scope.google.colab = scope.google.colab || {};\n",
              "scope.google.colab._files = {\n",
              "  _uploadFiles,\n",
              "  _uploadFilesContinue,\n",
              "};\n",
              "})(self);\n",
              "</script> "
            ]
          },
          "metadata": {}
        },
        {
          "output_type": "stream",
          "name": "stdout",
          "text": [
            "Saving AfatinibTarget.csv to AfatinibTarget (1).csv\n"
          ]
        }
      ]
    },
    {
      "cell_type": "markdown",
      "source": [
        "##Data processing"
      ],
      "metadata": {
        "id": "tdQQlGGv6V2b"
      }
    },
    {
      "cell_type": "code",
      "source": [
        "dr=dr.drop(columns=['Unnamed: 0'])"
      ],
      "metadata": {
        "id": "WwMk2TNLr7Zd"
      },
      "execution_count": 15,
      "outputs": []
    },
    {
      "cell_type": "code",
      "source": [
        "target=target.drop(columns=['Unnamed: 0'])"
      ],
      "metadata": {
        "id": "iDXkCnOJr7Zd"
      },
      "execution_count": 16,
      "outputs": []
    },
    {
      "cell_type": "code",
      "source": [
        "full = pd.concat([dr, target], axis=1)"
      ],
      "metadata": {
        "id": "DJz-csFSJ-KL"
      },
      "execution_count": 17,
      "outputs": []
    },
    {
      "cell_type": "code",
      "source": [
        "full"
      ],
      "metadata": {
        "id": "IcC-9CQOLMAS",
        "colab": {
          "base_uri": "https://localhost:8080/",
          "height": 443
        },
        "outputId": "b9f512e1-b3a4-4e2b-e0b4-8ddcbe053052"
      },
      "execution_count": 18,
      "outputs": [
        {
          "output_type": "execute_result",
          "data": {
            "text/plain": [
              "     ENSG00000111206  ENSG00000254480  ENSG00000167881  ENSG00000118197  \\\n",
              "0              3.977            2.931            8.500            7.484   \n",
              "1              3.416            2.617            8.748            6.245   \n",
              "2              3.615            2.657            8.329            5.319   \n",
              "3              4.688            3.035            9.413            5.465   \n",
              "4              4.226            3.141            8.518            6.371   \n",
              "..               ...              ...              ...              ...   \n",
              "753            4.337            2.785            9.315            6.481   \n",
              "754            4.618            2.783            9.519            5.253   \n",
              "755            5.139            3.098            9.042            5.594   \n",
              "756            4.771            2.914            8.733            7.049   \n",
              "757            3.866            2.820            8.573            6.782   \n",
              "\n",
              "     ENSG00000140563  ENSG00000243660  ENSG00000100982  ENSG00000221837  \\\n",
              "0              3.631            3.289            3.473            3.343   \n",
              "1              3.723            3.199            4.084            3.413   \n",
              "2              3.144            2.910            3.789            3.245   \n",
              "3              3.661            2.689            3.714            3.351   \n",
              "4              3.125            3.220            3.781            3.035   \n",
              "..               ...              ...              ...              ...   \n",
              "753            5.616            3.549            3.663            3.269   \n",
              "754            4.241            3.486            2.971            3.050   \n",
              "755            3.103            2.863            3.381            3.281   \n",
              "756            4.227            3.110            5.858            3.437   \n",
              "757            3.507            2.998            3.233            3.855   \n",
              "\n",
              "     ENSG00000112983  ENSG00000196712       0  \n",
              "0              7.707            3.563   8.177  \n",
              "1              7.306            3.549   2.025  \n",
              "2              7.666            3.380   3.889  \n",
              "3              7.156            4.036   0.958  \n",
              "4              7.085            3.909   5.497  \n",
              "..               ...              ...     ...  \n",
              "753            7.706            3.840   0.981  \n",
              "754            8.010            3.982  15.951  \n",
              "755            7.735            3.655   5.745  \n",
              "756            7.678            3.938   4.960  \n",
              "757            7.526            3.330   0.073  \n",
              "\n",
              "[758 rows x 11 columns]"
            ],
            "text/html": [
              "\n",
              "  <div id=\"df-36393c2a-1808-4ee5-92ff-1077ac3c3251\" class=\"colab-df-container\">\n",
              "    <div>\n",
              "<style scoped>\n",
              "    .dataframe tbody tr th:only-of-type {\n",
              "        vertical-align: middle;\n",
              "    }\n",
              "\n",
              "    .dataframe tbody tr th {\n",
              "        vertical-align: top;\n",
              "    }\n",
              "\n",
              "    .dataframe thead th {\n",
              "        text-align: right;\n",
              "    }\n",
              "</style>\n",
              "<table border=\"1\" class=\"dataframe\">\n",
              "  <thead>\n",
              "    <tr style=\"text-align: right;\">\n",
              "      <th></th>\n",
              "      <th>ENSG00000111206</th>\n",
              "      <th>ENSG00000254480</th>\n",
              "      <th>ENSG00000167881</th>\n",
              "      <th>ENSG00000118197</th>\n",
              "      <th>ENSG00000140563</th>\n",
              "      <th>ENSG00000243660</th>\n",
              "      <th>ENSG00000100982</th>\n",
              "      <th>ENSG00000221837</th>\n",
              "      <th>ENSG00000112983</th>\n",
              "      <th>ENSG00000196712</th>\n",
              "      <th>0</th>\n",
              "    </tr>\n",
              "  </thead>\n",
              "  <tbody>\n",
              "    <tr>\n",
              "      <th>0</th>\n",
              "      <td>3.977</td>\n",
              "      <td>2.931</td>\n",
              "      <td>8.500</td>\n",
              "      <td>7.484</td>\n",
              "      <td>3.631</td>\n",
              "      <td>3.289</td>\n",
              "      <td>3.473</td>\n",
              "      <td>3.343</td>\n",
              "      <td>7.707</td>\n",
              "      <td>3.563</td>\n",
              "      <td>8.177</td>\n",
              "    </tr>\n",
              "    <tr>\n",
              "      <th>1</th>\n",
              "      <td>3.416</td>\n",
              "      <td>2.617</td>\n",
              "      <td>8.748</td>\n",
              "      <td>6.245</td>\n",
              "      <td>3.723</td>\n",
              "      <td>3.199</td>\n",
              "      <td>4.084</td>\n",
              "      <td>3.413</td>\n",
              "      <td>7.306</td>\n",
              "      <td>3.549</td>\n",
              "      <td>2.025</td>\n",
              "    </tr>\n",
              "    <tr>\n",
              "      <th>2</th>\n",
              "      <td>3.615</td>\n",
              "      <td>2.657</td>\n",
              "      <td>8.329</td>\n",
              "      <td>5.319</td>\n",
              "      <td>3.144</td>\n",
              "      <td>2.910</td>\n",
              "      <td>3.789</td>\n",
              "      <td>3.245</td>\n",
              "      <td>7.666</td>\n",
              "      <td>3.380</td>\n",
              "      <td>3.889</td>\n",
              "    </tr>\n",
              "    <tr>\n",
              "      <th>3</th>\n",
              "      <td>4.688</td>\n",
              "      <td>3.035</td>\n",
              "      <td>9.413</td>\n",
              "      <td>5.465</td>\n",
              "      <td>3.661</td>\n",
              "      <td>2.689</td>\n",
              "      <td>3.714</td>\n",
              "      <td>3.351</td>\n",
              "      <td>7.156</td>\n",
              "      <td>4.036</td>\n",
              "      <td>0.958</td>\n",
              "    </tr>\n",
              "    <tr>\n",
              "      <th>4</th>\n",
              "      <td>4.226</td>\n",
              "      <td>3.141</td>\n",
              "      <td>8.518</td>\n",
              "      <td>6.371</td>\n",
              "      <td>3.125</td>\n",
              "      <td>3.220</td>\n",
              "      <td>3.781</td>\n",
              "      <td>3.035</td>\n",
              "      <td>7.085</td>\n",
              "      <td>3.909</td>\n",
              "      <td>5.497</td>\n",
              "    </tr>\n",
              "    <tr>\n",
              "      <th>...</th>\n",
              "      <td>...</td>\n",
              "      <td>...</td>\n",
              "      <td>...</td>\n",
              "      <td>...</td>\n",
              "      <td>...</td>\n",
              "      <td>...</td>\n",
              "      <td>...</td>\n",
              "      <td>...</td>\n",
              "      <td>...</td>\n",
              "      <td>...</td>\n",
              "      <td>...</td>\n",
              "    </tr>\n",
              "    <tr>\n",
              "      <th>753</th>\n",
              "      <td>4.337</td>\n",
              "      <td>2.785</td>\n",
              "      <td>9.315</td>\n",
              "      <td>6.481</td>\n",
              "      <td>5.616</td>\n",
              "      <td>3.549</td>\n",
              "      <td>3.663</td>\n",
              "      <td>3.269</td>\n",
              "      <td>7.706</td>\n",
              "      <td>3.840</td>\n",
              "      <td>0.981</td>\n",
              "    </tr>\n",
              "    <tr>\n",
              "      <th>754</th>\n",
              "      <td>4.618</td>\n",
              "      <td>2.783</td>\n",
              "      <td>9.519</td>\n",
              "      <td>5.253</td>\n",
              "      <td>4.241</td>\n",
              "      <td>3.486</td>\n",
              "      <td>2.971</td>\n",
              "      <td>3.050</td>\n",
              "      <td>8.010</td>\n",
              "      <td>3.982</td>\n",
              "      <td>15.951</td>\n",
              "    </tr>\n",
              "    <tr>\n",
              "      <th>755</th>\n",
              "      <td>5.139</td>\n",
              "      <td>3.098</td>\n",
              "      <td>9.042</td>\n",
              "      <td>5.594</td>\n",
              "      <td>3.103</td>\n",
              "      <td>2.863</td>\n",
              "      <td>3.381</td>\n",
              "      <td>3.281</td>\n",
              "      <td>7.735</td>\n",
              "      <td>3.655</td>\n",
              "      <td>5.745</td>\n",
              "    </tr>\n",
              "    <tr>\n",
              "      <th>756</th>\n",
              "      <td>4.771</td>\n",
              "      <td>2.914</td>\n",
              "      <td>8.733</td>\n",
              "      <td>7.049</td>\n",
              "      <td>4.227</td>\n",
              "      <td>3.110</td>\n",
              "      <td>5.858</td>\n",
              "      <td>3.437</td>\n",
              "      <td>7.678</td>\n",
              "      <td>3.938</td>\n",
              "      <td>4.960</td>\n",
              "    </tr>\n",
              "    <tr>\n",
              "      <th>757</th>\n",
              "      <td>3.866</td>\n",
              "      <td>2.820</td>\n",
              "      <td>8.573</td>\n",
              "      <td>6.782</td>\n",
              "      <td>3.507</td>\n",
              "      <td>2.998</td>\n",
              "      <td>3.233</td>\n",
              "      <td>3.855</td>\n",
              "      <td>7.526</td>\n",
              "      <td>3.330</td>\n",
              "      <td>0.073</td>\n",
              "    </tr>\n",
              "  </tbody>\n",
              "</table>\n",
              "<p>758 rows × 11 columns</p>\n",
              "</div>\n",
              "    <div class=\"colab-df-buttons\">\n",
              "\n",
              "  <div class=\"colab-df-container\">\n",
              "    <button class=\"colab-df-convert\" onclick=\"convertToInteractive('df-36393c2a-1808-4ee5-92ff-1077ac3c3251')\"\n",
              "            title=\"Convert this dataframe to an interactive table.\"\n",
              "            style=\"display:none;\">\n",
              "\n",
              "  <svg xmlns=\"http://www.w3.org/2000/svg\" height=\"24px\" viewBox=\"0 -960 960 960\">\n",
              "    <path d=\"M120-120v-720h720v720H120Zm60-500h600v-160H180v160Zm220 220h160v-160H400v160Zm0 220h160v-160H400v160ZM180-400h160v-160H180v160Zm440 0h160v-160H620v160ZM180-180h160v-160H180v160Zm440 0h160v-160H620v160Z\"/>\n",
              "  </svg>\n",
              "    </button>\n",
              "\n",
              "  <style>\n",
              "    .colab-df-container {\n",
              "      display:flex;\n",
              "      gap: 12px;\n",
              "    }\n",
              "\n",
              "    .colab-df-convert {\n",
              "      background-color: #E8F0FE;\n",
              "      border: none;\n",
              "      border-radius: 50%;\n",
              "      cursor: pointer;\n",
              "      display: none;\n",
              "      fill: #1967D2;\n",
              "      height: 32px;\n",
              "      padding: 0 0 0 0;\n",
              "      width: 32px;\n",
              "    }\n",
              "\n",
              "    .colab-df-convert:hover {\n",
              "      background-color: #E2EBFA;\n",
              "      box-shadow: 0px 1px 2px rgba(60, 64, 67, 0.3), 0px 1px 3px 1px rgba(60, 64, 67, 0.15);\n",
              "      fill: #174EA6;\n",
              "    }\n",
              "\n",
              "    .colab-df-buttons div {\n",
              "      margin-bottom: 4px;\n",
              "    }\n",
              "\n",
              "    [theme=dark] .colab-df-convert {\n",
              "      background-color: #3B4455;\n",
              "      fill: #D2E3FC;\n",
              "    }\n",
              "\n",
              "    [theme=dark] .colab-df-convert:hover {\n",
              "      background-color: #434B5C;\n",
              "      box-shadow: 0px 1px 3px 1px rgba(0, 0, 0, 0.15);\n",
              "      filter: drop-shadow(0px 1px 2px rgba(0, 0, 0, 0.3));\n",
              "      fill: #FFFFFF;\n",
              "    }\n",
              "  </style>\n",
              "\n",
              "    <script>\n",
              "      const buttonEl =\n",
              "        document.querySelector('#df-36393c2a-1808-4ee5-92ff-1077ac3c3251 button.colab-df-convert');\n",
              "      buttonEl.style.display =\n",
              "        google.colab.kernel.accessAllowed ? 'block' : 'none';\n",
              "\n",
              "      async function convertToInteractive(key) {\n",
              "        const element = document.querySelector('#df-36393c2a-1808-4ee5-92ff-1077ac3c3251');\n",
              "        const dataTable =\n",
              "          await google.colab.kernel.invokeFunction('convertToInteractive',\n",
              "                                                    [key], {});\n",
              "        if (!dataTable) return;\n",
              "\n",
              "        const docLinkHtml = 'Like what you see? Visit the ' +\n",
              "          '<a target=\"_blank\" href=https://colab.research.google.com/notebooks/data_table.ipynb>data table notebook</a>'\n",
              "          + ' to learn more about interactive tables.';\n",
              "        element.innerHTML = '';\n",
              "        dataTable['output_type'] = 'display_data';\n",
              "        await google.colab.output.renderOutput(dataTable, element);\n",
              "        const docLink = document.createElement('div');\n",
              "        docLink.innerHTML = docLinkHtml;\n",
              "        element.appendChild(docLink);\n",
              "      }\n",
              "    </script>\n",
              "  </div>\n",
              "\n",
              "\n",
              "<div id=\"df-3bf6012f-bd1e-41fc-bfb5-29d1a5bff291\">\n",
              "  <button class=\"colab-df-quickchart\" onclick=\"quickchart('df-3bf6012f-bd1e-41fc-bfb5-29d1a5bff291')\"\n",
              "            title=\"Suggest charts.\"\n",
              "            style=\"display:none;\">\n",
              "\n",
              "<svg xmlns=\"http://www.w3.org/2000/svg\" height=\"24px\"viewBox=\"0 0 24 24\"\n",
              "     width=\"24px\">\n",
              "    <g>\n",
              "        <path d=\"M19 3H5c-1.1 0-2 .9-2 2v14c0 1.1.9 2 2 2h14c1.1 0 2-.9 2-2V5c0-1.1-.9-2-2-2zM9 17H7v-7h2v7zm4 0h-2V7h2v10zm4 0h-2v-4h2v4z\"/>\n",
              "    </g>\n",
              "</svg>\n",
              "  </button>\n",
              "\n",
              "<style>\n",
              "  .colab-df-quickchart {\n",
              "      --bg-color: #E8F0FE;\n",
              "      --fill-color: #1967D2;\n",
              "      --hover-bg-color: #E2EBFA;\n",
              "      --hover-fill-color: #174EA6;\n",
              "      --disabled-fill-color: #AAA;\n",
              "      --disabled-bg-color: #DDD;\n",
              "  }\n",
              "\n",
              "  [theme=dark] .colab-df-quickchart {\n",
              "      --bg-color: #3B4455;\n",
              "      --fill-color: #D2E3FC;\n",
              "      --hover-bg-color: #434B5C;\n",
              "      --hover-fill-color: #FFFFFF;\n",
              "      --disabled-bg-color: #3B4455;\n",
              "      --disabled-fill-color: #666;\n",
              "  }\n",
              "\n",
              "  .colab-df-quickchart {\n",
              "    background-color: var(--bg-color);\n",
              "    border: none;\n",
              "    border-radius: 50%;\n",
              "    cursor: pointer;\n",
              "    display: none;\n",
              "    fill: var(--fill-color);\n",
              "    height: 32px;\n",
              "    padding: 0;\n",
              "    width: 32px;\n",
              "  }\n",
              "\n",
              "  .colab-df-quickchart:hover {\n",
              "    background-color: var(--hover-bg-color);\n",
              "    box-shadow: 0 1px 2px rgba(60, 64, 67, 0.3), 0 1px 3px 1px rgba(60, 64, 67, 0.15);\n",
              "    fill: var(--button-hover-fill-color);\n",
              "  }\n",
              "\n",
              "  .colab-df-quickchart-complete:disabled,\n",
              "  .colab-df-quickchart-complete:disabled:hover {\n",
              "    background-color: var(--disabled-bg-color);\n",
              "    fill: var(--disabled-fill-color);\n",
              "    box-shadow: none;\n",
              "  }\n",
              "\n",
              "  .colab-df-spinner {\n",
              "    border: 2px solid var(--fill-color);\n",
              "    border-color: transparent;\n",
              "    border-bottom-color: var(--fill-color);\n",
              "    animation:\n",
              "      spin 1s steps(1) infinite;\n",
              "  }\n",
              "\n",
              "  @keyframes spin {\n",
              "    0% {\n",
              "      border-color: transparent;\n",
              "      border-bottom-color: var(--fill-color);\n",
              "      border-left-color: var(--fill-color);\n",
              "    }\n",
              "    20% {\n",
              "      border-color: transparent;\n",
              "      border-left-color: var(--fill-color);\n",
              "      border-top-color: var(--fill-color);\n",
              "    }\n",
              "    30% {\n",
              "      border-color: transparent;\n",
              "      border-left-color: var(--fill-color);\n",
              "      border-top-color: var(--fill-color);\n",
              "      border-right-color: var(--fill-color);\n",
              "    }\n",
              "    40% {\n",
              "      border-color: transparent;\n",
              "      border-right-color: var(--fill-color);\n",
              "      border-top-color: var(--fill-color);\n",
              "    }\n",
              "    60% {\n",
              "      border-color: transparent;\n",
              "      border-right-color: var(--fill-color);\n",
              "    }\n",
              "    80% {\n",
              "      border-color: transparent;\n",
              "      border-right-color: var(--fill-color);\n",
              "      border-bottom-color: var(--fill-color);\n",
              "    }\n",
              "    90% {\n",
              "      border-color: transparent;\n",
              "      border-bottom-color: var(--fill-color);\n",
              "    }\n",
              "  }\n",
              "</style>\n",
              "\n",
              "  <script>\n",
              "    async function quickchart(key) {\n",
              "      const quickchartButtonEl =\n",
              "        document.querySelector('#' + key + ' button');\n",
              "      quickchartButtonEl.disabled = true;  // To prevent multiple clicks.\n",
              "      quickchartButtonEl.classList.add('colab-df-spinner');\n",
              "      try {\n",
              "        const charts = await google.colab.kernel.invokeFunction(\n",
              "            'suggestCharts', [key], {});\n",
              "      } catch (error) {\n",
              "        console.error('Error during call to suggestCharts:', error);\n",
              "      }\n",
              "      quickchartButtonEl.classList.remove('colab-df-spinner');\n",
              "      quickchartButtonEl.classList.add('colab-df-quickchart-complete');\n",
              "    }\n",
              "    (() => {\n",
              "      let quickchartButtonEl =\n",
              "        document.querySelector('#df-3bf6012f-bd1e-41fc-bfb5-29d1a5bff291 button');\n",
              "      quickchartButtonEl.style.display =\n",
              "        google.colab.kernel.accessAllowed ? 'block' : 'none';\n",
              "    })();\n",
              "  </script>\n",
              "</div>\n",
              "    </div>\n",
              "  </div>\n"
            ]
          },
          "metadata": {},
          "execution_count": 18
        }
      ]
    },
    {
      "cell_type": "markdown",
      "source": [
        "Rename target column"
      ],
      "metadata": {
        "id": "VWd7iJwG6QQZ"
      }
    },
    {
      "cell_type": "code",
      "source": [
        "full.rename(columns={'0': 'cell'}, inplace=True)"
      ],
      "metadata": {
        "id": "tX_ft6mEsDEG"
      },
      "execution_count": 19,
      "outputs": []
    },
    {
      "cell_type": "code",
      "source": [
        "full.sort_values(by='cell')"
      ],
      "metadata": {
        "id": "amGPezlAB4_C",
        "colab": {
          "base_uri": "https://localhost:8080/",
          "height": 443
        },
        "outputId": "77ef4a94-c728-467a-fd58-ccc638a8b706"
      },
      "execution_count": 20,
      "outputs": [
        {
          "output_type": "execute_result",
          "data": {
            "text/plain": [
              "     ENSG00000111206  ENSG00000254480  ENSG00000167881  ENSG00000118197  \\\n",
              "127            4.536            2.699            8.796            5.682   \n",
              "220            3.280            2.729            9.246            6.311   \n",
              "626            4.705            3.217            8.506            6.137   \n",
              "517            3.648            3.381            8.729            4.875   \n",
              "214            3.485            2.964            8.987            6.434   \n",
              "..               ...              ...              ...              ...   \n",
              "475            5.022            2.833            8.905            6.511   \n",
              "100            5.426            2.804            9.295            6.387   \n",
              "570            7.160            2.717            9.067            6.265   \n",
              "420            5.400            2.734            8.724            5.112   \n",
              "692            6.691            3.248            8.067            7.878   \n",
              "\n",
              "     ENSG00000140563  ENSG00000243660  ENSG00000100982  ENSG00000221837  \\\n",
              "127            3.801            3.156            3.996            3.570   \n",
              "220            3.611            3.154            3.645            3.826   \n",
              "626            3.338            2.730            3.649            3.739   \n",
              "517            3.831            3.388            3.238            3.493   \n",
              "214            3.575            3.582            3.391            3.184   \n",
              "..               ...              ...              ...              ...   \n",
              "475            3.539            2.866            3.231            3.217   \n",
              "100            3.636            3.066            3.815            3.409   \n",
              "570            3.249            2.951            3.377            3.280   \n",
              "420            3.238            3.025            3.148            3.255   \n",
              "692            4.943            3.697            4.221            3.816   \n",
              "\n",
              "     ENSG00000112983  ENSG00000196712          cell  \n",
              "127            6.431            3.605  0.000000e+00  \n",
              "220            7.074            3.561  2.000000e-03  \n",
              "626            6.389            3.715  4.000000e-03  \n",
              "517            7.699            3.935  5.000000e-03  \n",
              "214            7.600            3.638  1.300000e-02  \n",
              "..               ...              ...           ...  \n",
              "475            8.193            3.988  8.014101e+03  \n",
              "100            7.250            5.041  2.030487e+04  \n",
              "570            6.718            3.423  4.292898e+04  \n",
              "420            7.594            3.859  1.133601e+05  \n",
              "692            8.784            4.348  7.205995e+24  \n",
              "\n",
              "[758 rows x 11 columns]"
            ],
            "text/html": [
              "\n",
              "  <div id=\"df-804981ff-cde7-4ca2-84b5-e179c42a1170\" class=\"colab-df-container\">\n",
              "    <div>\n",
              "<style scoped>\n",
              "    .dataframe tbody tr th:only-of-type {\n",
              "        vertical-align: middle;\n",
              "    }\n",
              "\n",
              "    .dataframe tbody tr th {\n",
              "        vertical-align: top;\n",
              "    }\n",
              "\n",
              "    .dataframe thead th {\n",
              "        text-align: right;\n",
              "    }\n",
              "</style>\n",
              "<table border=\"1\" class=\"dataframe\">\n",
              "  <thead>\n",
              "    <tr style=\"text-align: right;\">\n",
              "      <th></th>\n",
              "      <th>ENSG00000111206</th>\n",
              "      <th>ENSG00000254480</th>\n",
              "      <th>ENSG00000167881</th>\n",
              "      <th>ENSG00000118197</th>\n",
              "      <th>ENSG00000140563</th>\n",
              "      <th>ENSG00000243660</th>\n",
              "      <th>ENSG00000100982</th>\n",
              "      <th>ENSG00000221837</th>\n",
              "      <th>ENSG00000112983</th>\n",
              "      <th>ENSG00000196712</th>\n",
              "      <th>cell</th>\n",
              "    </tr>\n",
              "  </thead>\n",
              "  <tbody>\n",
              "    <tr>\n",
              "      <th>127</th>\n",
              "      <td>4.536</td>\n",
              "      <td>2.699</td>\n",
              "      <td>8.796</td>\n",
              "      <td>5.682</td>\n",
              "      <td>3.801</td>\n",
              "      <td>3.156</td>\n",
              "      <td>3.996</td>\n",
              "      <td>3.570</td>\n",
              "      <td>6.431</td>\n",
              "      <td>3.605</td>\n",
              "      <td>0.000000e+00</td>\n",
              "    </tr>\n",
              "    <tr>\n",
              "      <th>220</th>\n",
              "      <td>3.280</td>\n",
              "      <td>2.729</td>\n",
              "      <td>9.246</td>\n",
              "      <td>6.311</td>\n",
              "      <td>3.611</td>\n",
              "      <td>3.154</td>\n",
              "      <td>3.645</td>\n",
              "      <td>3.826</td>\n",
              "      <td>7.074</td>\n",
              "      <td>3.561</td>\n",
              "      <td>2.000000e-03</td>\n",
              "    </tr>\n",
              "    <tr>\n",
              "      <th>626</th>\n",
              "      <td>4.705</td>\n",
              "      <td>3.217</td>\n",
              "      <td>8.506</td>\n",
              "      <td>6.137</td>\n",
              "      <td>3.338</td>\n",
              "      <td>2.730</td>\n",
              "      <td>3.649</td>\n",
              "      <td>3.739</td>\n",
              "      <td>6.389</td>\n",
              "      <td>3.715</td>\n",
              "      <td>4.000000e-03</td>\n",
              "    </tr>\n",
              "    <tr>\n",
              "      <th>517</th>\n",
              "      <td>3.648</td>\n",
              "      <td>3.381</td>\n",
              "      <td>8.729</td>\n",
              "      <td>4.875</td>\n",
              "      <td>3.831</td>\n",
              "      <td>3.388</td>\n",
              "      <td>3.238</td>\n",
              "      <td>3.493</td>\n",
              "      <td>7.699</td>\n",
              "      <td>3.935</td>\n",
              "      <td>5.000000e-03</td>\n",
              "    </tr>\n",
              "    <tr>\n",
              "      <th>214</th>\n",
              "      <td>3.485</td>\n",
              "      <td>2.964</td>\n",
              "      <td>8.987</td>\n",
              "      <td>6.434</td>\n",
              "      <td>3.575</td>\n",
              "      <td>3.582</td>\n",
              "      <td>3.391</td>\n",
              "      <td>3.184</td>\n",
              "      <td>7.600</td>\n",
              "      <td>3.638</td>\n",
              "      <td>1.300000e-02</td>\n",
              "    </tr>\n",
              "    <tr>\n",
              "      <th>...</th>\n",
              "      <td>...</td>\n",
              "      <td>...</td>\n",
              "      <td>...</td>\n",
              "      <td>...</td>\n",
              "      <td>...</td>\n",
              "      <td>...</td>\n",
              "      <td>...</td>\n",
              "      <td>...</td>\n",
              "      <td>...</td>\n",
              "      <td>...</td>\n",
              "      <td>...</td>\n",
              "    </tr>\n",
              "    <tr>\n",
              "      <th>475</th>\n",
              "      <td>5.022</td>\n",
              "      <td>2.833</td>\n",
              "      <td>8.905</td>\n",
              "      <td>6.511</td>\n",
              "      <td>3.539</td>\n",
              "      <td>2.866</td>\n",
              "      <td>3.231</td>\n",
              "      <td>3.217</td>\n",
              "      <td>8.193</td>\n",
              "      <td>3.988</td>\n",
              "      <td>8.014101e+03</td>\n",
              "    </tr>\n",
              "    <tr>\n",
              "      <th>100</th>\n",
              "      <td>5.426</td>\n",
              "      <td>2.804</td>\n",
              "      <td>9.295</td>\n",
              "      <td>6.387</td>\n",
              "      <td>3.636</td>\n",
              "      <td>3.066</td>\n",
              "      <td>3.815</td>\n",
              "      <td>3.409</td>\n",
              "      <td>7.250</td>\n",
              "      <td>5.041</td>\n",
              "      <td>2.030487e+04</td>\n",
              "    </tr>\n",
              "    <tr>\n",
              "      <th>570</th>\n",
              "      <td>7.160</td>\n",
              "      <td>2.717</td>\n",
              "      <td>9.067</td>\n",
              "      <td>6.265</td>\n",
              "      <td>3.249</td>\n",
              "      <td>2.951</td>\n",
              "      <td>3.377</td>\n",
              "      <td>3.280</td>\n",
              "      <td>6.718</td>\n",
              "      <td>3.423</td>\n",
              "      <td>4.292898e+04</td>\n",
              "    </tr>\n",
              "    <tr>\n",
              "      <th>420</th>\n",
              "      <td>5.400</td>\n",
              "      <td>2.734</td>\n",
              "      <td>8.724</td>\n",
              "      <td>5.112</td>\n",
              "      <td>3.238</td>\n",
              "      <td>3.025</td>\n",
              "      <td>3.148</td>\n",
              "      <td>3.255</td>\n",
              "      <td>7.594</td>\n",
              "      <td>3.859</td>\n",
              "      <td>1.133601e+05</td>\n",
              "    </tr>\n",
              "    <tr>\n",
              "      <th>692</th>\n",
              "      <td>6.691</td>\n",
              "      <td>3.248</td>\n",
              "      <td>8.067</td>\n",
              "      <td>7.878</td>\n",
              "      <td>4.943</td>\n",
              "      <td>3.697</td>\n",
              "      <td>4.221</td>\n",
              "      <td>3.816</td>\n",
              "      <td>8.784</td>\n",
              "      <td>4.348</td>\n",
              "      <td>7.205995e+24</td>\n",
              "    </tr>\n",
              "  </tbody>\n",
              "</table>\n",
              "<p>758 rows × 11 columns</p>\n",
              "</div>\n",
              "    <div class=\"colab-df-buttons\">\n",
              "\n",
              "  <div class=\"colab-df-container\">\n",
              "    <button class=\"colab-df-convert\" onclick=\"convertToInteractive('df-804981ff-cde7-4ca2-84b5-e179c42a1170')\"\n",
              "            title=\"Convert this dataframe to an interactive table.\"\n",
              "            style=\"display:none;\">\n",
              "\n",
              "  <svg xmlns=\"http://www.w3.org/2000/svg\" height=\"24px\" viewBox=\"0 -960 960 960\">\n",
              "    <path d=\"M120-120v-720h720v720H120Zm60-500h600v-160H180v160Zm220 220h160v-160H400v160Zm0 220h160v-160H400v160ZM180-400h160v-160H180v160Zm440 0h160v-160H620v160ZM180-180h160v-160H180v160Zm440 0h160v-160H620v160Z\"/>\n",
              "  </svg>\n",
              "    </button>\n",
              "\n",
              "  <style>\n",
              "    .colab-df-container {\n",
              "      display:flex;\n",
              "      gap: 12px;\n",
              "    }\n",
              "\n",
              "    .colab-df-convert {\n",
              "      background-color: #E8F0FE;\n",
              "      border: none;\n",
              "      border-radius: 50%;\n",
              "      cursor: pointer;\n",
              "      display: none;\n",
              "      fill: #1967D2;\n",
              "      height: 32px;\n",
              "      padding: 0 0 0 0;\n",
              "      width: 32px;\n",
              "    }\n",
              "\n",
              "    .colab-df-convert:hover {\n",
              "      background-color: #E2EBFA;\n",
              "      box-shadow: 0px 1px 2px rgba(60, 64, 67, 0.3), 0px 1px 3px 1px rgba(60, 64, 67, 0.15);\n",
              "      fill: #174EA6;\n",
              "    }\n",
              "\n",
              "    .colab-df-buttons div {\n",
              "      margin-bottom: 4px;\n",
              "    }\n",
              "\n",
              "    [theme=dark] .colab-df-convert {\n",
              "      background-color: #3B4455;\n",
              "      fill: #D2E3FC;\n",
              "    }\n",
              "\n",
              "    [theme=dark] .colab-df-convert:hover {\n",
              "      background-color: #434B5C;\n",
              "      box-shadow: 0px 1px 3px 1px rgba(0, 0, 0, 0.15);\n",
              "      filter: drop-shadow(0px 1px 2px rgba(0, 0, 0, 0.3));\n",
              "      fill: #FFFFFF;\n",
              "    }\n",
              "  </style>\n",
              "\n",
              "    <script>\n",
              "      const buttonEl =\n",
              "        document.querySelector('#df-804981ff-cde7-4ca2-84b5-e179c42a1170 button.colab-df-convert');\n",
              "      buttonEl.style.display =\n",
              "        google.colab.kernel.accessAllowed ? 'block' : 'none';\n",
              "\n",
              "      async function convertToInteractive(key) {\n",
              "        const element = document.querySelector('#df-804981ff-cde7-4ca2-84b5-e179c42a1170');\n",
              "        const dataTable =\n",
              "          await google.colab.kernel.invokeFunction('convertToInteractive',\n",
              "                                                    [key], {});\n",
              "        if (!dataTable) return;\n",
              "\n",
              "        const docLinkHtml = 'Like what you see? Visit the ' +\n",
              "          '<a target=\"_blank\" href=https://colab.research.google.com/notebooks/data_table.ipynb>data table notebook</a>'\n",
              "          + ' to learn more about interactive tables.';\n",
              "        element.innerHTML = '';\n",
              "        dataTable['output_type'] = 'display_data';\n",
              "        await google.colab.output.renderOutput(dataTable, element);\n",
              "        const docLink = document.createElement('div');\n",
              "        docLink.innerHTML = docLinkHtml;\n",
              "        element.appendChild(docLink);\n",
              "      }\n",
              "    </script>\n",
              "  </div>\n",
              "\n",
              "\n",
              "<div id=\"df-692cbf8b-0f6f-4ee4-81e5-1c5c48570128\">\n",
              "  <button class=\"colab-df-quickchart\" onclick=\"quickchart('df-692cbf8b-0f6f-4ee4-81e5-1c5c48570128')\"\n",
              "            title=\"Suggest charts.\"\n",
              "            style=\"display:none;\">\n",
              "\n",
              "<svg xmlns=\"http://www.w3.org/2000/svg\" height=\"24px\"viewBox=\"0 0 24 24\"\n",
              "     width=\"24px\">\n",
              "    <g>\n",
              "        <path d=\"M19 3H5c-1.1 0-2 .9-2 2v14c0 1.1.9 2 2 2h14c1.1 0 2-.9 2-2V5c0-1.1-.9-2-2-2zM9 17H7v-7h2v7zm4 0h-2V7h2v10zm4 0h-2v-4h2v4z\"/>\n",
              "    </g>\n",
              "</svg>\n",
              "  </button>\n",
              "\n",
              "<style>\n",
              "  .colab-df-quickchart {\n",
              "      --bg-color: #E8F0FE;\n",
              "      --fill-color: #1967D2;\n",
              "      --hover-bg-color: #E2EBFA;\n",
              "      --hover-fill-color: #174EA6;\n",
              "      --disabled-fill-color: #AAA;\n",
              "      --disabled-bg-color: #DDD;\n",
              "  }\n",
              "\n",
              "  [theme=dark] .colab-df-quickchart {\n",
              "      --bg-color: #3B4455;\n",
              "      --fill-color: #D2E3FC;\n",
              "      --hover-bg-color: #434B5C;\n",
              "      --hover-fill-color: #FFFFFF;\n",
              "      --disabled-bg-color: #3B4455;\n",
              "      --disabled-fill-color: #666;\n",
              "  }\n",
              "\n",
              "  .colab-df-quickchart {\n",
              "    background-color: var(--bg-color);\n",
              "    border: none;\n",
              "    border-radius: 50%;\n",
              "    cursor: pointer;\n",
              "    display: none;\n",
              "    fill: var(--fill-color);\n",
              "    height: 32px;\n",
              "    padding: 0;\n",
              "    width: 32px;\n",
              "  }\n",
              "\n",
              "  .colab-df-quickchart:hover {\n",
              "    background-color: var(--hover-bg-color);\n",
              "    box-shadow: 0 1px 2px rgba(60, 64, 67, 0.3), 0 1px 3px 1px rgba(60, 64, 67, 0.15);\n",
              "    fill: var(--button-hover-fill-color);\n",
              "  }\n",
              "\n",
              "  .colab-df-quickchart-complete:disabled,\n",
              "  .colab-df-quickchart-complete:disabled:hover {\n",
              "    background-color: var(--disabled-bg-color);\n",
              "    fill: var(--disabled-fill-color);\n",
              "    box-shadow: none;\n",
              "  }\n",
              "\n",
              "  .colab-df-spinner {\n",
              "    border: 2px solid var(--fill-color);\n",
              "    border-color: transparent;\n",
              "    border-bottom-color: var(--fill-color);\n",
              "    animation:\n",
              "      spin 1s steps(1) infinite;\n",
              "  }\n",
              "\n",
              "  @keyframes spin {\n",
              "    0% {\n",
              "      border-color: transparent;\n",
              "      border-bottom-color: var(--fill-color);\n",
              "      border-left-color: var(--fill-color);\n",
              "    }\n",
              "    20% {\n",
              "      border-color: transparent;\n",
              "      border-left-color: var(--fill-color);\n",
              "      border-top-color: var(--fill-color);\n",
              "    }\n",
              "    30% {\n",
              "      border-color: transparent;\n",
              "      border-left-color: var(--fill-color);\n",
              "      border-top-color: var(--fill-color);\n",
              "      border-right-color: var(--fill-color);\n",
              "    }\n",
              "    40% {\n",
              "      border-color: transparent;\n",
              "      border-right-color: var(--fill-color);\n",
              "      border-top-color: var(--fill-color);\n",
              "    }\n",
              "    60% {\n",
              "      border-color: transparent;\n",
              "      border-right-color: var(--fill-color);\n",
              "    }\n",
              "    80% {\n",
              "      border-color: transparent;\n",
              "      border-right-color: var(--fill-color);\n",
              "      border-bottom-color: var(--fill-color);\n",
              "    }\n",
              "    90% {\n",
              "      border-color: transparent;\n",
              "      border-bottom-color: var(--fill-color);\n",
              "    }\n",
              "  }\n",
              "</style>\n",
              "\n",
              "  <script>\n",
              "    async function quickchart(key) {\n",
              "      const quickchartButtonEl =\n",
              "        document.querySelector('#' + key + ' button');\n",
              "      quickchartButtonEl.disabled = true;  // To prevent multiple clicks.\n",
              "      quickchartButtonEl.classList.add('colab-df-spinner');\n",
              "      try {\n",
              "        const charts = await google.colab.kernel.invokeFunction(\n",
              "            'suggestCharts', [key], {});\n",
              "      } catch (error) {\n",
              "        console.error('Error during call to suggestCharts:', error);\n",
              "      }\n",
              "      quickchartButtonEl.classList.remove('colab-df-spinner');\n",
              "      quickchartButtonEl.classList.add('colab-df-quickchart-complete');\n",
              "    }\n",
              "    (() => {\n",
              "      let quickchartButtonEl =\n",
              "        document.querySelector('#df-692cbf8b-0f6f-4ee4-81e5-1c5c48570128 button');\n",
              "      quickchartButtonEl.style.display =\n",
              "        google.colab.kernel.accessAllowed ? 'block' : 'none';\n",
              "    })();\n",
              "  </script>\n",
              "</div>\n",
              "    </div>\n",
              "  </div>\n"
            ]
          },
          "metadata": {},
          "execution_count": 20
        }
      ]
    },
    {
      "cell_type": "code",
      "source": [
        "full = full.iloc[:-30].copy()"
      ],
      "metadata": {
        "id": "KXqz5d8ZAaXi"
      },
      "execution_count": 21,
      "outputs": []
    },
    {
      "cell_type": "markdown",
      "source": [
        "# Handle outliers"
      ],
      "metadata": {
        "id": "je7R9lS08Hio"
      }
    },
    {
      "cell_type": "markdown",
      "source": [
        "## Fix outiers Z-scores"
      ],
      "metadata": {
        "id": "Rbe1mH0qsLuS"
      }
    },
    {
      "cell_type": "code",
      "source": [
        "sns.boxplot(x=full.cell)"
      ],
      "metadata": {
        "id": "S1ql1KyyljpD",
        "colab": {
          "base_uri": "https://localhost:8080/",
          "height": 466
        },
        "outputId": "88ab2dad-06bd-47cb-c4eb-55bae50ef314"
      },
      "execution_count": 27,
      "outputs": [
        {
          "output_type": "execute_result",
          "data": {
            "text/plain": [
              "<Axes: xlabel='cell'>"
            ]
          },
          "metadata": {},
          "execution_count": 27
        },
        {
          "output_type": "display_data",
          "data": {
            "text/plain": [
              "<Figure size 640x480 with 1 Axes>"
            ],
            "image/png": "[encoded data removed]"
          },
          "metadata": {}
        }
      ]
    },
    {
      "cell_type": "code",
      "source": [
        "target = np.array(full.cell)\n",
        "\n",
        "# Calculate Z-scores for target variable\n",
        "z_scores = (target - np.mean(target)) / np.std(target)\n",
        "\n",
        "# Set threshold for Z-score values\n",
        "threshold = 3\n",
        "outlier_indices = np.where(np.abs(z_scores) > threshold)[0]\n",
        "\n",
        "# Remove outliers from target variable\n",
        "target = np.delete(target, outlier_indices)\n",
        "print(f\"Initial target variable shape: {full.cell.shape}\")\n",
        "print(f\"Target variable shape after removing outliers: {target.shape}\")"
      ],
      "metadata": {
        "id": "bTD7lCxOs4Gt",
        "colab": {
          "base_uri": "https://localhost:8080/"
        },
        "outputId": "db0999ca-29ef-48c1-d1a8-503036b18203"
      },
      "execution_count": 28,
      "outputs": [
        {
          "output_type": "stream",
          "name": "stdout",
          "text": [
            "Initial target variable shape: (727,)\n",
            "Target variable shape after removing outliers: (724,)\n"
          ]
        }
      ]
    },
    {
      "cell_type": "code",
      "source": [
        "outlier_indices"
      ],
      "metadata": {
        "id": "MxY9q4SHuN_W",
        "colab": {
          "base_uri": "https://localhost:8080/"
        },
        "outputId": "707bddfd-e6af-4710-9387-92fc5a65353d"
      },
      "execution_count": 29,
      "outputs": [
        {
          "output_type": "execute_result",
          "data": {
            "text/plain": [
              "array([100, 420, 570])"
            ]
          },
          "metadata": {},
          "execution_count": 29
        }
      ]
    },
    {
      "cell_type": "code",
      "source": [
        "full.drop(outlier_indices, inplace=True)"
      ],
      "metadata": {
        "id": "6_EXRRWPuiwE"
      },
      "execution_count": 30,
      "outputs": []
    },
    {
      "cell_type": "code",
      "source": [
        "sns.boxplot(x=full.cell)"
      ],
      "metadata": {
        "id": "m5Tf6DC4uz4O",
        "colab": {
          "base_uri": "https://localhost:8080/",
          "height": 466
        },
        "outputId": "fb826a23-d98d-4a2c-a772-f52cc99e604c"
      },
      "execution_count": 31,
      "outputs": [
        {
          "output_type": "execute_result",
          "data": {
            "text/plain": [
              "<Axes: xlabel='cell'>"
            ]
          },
          "metadata": {},
          "execution_count": 31
        },
        {
          "output_type": "display_data",
          "data": {
            "text/plain": [
              "<Figure size 640x480 with 1 Axes>"
            ],
            "image/png": "[encoded data removed]"
          },
          "metadata": {}
        }
      ]
    },
    {
      "cell_type": "markdown",
      "source": [
        "##precentiles"
      ],
      "metadata": {
        "id": "BMNYApr0wcf2"
      }
    },
    {
      "cell_type": "code",
      "source": [
        "q1, q3 = np.percentile(target, [25, 75])\n",
        "iqr = q3 - q1\n",
        "\n",
        "# Set threshold for IQR values\n",
        "threshold = 1.5\n",
        "outlier_indices = np.where((target < q1 - threshold * iqr) | (target > q3 + threshold * iqr))[0]\n",
        "\n",
        "# Remove outliers from target variable\n",
        "target = np.delete(target, outlier_indices)\n",
        "\n",
        "print(f\"Initial target variable shape: {target.shape}\")\n",
        "print(f\"Target variable shape after removing outliers: {target.shape}\")"
      ],
      "metadata": {
        "id": "7pSctLUVy3yE",
        "colab": {
          "base_uri": "https://localhost:8080/"
        },
        "outputId": "c7270167-3468-43f3-dad4-421f683ca1ab"
      },
      "execution_count": 32,
      "outputs": [
        {
          "output_type": "stream",
          "name": "stdout",
          "text": [
            "Initial target variable shape: (654,)\n",
            "Target variable shape after removing outliers: (654,)\n"
          ]
        }
      ]
    },
    {
      "cell_type": "code",
      "source": [
        "sns.boxplot(x=full.cell)"
      ],
      "metadata": {
        "id": "o8nqOY8HzkPD",
        "colab": {
          "base_uri": "https://localhost:8080/",
          "height": 466
        },
        "outputId": "f9494286-be23-4c3b-b5a9-f5c4f2a6cc6a"
      },
      "execution_count": 33,
      "outputs": [
        {
          "output_type": "execute_result",
          "data": {
            "text/plain": [
              "<Axes: xlabel='cell'>"
            ]
          },
          "metadata": {},
          "execution_count": 33
        },
        {
          "output_type": "display_data",
          "data": {
            "text/plain": [
              "<Figure size 640x480 with 1 Axes>"
            ],
            "image/png": "[encoded data removed]"
          },
          "metadata": {}
        }
      ]
    },
    {
      "cell_type": "code",
      "source": [
        "full.drop(outlier_indices, inplace=True)"
      ],
      "metadata": {
        "id": "m19ug8DOzxCh"
      },
      "execution_count": 34,
      "outputs": []
    },
    {
      "cell_type": "code",
      "source": [
        "sns.boxplot(x=full.cell)"
      ],
      "metadata": {
        "id": "35exDT3lz0t8",
        "colab": {
          "base_uri": "https://localhost:8080/",
          "height": 466
        },
        "outputId": "8171549f-fdf0-47bc-ba65-9b785b233f23"
      },
      "execution_count": 35,
      "outputs": [
        {
          "output_type": "execute_result",
          "data": {
            "text/plain": [
              "<Axes: xlabel='cell'>"
            ]
          },
          "metadata": {},
          "execution_count": 35
        },
        {
          "output_type": "display_data",
          "data": {
            "text/plain": [
              "<Figure size 640x480 with 1 Axes>"
            ],
            "image/png": "[encoded data removed]"
          },
          "metadata": {}
        }
      ]
    },
    {
      "cell_type": "code",
      "source": [
        "target = pd.DataFrame(target)"
      ],
      "metadata": {
        "id": "bbdyxLS60uZQ"
      },
      "execution_count": 36,
      "outputs": []
    },
    {
      "cell_type": "code",
      "source": [
        "full"
      ],
      "metadata": {
        "id": "ZRYhWYyf1UjI",
        "colab": {
          "base_uri": "https://localhost:8080/",
          "height": 443
        },
        "outputId": "d5e569cf-6e85-48b4-de82-e4d83954ccb6"
      },
      "execution_count": 37,
      "outputs": [
        {
          "output_type": "execute_result",
          "data": {
            "text/plain": [
              "     ENSG00000111206  ENSG00000254480  ENSG00000167881  ENSG00000118197  \\\n",
              "0              3.977            2.931            8.500            7.484   \n",
              "1              3.416            2.617            8.748            6.245   \n",
              "2              3.615            2.657            8.329            5.319   \n",
              "3              4.688            3.035            9.413            5.465   \n",
              "4              4.226            3.141            8.518            6.371   \n",
              "..               ...              ...              ...              ...   \n",
              "723            4.361            2.831            9.080            6.049   \n",
              "724            5.247            2.997            8.427            6.423   \n",
              "725            4.975            2.728            8.671            5.247   \n",
              "726            4.315            2.541            9.082            6.231   \n",
              "727            5.298            2.619            8.596            6.959   \n",
              "\n",
              "     ENSG00000140563  ENSG00000243660  ENSG00000100982  ENSG00000221837  \\\n",
              "0              3.631            3.289            3.473            3.343   \n",
              "1              3.723            3.199            4.084            3.413   \n",
              "2              3.144            2.910            3.789            3.245   \n",
              "3              3.661            2.689            3.714            3.351   \n",
              "4              3.125            3.220            3.781            3.035   \n",
              "..               ...              ...              ...              ...   \n",
              "723            3.762            2.957            4.390            3.051   \n",
              "724            3.101            3.229            3.231            3.342   \n",
              "725            3.647            3.320            3.385            3.171   \n",
              "726            3.044            3.353            3.135            3.042   \n",
              "727            5.278            3.420            3.460            3.125   \n",
              "\n",
              "     ENSG00000112983  ENSG00000196712    cell  \n",
              "0              7.707            3.563   8.177  \n",
              "1              7.306            3.549   2.025  \n",
              "2              7.666            3.380   3.889  \n",
              "3              7.156            4.036   0.958  \n",
              "4              7.085            3.909   5.497  \n",
              "..               ...              ...     ...  \n",
              "723            7.208            3.623   8.199  \n",
              "724            7.375            3.551   7.920  \n",
              "725            7.075            3.529  10.176  \n",
              "726            8.170            3.382  18.448  \n",
              "727            7.661            3.678   2.068  \n",
              "\n",
              "[654 rows x 11 columns]"
            ],
            "text/html": [
              "\n",
              "  <div id=\"df-3e547d75-1710-4a8e-b6f6-00305ccccd98\" class=\"colab-df-container\">\n",
              "    <div>\n",
              "<style scoped>\n",
              "    .dataframe tbody tr th:only-of-type {\n",
              "        vertical-align: middle;\n",
              "    }\n",
              "\n",
              "    .dataframe tbody tr th {\n",
              "        vertical-align: top;\n",
              "    }\n",
              "\n",
              "    .dataframe thead th {\n",
              "        text-align: right;\n",
              "    }\n",
              "</style>\n",
              "<table border=\"1\" class=\"dataframe\">\n",
              "  <thead>\n",
              "    <tr style=\"text-align: right;\">\n",
              "      <th></th>\n",
              "      <th>ENSG00000111206</th>\n",
              "      <th>ENSG00000254480</th>\n",
              "      <th>ENSG00000167881</th>\n",
              "      <th>ENSG00000118197</th>\n",
              "      <th>ENSG00000140563</th>\n",
              "      <th>ENSG00000243660</th>\n",
              "      <th>ENSG00000100982</th>\n",
              "      <th>ENSG00000221837</th>\n",
              "      <th>ENSG00000112983</th>\n",
              "      <th>ENSG00000196712</th>\n",
              "      <th>cell</th>\n",
              "    </tr>\n",
              "  </thead>\n",
              "  <tbody>\n",
              "    <tr>\n",
              "      <th>0</th>\n",
              "      <td>3.977</td>\n",
              "      <td>2.931</td>\n",
              "      <td>8.500</td>\n",
              "      <td>7.484</td>\n",
              "      <td>3.631</td>\n",
              "      <td>3.289</td>\n",
              "      <td>3.473</td>\n",
              "      <td>3.343</td>\n",
              "      <td>7.707</td>\n",
              "      <td>3.563</td>\n",
              "      <td>8.177</td>\n",
              "    </tr>\n",
              "    <tr>\n",
              "      <th>1</th>\n",
              "      <td>3.416</td>\n",
              "      <td>2.617</td>\n",
              "      <td>8.748</td>\n",
              "      <td>6.245</td>\n",
              "      <td>3.723</td>\n",
              "      <td>3.199</td>\n",
              "      <td>4.084</td>\n",
              "      <td>3.413</td>\n",
              "      <td>7.306</td>\n",
              "      <td>3.549</td>\n",
              "      <td>2.025</td>\n",
              "    </tr>\n",
              "    <tr>\n",
              "      <th>2</th>\n",
              "      <td>3.615</td>\n",
              "      <td>2.657</td>\n",
              "      <td>8.329</td>\n",
              "      <td>5.319</td>\n",
              "      <td>3.144</td>\n",
              "      <td>2.910</td>\n",
              "      <td>3.789</td>\n",
              "      <td>3.245</td>\n",
              "      <td>7.666</td>\n",
              "      <td>3.380</td>\n",
              "      <td>3.889</td>\n",
              "    </tr>\n",
              "    <tr>\n",
              "      <th>3</th>\n",
              "      <td>4.688</td>\n",
              "      <td>3.035</td>\n",
              "      <td>9.413</td>\n",
              "      <td>5.465</td>\n",
              "      <td>3.661</td>\n",
              "      <td>2.689</td>\n",
              "      <td>3.714</td>\n",
              "      <td>3.351</td>\n",
              "      <td>7.156</td>\n",
              "      <td>4.036</td>\n",
              "      <td>0.958</td>\n",
              "    </tr>\n",
              "    <tr>\n",
              "      <th>4</th>\n",
              "      <td>4.226</td>\n",
              "      <td>3.141</td>\n",
              "      <td>8.518</td>\n",
              "      <td>6.371</td>\n",
              "      <td>3.125</td>\n",
              "      <td>3.220</td>\n",
              "      <td>3.781</td>\n",
              "      <td>3.035</td>\n",
              "      <td>7.085</td>\n",
              "      <td>3.909</td>\n",
              "      <td>5.497</td>\n",
              "    </tr>\n",
              "    <tr>\n",
              "      <th>...</th>\n",
              "      <td>...</td>\n",
              "      <td>...</td>\n",
              "      <td>...</td>\n",
              "      <td>...</td>\n",
              "      <td>...</td>\n",
              "      <td>...</td>\n",
              "      <td>...</td>\n",
              "      <td>...</td>\n",
              "      <td>...</td>\n",
              "      <td>...</td>\n",
              "      <td>...</td>\n",
              "    </tr>\n",
              "    <tr>\n",
              "      <th>723</th>\n",
              "      <td>4.361</td>\n",
              "      <td>2.831</td>\n",
              "      <td>9.080</td>\n",
              "      <td>6.049</td>\n",
              "      <td>3.762</td>\n",
              "      <td>2.957</td>\n",
              "      <td>4.390</td>\n",
              "      <td>3.051</td>\n",
              "      <td>7.208</td>\n",
              "      <td>3.623</td>\n",
              "      <td>8.199</td>\n",
              "    </tr>\n",
              "    <tr>\n",
              "      <th>724</th>\n",
              "      <td>5.247</td>\n",
              "      <td>2.997</td>\n",
              "      <td>8.427</td>\n",
              "      <td>6.423</td>\n",
              "      <td>3.101</td>\n",
              "      <td>3.229</td>\n",
              "      <td>3.231</td>\n",
              "      <td>3.342</td>\n",
              "      <td>7.375</td>\n",
              "      <td>3.551</td>\n",
              "      <td>7.920</td>\n",
              "    </tr>\n",
              "    <tr>\n",
              "      <th>725</th>\n",
              "      <td>4.975</td>\n",
              "      <td>2.728</td>\n",
              "      <td>8.671</td>\n",
              "      <td>5.247</td>\n",
              "      <td>3.647</td>\n",
              "      <td>3.320</td>\n",
              "      <td>3.385</td>\n",
              "      <td>3.171</td>\n",
              "      <td>7.075</td>\n",
              "      <td>3.529</td>\n",
              "      <td>10.176</td>\n",
              "    </tr>\n",
              "    <tr>\n",
              "      <th>726</th>\n",
              "      <td>4.315</td>\n",
              "      <td>2.541</td>\n",
              "      <td>9.082</td>\n",
              "      <td>6.231</td>\n",
              "      <td>3.044</td>\n",
              "      <td>3.353</td>\n",
              "      <td>3.135</td>\n",
              "      <td>3.042</td>\n",
              "      <td>8.170</td>\n",
              "      <td>3.382</td>\n",
              "      <td>18.448</td>\n",
              "    </tr>\n",
              "    <tr>\n",
              "      <th>727</th>\n",
              "      <td>5.298</td>\n",
              "      <td>2.619</td>\n",
              "      <td>8.596</td>\n",
              "      <td>6.959</td>\n",
              "      <td>5.278</td>\n",
              "      <td>3.420</td>\n",
              "      <td>3.460</td>\n",
              "      <td>3.125</td>\n",
              "      <td>7.661</td>\n",
              "      <td>3.678</td>\n",
              "      <td>2.068</td>\n",
              "    </tr>\n",
              "  </tbody>\n",
              "</table>\n",
              "<p>654 rows × 11 columns</p>\n",
              "</div>\n",
              "    <div class=\"colab-df-buttons\">\n",
              "\n",
              "  <div class=\"colab-df-container\">\n",
              "    <button class=\"colab-df-convert\" onclick=\"convertToInteractive('df-3e547d75-1710-4a8e-b6f6-00305ccccd98')\"\n",
              "            title=\"Convert this dataframe to an interactive table.\"\n",
              "            style=\"display:none;\">\n",
              "\n",
              "  <svg xmlns=\"http://www.w3.org/2000/svg\" height=\"24px\" viewBox=\"0 -960 960 960\">\n",
              "    <path d=\"M120-120v-720h720v720H120Zm60-500h600v-160H180v160Zm220 220h160v-160H400v160Zm0 220h160v-160H400v160ZM180-400h160v-160H180v160Zm440 0h160v-160H620v160ZM180-180h160v-160H180v160Zm440 0h160v-160H620v160Z\"/>\n",
              "  </svg>\n",
              "    </button>\n",
              "\n",
              "  <style>\n",
              "    .colab-df-container {\n",
              "      display:flex;\n",
              "      gap: 12px;\n",
              "    }\n",
              "\n",
              "    .colab-df-convert {\n",
              "      background-color: #E8F0FE;\n",
              "      border: none;\n",
              "      border-radius: 50%;\n",
              "      cursor: pointer;\n",
              "      display: none;\n",
              "      fill: #1967D2;\n",
              "      height: 32px;\n",
              "      padding: 0 0 0 0;\n",
              "      width: 32px;\n",
              "    }\n",
              "\n",
              "    .colab-df-convert:hover {\n",
              "      background-color: #E2EBFA;\n",
              "      box-shadow: 0px 1px 2px rgba(60, 64, 67, 0.3), 0px 1px 3px 1px rgba(60, 64, 67, 0.15);\n",
              "      fill: #174EA6;\n",
              "    }\n",
              "\n",
              "    .colab-df-buttons div {\n",
              "      margin-bottom: 4px;\n",
              "    }\n",
              "\n",
              "    [theme=dark] .colab-df-convert {\n",
              "      background-color: #3B4455;\n",
              "      fill: #D2E3FC;\n",
              "    }\n",
              "\n",
              "    [theme=dark] .colab-df-convert:hover {\n",
              "      background-color: #434B5C;\n",
              "      box-shadow: 0px 1px 3px 1px rgba(0, 0, 0, 0.15);\n",
              "      filter: drop-shadow(0px 1px 2px rgba(0, 0, 0, 0.3));\n",
              "      fill: #FFFFFF;\n",
              "    }\n",
              "  </style>\n",
              "\n",
              "    <script>\n",
              "      const buttonEl =\n",
              "        document.querySelector('#df-3e547d75-1710-4a8e-b6f6-00305ccccd98 button.colab-df-convert');\n",
              "      buttonEl.style.display =\n",
              "        google.colab.kernel.accessAllowed ? 'block' : 'none';\n",
              "\n",
              "      async function convertToInteractive(key) {\n",
              "        const element = document.querySelector('#df-3e547d75-1710-4a8e-b6f6-00305ccccd98');\n",
              "        const dataTable =\n",
              "          await google.colab.kernel.invokeFunction('convertToInteractive',\n",
              "                                                    [key], {});\n",
              "        if (!dataTable) return;\n",
              "\n",
              "        const docLinkHtml = 'Like what you see? Visit the ' +\n",
              "          '<a target=\"_blank\" href=https://colab.research.google.com/notebooks/data_table.ipynb>data table notebook</a>'\n",
              "          + ' to learn more about interactive tables.';\n",
              "        element.innerHTML = '';\n",
              "        dataTable['output_type'] = 'display_data';\n",
              "        await google.colab.output.renderOutput(dataTable, element);\n",
              "        const docLink = document.createElement('div');\n",
              "        docLink.innerHTML = docLinkHtml;\n",
              "        element.appendChild(docLink);\n",
              "      }\n",
              "    </script>\n",
              "  </div>\n",
              "\n",
              "\n",
              "<div id=\"df-a39440fc-4613-4b02-929f-aa1c7202fc8e\">\n",
              "  <button class=\"colab-df-quickchart\" onclick=\"quickchart('df-a39440fc-4613-4b02-929f-aa1c7202fc8e')\"\n",
              "            title=\"Suggest charts.\"\n",
              "            style=\"display:none;\">\n",
              "\n",
              "<svg xmlns=\"http://www.w3.org/2000/svg\" height=\"24px\"viewBox=\"0 0 24 24\"\n",
              "     width=\"24px\">\n",
              "    <g>\n",
              "        <path d=\"M19 3H5c-1.1 0-2 .9-2 2v14c0 1.1.9 2 2 2h14c1.1 0 2-.9 2-2V5c0-1.1-.9-2-2-2zM9 17H7v-7h2v7zm4 0h-2V7h2v10zm4 0h-2v-4h2v4z\"/>\n",
              "    </g>\n",
              "</svg>\n",
              "  </button>\n",
              "\n",
              "<style>\n",
              "  .colab-df-quickchart {\n",
              "      --bg-color: #E8F0FE;\n",
              "      --fill-color: #1967D2;\n",
              "      --hover-bg-color: #E2EBFA;\n",
              "      --hover-fill-color: #174EA6;\n",
              "      --disabled-fill-color: #AAA;\n",
              "      --disabled-bg-color: #DDD;\n",
              "  }\n",
              "\n",
              "  [theme=dark] .colab-df-quickchart {\n",
              "      --bg-color: #3B4455;\n",
              "      --fill-color: #D2E3FC;\n",
              "      --hover-bg-color: #434B5C;\n",
              "      --hover-fill-color: #FFFFFF;\n",
              "      --disabled-bg-color: #3B4455;\n",
              "      --disabled-fill-color: #666;\n",
              "  }\n",
              "\n",
              "  .colab-df-quickchart {\n",
              "    background-color: var(--bg-color);\n",
              "    border: none;\n",
              "    border-radius: 50%;\n",
              "    cursor: pointer;\n",
              "    display: none;\n",
              "    fill: var(--fill-color);\n",
              "    height: 32px;\n",
              "    padding: 0;\n",
              "    width: 32px;\n",
              "  }\n",
              "\n",
              "  .colab-df-quickchart:hover {\n",
              "    background-color: var(--hover-bg-color);\n",
              "    box-shadow: 0 1px 2px rgba(60, 64, 67, 0.3), 0 1px 3px 1px rgba(60, 64, 67, 0.15);\n",
              "    fill: var(--button-hover-fill-color);\n",
              "  }\n",
              "\n",
              "  .colab-df-quickchart-complete:disabled,\n",
              "  .colab-df-quickchart-complete:disabled:hover {\n",
              "    background-color: var(--disabled-bg-color);\n",
              "    fill: var(--disabled-fill-color);\n",
              "    box-shadow: none;\n",
              "  }\n",
              "\n",
              "  .colab-df-spinner {\n",
              "    border: 2px solid var(--fill-color);\n",
              "    border-color: transparent;\n",
              "    border-bottom-color: var(--fill-color);\n",
              "    animation:\n",
              "      spin 1s steps(1) infinite;\n",
              "  }\n",
              "\n",
              "  @keyframes spin {\n",
              "    0% {\n",
              "      border-color: transparent;\n",
              "      border-bottom-color: var(--fill-color);\n",
              "      border-left-color: var(--fill-color);\n",
              "    }\n",
              "    20% {\n",
              "      border-color: transparent;\n",
              "      border-left-color: var(--fill-color);\n",
              "      border-top-color: var(--fill-color);\n",
              "    }\n",
              "    30% {\n",
              "      border-color: transparent;\n",
              "      border-left-color: var(--fill-color);\n",
              "      border-top-color: var(--fill-color);\n",
              "      border-right-color: var(--fill-color);\n",
              "    }\n",
              "    40% {\n",
              "      border-color: transparent;\n",
              "      border-right-color: var(--fill-color);\n",
              "      border-top-color: var(--fill-color);\n",
              "    }\n",
              "    60% {\n",
              "      border-color: transparent;\n",
              "      border-right-color: var(--fill-color);\n",
              "    }\n",
              "    80% {\n",
              "      border-color: transparent;\n",
              "      border-right-color: var(--fill-color);\n",
              "      border-bottom-color: var(--fill-color);\n",
              "    }\n",
              "    90% {\n",
              "      border-color: transparent;\n",
              "      border-bottom-color: var(--fill-color);\n",
              "    }\n",
              "  }\n",
              "</style>\n",
              "\n",
              "  <script>\n",
              "    async function quickchart(key) {\n",
              "      const quickchartButtonEl =\n",
              "        document.querySelector('#' + key + ' button');\n",
              "      quickchartButtonEl.disabled = true;  // To prevent multiple clicks.\n",
              "      quickchartButtonEl.classList.add('colab-df-spinner');\n",
              "      try {\n",
              "        const charts = await google.colab.kernel.invokeFunction(\n",
              "            'suggestCharts', [key], {});\n",
              "      } catch (error) {\n",
              "        console.error('Error during call to suggestCharts:', error);\n",
              "      }\n",
              "      quickchartButtonEl.classList.remove('colab-df-spinner');\n",
              "      quickchartButtonEl.classList.add('colab-df-quickchart-complete');\n",
              "    }\n",
              "    (() => {\n",
              "      let quickchartButtonEl =\n",
              "        document.querySelector('#df-a39440fc-4613-4b02-929f-aa1c7202fc8e button');\n",
              "      quickchartButtonEl.style.display =\n",
              "        google.colab.kernel.accessAllowed ? 'block' : 'none';\n",
              "    })();\n",
              "  </script>\n",
              "</div>\n",
              "    </div>\n",
              "  </div>\n"
            ]
          },
          "metadata": {},
          "execution_count": 37
        }
      ]
    },
    {
      "cell_type": "code",
      "source": [],
      "metadata": {
        "id": "mogl0G1M8huL"
      },
      "execution_count": null,
      "outputs": []
    },
    {
      "cell_type": "markdown",
      "source": [
        "# Built the underlying regression model (Random Forest)"
      ],
      "metadata": {
        "id": "clxJtuMX2Yvg"
      }
    },
    {
      "cell_type": "code",
      "source": [
        "from sklearn.ensemble import RandomForestRegressor\n",
        "from sklearn.datasets import make_regression\n",
        "from sklearn.metrics import mean_squared_error\n",
        "from sklearn.model_selection import train_test_split\n",
        "from sklearn.preprocessing import scale\n",
        "import matplotlib.pyplot as plt\n",
        "from sklearn import set_config"
      ],
      "metadata": {
        "id": "3w_-s5R6fl72"
      },
      "execution_count": null,
      "outputs": []
    },
    {
      "cell_type": "code",
      "source": [
        "column_name_to_drop = 'cell'\n",
        "new_df = full[[column_name_to_drop]].copy()\n",
        "full.drop(columns=[column_name_to_drop], inplace=True)"
      ],
      "metadata": {
        "id": "HcXkBV0J25p-"
      },
      "execution_count": null,
      "outputs": []
    },
    {
      "cell_type": "code",
      "source": [
        "y=new_df\n",
        "x=full"
      ],
      "metadata": {
        "id": "P-YeRFvmg01g"
      },
      "execution_count": null,
      "outputs": []
    },
    {
      "cell_type": "markdown",
      "source": [
        "Spilt the data"
      ],
      "metadata": {
        "id": "Y9WKdO8V835q"
      }
    },
    {
      "cell_type": "code",
      "source": [
        "x = scale(x)\n",
        "y = scale(y)\n",
        "xtrain, xtest, ytrain, ytest=train_test_split(x, y, test_size=0.10)"
      ],
      "metadata": {
        "id": "c0GFsQVvgu0F"
      },
      "execution_count": null,
      "outputs": []
    },
    {
      "cell_type": "markdown",
      "source": [
        "Train and fit the model"
      ],
      "metadata": {
        "id": "tFFgbHa586Se"
      }
    },
    {
      "cell_type": "code",
      "source": [
        "set_config(print_changed_only=False)\n",
        "\n",
        "rfr = RandomForestRegressor()\n",
        "print(rfr)\n",
        "\n",
        "RandomForestRegressor()"
      ],
      "metadata": {
        "id": "3VR1g7fLhAqO",
        "colab": {
          "base_uri": "https://localhost:8080/",
          "height": 300
        },
        "outputId": "356e63c7-69fa-426d-b9c8-f1dd354e43d1"
      },
      "execution_count": null,
      "outputs": [
        {
          "output_type": "stream",
          "name": "stdout",
          "text": [
            "RandomForestRegressor(bootstrap=True, ccp_alpha=0.0, criterion='squared_error',\n",
            "                      max_depth=None, max_features=1.0, max_leaf_nodes=None,\n",
            "                      max_samples=None, min_impurity_decrease=0.0,\n",
            "                      min_samples_leaf=1, min_samples_split=2,\n",
            "                      min_weight_fraction_leaf=0.0, n_estimators=100,\n",
            "                      n_jobs=None, oob_score=False, random_state=None,\n",
            "                      verbose=0, warm_start=False)\n"
          ]
        },
        {
          "output_type": "execute_result",
          "data": {
            "text/plain": [
              "RandomForestRegressor(bootstrap=True, ccp_alpha=0.0, criterion='squared_error',\n",
              "                      max_depth=None, max_features=1.0, max_leaf_nodes=None,\n",
              "                      max_samples=None, min_impurity_decrease=0.0,\n",
              "                      min_samples_leaf=1, min_samples_split=2,\n",
              "                      min_weight_fraction_leaf=0.0, n_estimators=100,\n",
              "                      n_jobs=None, oob_score=False, random_state=None,\n",
              "                      verbose=0, warm_start=False)"
            ],
            "text/html": [
              "<style>#sk-container-id-12 {color: black;background-color: white;}#sk-container-id-12 pre{padding: 0;}#sk-container-id-12 div.sk-toggleable {background-color: white;}#sk-container-id-12 label.sk-toggleable__label {cursor: pointer;display: block;width: 100%;margin-bottom: 0;padding: 0.3em;box-sizing: border-box;text-align: center;}#sk-container-id-12 label.sk-toggleable__label-arrow:before {content: \"▸\";float: left;margin-right: 0.25em;color: #696969;}#sk-container-id-12 label.sk-toggleable__label-arrow:hover:before {color: black;}#sk-container-id-12 div.sk-estimator:hover label.sk-toggleable__label-arrow:before {color: black;}#sk-container-id-12 div.sk-toggleable__content {max-height: 0;max-width: 0;overflow: hidden;text-align: left;background-color: #f0f8ff;}#sk-container-id-12 div.sk-toggleable__content pre {margin: 0.2em;color: black;border-radius: 0.25em;background-color: #f0f8ff;}#sk-container-id-12 input.sk-toggleable__control:checked~div.sk-toggleable__content {max-height: 200px;max-width: 100%;overflow: auto;}#sk-container-id-12 input.sk-toggleable__control:checked~label.sk-toggleable__label-arrow:before {content: \"▾\";}#sk-container-id-12 div.sk-estimator input.sk-toggleable__control:checked~label.sk-toggleable__label {background-color: #d4ebff;}#sk-container-id-12 div.sk-label input.sk-toggleable__control:checked~label.sk-toggleable__label {background-color: #d4ebff;}#sk-container-id-12 input.sk-hidden--visually {border: 0;clip: rect(1px 1px 1px 1px);clip: rect(1px, 1px, 1px, 1px);height: 1px;margin: -1px;overflow: hidden;padding: 0;position: absolute;width: 1px;}#sk-container-id-12 div.sk-estimator {font-family: monospace;background-color: #f0f8ff;border: 1px dotted black;border-radius: 0.25em;box-sizing: border-box;margin-bottom: 0.5em;}#sk-container-id-12 div.sk-estimator:hover {background-color: #d4ebff;}#sk-container-id-12 div.sk-parallel-item::after {content: \"\";width: 100%;border-bottom: 1px solid gray;flex-grow: 1;}#sk-container-id-12 div.sk-label:hover label.sk-toggleable__label {background-color: #d4ebff;}#sk-container-id-12 div.sk-serial::before {content: \"\";position: absolute;border-left: 1px solid gray;box-sizing: border-box;top: 0;bottom: 0;left: 50%;z-index: 0;}#sk-container-id-12 div.sk-serial {display: flex;flex-direction: column;align-items: center;background-color: white;padding-right: 0.2em;padding-left: 0.2em;position: relative;}#sk-container-id-12 div.sk-item {position: relative;z-index: 1;}#sk-container-id-12 div.sk-parallel {display: flex;align-items: stretch;justify-content: center;background-color: white;position: relative;}#sk-container-id-12 div.sk-item::before, #sk-container-id-12 div.sk-parallel-item::before {content: \"\";position: absolute;border-left: 1px solid gray;box-sizing: border-box;top: 0;bottom: 0;left: 50%;z-index: -1;}#sk-container-id-12 div.sk-parallel-item {display: flex;flex-direction: column;z-index: 1;position: relative;background-color: white;}#sk-container-id-12 div.sk-parallel-item:first-child::after {align-self: flex-end;width: 50%;}#sk-container-id-12 div.sk-parallel-item:last-child::after {align-self: flex-start;width: 50%;}#sk-container-id-12 div.sk-parallel-item:only-child::after {width: 0;}#sk-container-id-12 div.sk-dashed-wrapped {border: 1px dashed gray;margin: 0 0.4em 0.5em 0.4em;box-sizing: border-box;padding-bottom: 0.4em;background-color: white;}#sk-container-id-12 div.sk-label label {font-family: monospace;font-weight: bold;display: inline-block;line-height: 1.2em;}#sk-container-id-12 div.sk-label-container {text-align: center;}#sk-container-id-12 div.sk-container {/* jupyter's `normalize.less` sets `[hidden] { display: none; }` but bootstrap.min.css set `[hidden] { display: none !important; }` so we also need the `!important` here to be able to override the default hidden behavior on the sphinx rendered scikit-learn.org. See: https://github.com/scikit-learn/scikit-learn/issues/21755 */display: inline-block !important;position: relative;}#sk-container-id-12 div.sk-text-repr-fallback {display: none;}</style><div id=\"sk-container-id-12\" class=\"sk-top-container\"><div class=\"sk-text-repr-fallback\"><pre>RandomForestRegressor(bootstrap=True, ccp_alpha=0.0, criterion=&#x27;squared_error&#x27;,\n",
              "                      max_depth=None, max_features=1.0, max_leaf_nodes=None,\n",
              "                      max_samples=None, min_impurity_decrease=0.0,\n",
              "                      min_samples_leaf=1, min_samples_split=2,\n",
              "                      min_weight_fraction_leaf=0.0, n_estimators=100,\n",
              "                      n_jobs=None, oob_score=False, random_state=None,\n",
              "                      verbose=0, warm_start=False)</pre><b>In a Jupyter environment, please rerun this cell to show the HTML representation or trust the notebook. <br />On GitHub, the HTML representation is unable to render, please try loading this page with nbviewer.org.</b></div><div class=\"sk-container\" hidden><div class=\"sk-item\"><div class=\"sk-estimator sk-toggleable\"><input class=\"sk-toggleable__control sk-hidden--visually\" id=\"sk-estimator-id-12\" type=\"checkbox\" checked><label for=\"sk-estimator-id-12\" class=\"sk-toggleable__label sk-toggleable__label-arrow\">RandomForestRegressor</label><div class=\"sk-toggleable__content\"><pre>RandomForestRegressor(bootstrap=True, ccp_alpha=0.0, criterion=&#x27;squared_error&#x27;,\n",
              "                      max_depth=None, max_features=1.0, max_leaf_nodes=None,\n",
              "                      max_samples=None, min_impurity_decrease=0.0,\n",
              "                      min_samples_leaf=1, min_samples_split=2,\n",
              "                      min_weight_fraction_leaf=0.0, n_estimators=100,\n",
              "                      n_jobs=None, oob_score=False, random_state=None,\n",
              "                      verbose=0, warm_start=False)</pre></div></div></div></div></div>"
            ]
          },
          "metadata": {},
          "execution_count": 609
        }
      ]
    },
    {
      "cell_type": "code",
      "source": [
        "rfr.fit(xtrain, ytrain)\n",
        "score = rfr.score(xtrain, ytrain)\n",
        "print(\"R-squared:\", score)"
      ],
      "metadata": {
        "id": "o2CQ9IMShZo6",
        "colab": {
          "base_uri": "https://localhost:8080/"
        },
        "outputId": "ef9df4ea-1fa8-436a-9d42-6dc19a92ae34"
      },
      "execution_count": null,
      "outputs": [
        {
          "output_type": "stream",
          "name": "stdout",
          "text": [
            "R-squared: 0.8616708546567164\n"
          ]
        }
      ]
    },
    {
      "cell_type": "code",
      "source": [
        "ypred = rfr.predict(xtest)\n",
        "mse = mean_squared_error(ytest, ypred)\n",
        "print(\"MSE: \", mse)\n",
        "print(\"RMSE: \", mse*(1/2.0))"
      ],
      "metadata": {
        "id": "aJUrKAznheJu",
        "colab": {
          "base_uri": "https://localhost:8080/"
        },
        "outputId": "711e9c8c-5279-4ca9-d29e-af666b86eaeb"
      },
      "execution_count": null,
      "outputs": [
        {
          "output_type": "stream",
          "name": "stdout",
          "text": [
            "MSE:  7.39601154460969\n",
            "RMSE:  3.698005772304845\n"
          ]
        }
      ]
    },
    {
      "cell_type": "code",
      "source": [],
      "metadata": {
        "id": "HLFHF8Vx-k53"
      },
      "execution_count": null,
      "outputs": []
    },
    {
      "cell_type": "code",
      "source": [
        "import numpy as np\n",
        "import matplotlib.pyplot as plt\n",
        "from scipy.stats import t\n",
        "\n",
        "# Sample data (actual values, predicted values, and residuals)\n",
        "actual_values = np.array(ytest)\n",
        "predicted_values = np.array(ypred)\n",
        "residuals = actual_values - predicted_values\n",
        "\n",
        "# Calculate standard error of residuals\n",
        "std_error = np.std(residuals, ddof=1)  # ddof=1 for unbiased estimation\n",
        "\n",
        "# Define confidence level (e.g., 95%)\n",
        "confidence_level = 0.95\n",
        "\n",
        "# Calculate degrees of freedom\n",
        "degrees_freedom = len(residuals) - 1\n",
        "\n",
        "# Calculate t-score for given confidence level and degrees of freedom\n",
        "t_score = t.ppf((1 + confidence_level) / 2, df=degrees_freedom)\n",
        "\n",
        "# Calculate prediction interval\n",
        "prediction_interval = t_score * std_error\n",
        "\n",
        "# Calculate upper and lower prediction limits\n",
        "upper_limit = predicted_values + prediction_interval\n",
        "lower_limit = predicted_values - prediction_interval\n",
        "\n",
        "# Create a scatter plot with error bars\n",
        "plt.figure(figsize=(8, 6))\n",
        "plt.scatter(range(len(actual_values)), actual_values, color='blue', label='Actual Values')\n",
        "plt.scatter(range(len(predicted_values)), predicted_values, color='green', label='Predicted Values')\n",
        "plt.errorbar(range(len(predicted_values)), predicted_values, yerr=prediction_interval, fmt='none', ecolor='grey', label='Prediction Interval')\n",
        "\n",
        "# Highlight upper and lower prediction limits\n",
        "plt.plot(range(len(predicted_values)), upper_limit, linestyle='dashed', color='black', label='Upper Limit')\n",
        "plt.plot(range(len(predicted_values)), lower_limit, linestyle='dashed', color='black', label='Lower Limit')\n",
        "\n",
        "plt.xlabel('Data Points')\n",
        "plt.ylabel('Values')\n",
        "plt.title('Actual Values vs. Predicted Values with Prediction Intervals')\n",
        "plt.legend()\n",
        "plt.show()\n"
      ],
      "metadata": {
        "id": "B0-hMqXr4zX8",
        "colab": {
          "base_uri": "https://localhost:8080/",
          "height": 564
        },
        "outputId": "f4b5633a-60a0-498f-8b9d-493604107379"
      },
      "execution_count": null,
      "outputs": [
        {
          "output_type": "display_data",
          "data": {
            "text/plain": [
              "<Figure size 800x600 with 1 Axes>"
            ],
            "image/png": "[encoded data removed]"
          },
          "metadata": {}
        }
      ]
    },
    {
      "cell_type": "markdown",
      "source": [
        "#ICP regression"
      ],
      "metadata": {
        "id": "zetjlnSx9QWF"
      }
    },
    {
      "cell_type": "markdown",
      "source": [
        "Spilt the data in calibration set"
      ],
      "metadata": {
        "id": "OA7TPNc79S7c"
      }
    },
    {
      "cell_type": "code",
      "source": [
        "x_tr,xcal,y_tr,ycal=train_test_split(xtrain, ytrain, test_size=0.20)"
      ],
      "metadata": {
        "id": "ih8lAS_FPdhC"
      },
      "execution_count": null,
      "outputs": []
    },
    {
      "cell_type": "markdown",
      "source": [
        "Fit the calibration set in the regression model"
      ],
      "metadata": {
        "id": "7R4wlBPg9Z3e"
      }
    },
    {
      "cell_type": "code",
      "source": [
        "rfr.fit(xcal, ycal)\n",
        "\n",
        "scorecal = rfr.score(xcal, ycal)\n",
        "print(\"R-squared:\", scorecal)"
      ],
      "metadata": {
        "id": "bEmxzoRtQ6D0",
        "colab": {
          "base_uri": "https://localhost:8080/"
        },
        "outputId": "57c54cf6-b4de-45bb-f4df-c9cb5dc7b5cd"
      },
      "execution_count": null,
      "outputs": [
        {
          "output_type": "stream",
          "name": "stdout",
          "text": [
            "R-squared: 0.8612650476685281\n"
          ]
        }
      ]
    },
    {
      "cell_type": "code",
      "source": [
        "ypredcal = rfr.predict(xcal)"
      ],
      "metadata": {
        "id": "nEK7jZEkRLck"
      },
      "execution_count": null,
      "outputs": []
    },
    {
      "cell_type": "code",
      "source": [
        "msecal = mean_squared_error(ycal, ypredcal)"
      ],
      "metadata": {
        "id": "Wcm0UjXGRMZn"
      },
      "execution_count": null,
      "outputs": []
    },
    {
      "cell_type": "code",
      "source": [
        "msecal"
      ],
      "metadata": {
        "id": "RUcSBxWfRg1M",
        "colab": {
          "base_uri": "https://localhost:8080/"
        },
        "outputId": "9a079fec-b8c4-4b53-9b44-cc15e6a6cb78"
      },
      "execution_count": null,
      "outputs": [
        {
          "output_type": "execute_result",
          "data": {
            "text/plain": [
              "0.023479647535411444"
            ]
          },
          "metadata": {},
          "execution_count": 624
        }
      ]
    },
    {
      "cell_type": "code",
      "source": [
        "actual_valuescal = np.array(ycal)\n",
        "predicted_valuescal = np.array(ypredcal)\n",
        "residualscal = actual_valuescal - predicted_valuescal\n",
        "\n",
        "std_errorcal = np.std(residualscal, ddof=1)\n",
        "\n",
        "confidence_level = 0.95\n",
        "\n",
        "degrees_freedomcal = len(residualscal) - 1\n",
        "\n",
        "t_scorecal = t.ppf((1 + confidence_level) / 2, df=degrees_freedomcal)\n",
        "\n",
        "prediction_intervalcal = t_scorecal * std_errorcal\n",
        "\n",
        "upper_limitcal = predicted_valuescal + prediction_intervalcal\n",
        "lower_limitcal = predicted_valuescal - prediction_intervalcal"
      ],
      "metadata": {
        "id": "X2A74kLCRqBz"
      },
      "execution_count": null,
      "outputs": []
    },
    {
      "cell_type": "markdown",
      "source": [
        "Now we start the conformal prediction"
      ],
      "metadata": {
        "id": "euhUdDqt9u2O"
      }
    },
    {
      "cell_type": "code",
      "source": [
        "alpha = 0.1\n",
        "n=123\n",
        "cal_scores = np.maximum(ypredcal-upper_limitcal, lower_limitcal-ypredcal)\n",
        "# Get the score quantile\n",
        "qhat = np.quantile(cal_scores, np.ceil((n+1)*(1-alpha))/n, interpolation='higher')\n",
        "# Deploy (output=lower and upper adjusted quantiles)\n",
        "prediction_sets = [lower_limit - qhat, upper_limit + qhat]"
      ],
      "metadata": {
        "id": "MiAVEj-4ST8O"
      },
      "execution_count": null,
      "outputs": []
    },
    {
      "cell_type": "markdown",
      "source": [
        "The next 2 code lines constract the prediction intervals by add and substact the q quantile from the upper and lower limit of the prediction"
      ],
      "metadata": {
        "id": "V6tUJ0hb_Y1U"
      }
    },
    {
      "cell_type": "code",
      "source": [
        "predupper=upper_limit + qhat"
      ],
      "metadata": {
        "id": "l-6-rRgwWb1p"
      },
      "execution_count": null,
      "outputs": []
    },
    {
      "cell_type": "code",
      "source": [
        "predlower=lower_limit - qhat"
      ],
      "metadata": {
        "id": "hyl_3GWrWk1R"
      },
      "execution_count": null,
      "outputs": []
    },
    {
      "cell_type": "markdown",
      "source": [
        "The empirical coverage"
      ],
      "metadata": {
        "id": "5pO6JLfj_prE"
      }
    },
    {
      "cell_type": "code",
      "source": [
        "prediction_sets_uncalibrated = [lower_limit, upper_limit]\n",
        "empirical_coverage_uncalibrated = ((ypred >= prediction_sets_uncalibrated[0]) & (ypred <= prediction_sets_uncalibrated[1])).mean()\n",
        "print(f\"The empirical coverage before calibration is: {empirical_coverage_uncalibrated}\")\n",
        "\n",
        "empirical_coverage = ((ypred >= prediction_sets[0]) & (ypred <= prediction_sets[1])).mean()\n",
        "print(f\"The empirical coverage after calibration is: {empirical_coverage}\")"
      ],
      "metadata": {
        "id": "qs6a_FZcTsKp"
      },
      "execution_count": null,
      "outputs": []
    }
  ]
}