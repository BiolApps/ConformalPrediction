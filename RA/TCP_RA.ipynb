{
  "nbformat": 4,
  "nbformat_minor": 0,
  "metadata": {
    "colab": {
      "provenance": []
    },
    "kernelspec": {
      "name": "python3",
      "display_name": "Python 3"
    },
    "language_info": {
      "name": "python"
    }
  },
  "cells": [
    {
      "cell_type": "markdown",
      "source": [
        "# INPUT DATA"
      ],
      "metadata": {
        "id": "hEa-RIz7LVOX"
      }
    },
    {
      "cell_type": "markdown",
      "source": [
        "Load required libraries"
      ],
      "metadata": {
        "id": "NGnXwV4ujK78"
      }
    },
    {
      "cell_type": "code",
      "execution_count": 23,
      "metadata": {
        "id": "1Bl4WGT93Rk0"
      },
      "outputs": [],
      "source": [
        "import numpy as np\n",
        "import pandas as pd\n",
        "from google.colab import files\n",
        "import sklearn as sk\n",
        "from sklearn.model_selection import train_test_split\n",
        "from sklearn.metrics import confusion_matrix\n",
        "import matplotlib.pyplot as plt\n",
        "import seaborn as sns\n",
        "from sklearn import datasets, svm\n",
        "from sklearn.metrics import accuracy_score, roc_auc_score\n",
        "from sklearn.metrics import roc_curve, roc_auc_score, auc"
      ]
    },
    {
      "cell_type": "markdown",
      "source": [
        "Upload data from directory"
      ],
      "metadata": {
        "id": "v5rR0u8hjXqO"
      }
    },
    {
      "cell_type": "code",
      "execution_count": 24,
      "metadata": {
        "id": "bVtJNNQI3eKC",
        "colab": {
          "base_uri": "https://localhost:8080/",
          "height": 73
        },
        "outputId": "0a1d7848-01df-45da-8500-23cfe1c37337"
      },
      "outputs": [
        {
          "output_type": "display_data",
          "data": {
            "text/plain": [
              "<IPython.core.display.HTML object>"
            ],
            "text/html": [
              "\n",
              "     <input type=\"file\" id=\"files-7401dcff-1140-41f8-884d-3501df27b897\" name=\"files[]\" multiple disabled\n",
              "        style=\"border:none\" />\n",
              "     <output id=\"result-7401dcff-1140-41f8-884d-3501df27b897\">\n",
              "      Upload widget is only available when the cell has been executed in the\n",
              "      current browser session. Please rerun this cell to enable.\n",
              "      </output>\n",
              "      <script>// Copyright 2017 Google LLC\n",
              "//\n",
              "// Licensed under the Apache License, Version 2.0 (the \"License\");\n",
              "// you may not use this file except in compliance with the License.\n",
              "// You may obtain a copy of the License at\n",
              "//\n",
              "//      http://www.apache.org/licenses/LICENSE-2.0\n",
              "//\n",
              "// Unless required by applicable law or agreed to in writing, software\n",
              "// distributed under the License is distributed on an \"AS IS\" BASIS,\n",
              "// WITHOUT WARRANTIES OR CONDITIONS OF ANY KIND, either express or implied.\n",
              "// See the License for the specific language governing permissions and\n",
              "// limitations under the License.\n",
              "\n",
              "/**\n",
              " * @fileoverview Helpers for google.colab Python module.\n",
              " */\n",
              "(function(scope) {\n",
              "function span(text, styleAttributes = {}) {\n",
              "  const element = document.createElement('span');\n",
              "  element.textContent = text;\n",
              "  for (const key of Object.keys(styleAttributes)) {\n",
              "    element.style[key] = styleAttributes[key];\n",
              "  }\n",
              "  return element;\n",
              "}\n",
              "\n",
              "// Max number of bytes which will be uploaded at a time.\n",
              "const MAX_PAYLOAD_SIZE = 100 * 1024;\n",
              "\n",
              "function _uploadFiles(inputId, outputId) {\n",
              "  const steps = uploadFilesStep(inputId, outputId);\n",
              "  const outputElement = document.getElementById(outputId);\n",
              "  // Cache steps on the outputElement to make it available for the next call\n",
              "  // to uploadFilesContinue from Python.\n",
              "  outputElement.steps = steps;\n",
              "\n",
              "  return _uploadFilesContinue(outputId);\n",
              "}\n",
              "\n",
              "// This is roughly an async generator (not supported in the browser yet),\n",
              "// where there are multiple asynchronous steps and the Python side is going\n",
              "// to poll for completion of each step.\n",
              "// This uses a Promise to block the python side on completion of each step,\n",
              "// then passes the result of the previous step as the input to the next step.\n",
              "function _uploadFilesContinue(outputId) {\n",
              "  const outputElement = document.getElementById(outputId);\n",
              "  const steps = outputElement.steps;\n",
              "\n",
              "  const next = steps.next(outputElement.lastPromiseValue);\n",
              "  return Promise.resolve(next.value.promise).then((value) => {\n",
              "    // Cache the last promise value to make it available to the next\n",
              "    // step of the generator.\n",
              "    outputElement.lastPromiseValue = value;\n",
              "    return next.value.response;\n",
              "  });\n",
              "}\n",
              "\n",
              "/**\n",
              " * Generator function which is called between each async step of the upload\n",
              " * process.\n",
              " * @param {string} inputId Element ID of the input file picker element.\n",
              " * @param {string} outputId Element ID of the output display.\n",
              " * @return {!Iterable<!Object>} Iterable of next steps.\n",
              " */\n",
              "function* uploadFilesStep(inputId, outputId) {\n",
              "  const inputElement = document.getElementById(inputId);\n",
              "  inputElement.disabled = false;\n",
              "\n",
              "  const outputElement = document.getElementById(outputId);\n",
              "  outputElement.innerHTML = '';\n",
              "\n",
              "  const pickedPromise = new Promise((resolve) => {\n",
              "    inputElement.addEventListener('change', (e) => {\n",
              "      resolve(e.target.files);\n",
              "    });\n",
              "  });\n",
              "\n",
              "  const cancel = document.createElement('button');\n",
              "  inputElement.parentElement.appendChild(cancel);\n",
              "  cancel.textContent = 'Cancel upload';\n",
              "  const cancelPromise = new Promise((resolve) => {\n",
              "    cancel.onclick = () => {\n",
              "      resolve(null);\n",
              "    };\n",
              "  });\n",
              "\n",
              "  // Wait for the user to pick the files.\n",
              "  const files = yield {\n",
              "    promise: Promise.race([pickedPromise, cancelPromise]),\n",
              "    response: {\n",
              "      action: 'starting',\n",
              "    }\n",
              "  };\n",
              "\n",
              "  cancel.remove();\n",
              "\n",
              "  // Disable the input element since further picks are not allowed.\n",
              "  inputElement.disabled = true;\n",
              "\n",
              "  if (!files) {\n",
              "    return {\n",
              "      response: {\n",
              "        action: 'complete',\n",
              "      }\n",
              "    };\n",
              "  }\n",
              "\n",
              "  for (const file of files) {\n",
              "    const li = document.createElement('li');\n",
              "    li.append(span(file.name, {fontWeight: 'bold'}));\n",
              "    li.append(span(\n",
              "        `(${file.type || 'n/a'}) - ${file.size} bytes, ` +\n",
              "        `last modified: ${\n",
              "            file.lastModifiedDate ? file.lastModifiedDate.toLocaleDateString() :\n",
              "                                    'n/a'} - `));\n",
              "    const percent = span('0% done');\n",
              "    li.appendChild(percent);\n",
              "\n",
              "    outputElement.appendChild(li);\n",
              "\n",
              "    const fileDataPromise = new Promise((resolve) => {\n",
              "      const reader = new FileReader();\n",
              "      reader.onload = (e) => {\n",
              "        resolve(e.target.result);\n",
              "      };\n",
              "      reader.readAsArrayBuffer(file);\n",
              "    });\n",
              "    // Wait for the data to be ready.\n",
              "    let fileData = yield {\n",
              "      promise: fileDataPromise,\n",
              "      response: {\n",
              "        action: 'continue',\n",
              "      }\n",
              "    };\n",
              "\n",
              "    // Use a chunked sending to avoid message size limits. See b/62115660.\n",
              "    let position = 0;\n",
              "    do {\n",
              "      const length = Math.min(fileData.byteLength - position, MAX_PAYLOAD_SIZE);\n",
              "      const chunk = new Uint8Array(fileData, position, length);\n",
              "      position += length;\n",
              "\n",
              "      const base64 = btoa(String.fromCharCode.apply(null, chunk));\n",
              "      yield {\n",
              "        response: {\n",
              "          action: 'append',\n",
              "          file: file.name,\n",
              "          data: base64,\n",
              "        },\n",
              "      };\n",
              "\n",
              "      let percentDone = fileData.byteLength === 0 ?\n",
              "          100 :\n",
              "          Math.round((position / fileData.byteLength) * 100);\n",
              "      percent.textContent = `${percentDone}% done`;\n",
              "\n",
              "    } while (position < fileData.byteLength);\n",
              "  }\n",
              "\n",
              "  // All done.\n",
              "  yield {\n",
              "    response: {\n",
              "      action: 'complete',\n",
              "    }\n",
              "  };\n",
              "}\n",
              "\n",
              "scope.google = scope.google || {};\n",
              "scope.google.colab = scope.google.colab || {};\n",
              "scope.google.colab._files = {\n",
              "  _uploadFiles,\n",
              "  _uploadFilesContinue,\n",
              "};\n",
              "})(self);\n",
              "</script> "
            ]
          },
          "metadata": {}
        },
        {
          "output_type": "stream",
          "name": "stdout",
          "text": [
            "Saving RAtarget.csv to RAtarget (1).csv\n"
          ]
        }
      ],
      "source": [
        "uploaded = files.upload()\n",
        "df = pd.read_csv('RAtarget.csv')"
      ]
    },
    {
      "cell_type": "code",
      "source": [
        "uploaded = files.upload()\n",
        "ra = pd.read_csv('RAgenes.csv')"
      ],
      "metadata": {
        "colab": {
          "base_uri": "https://localhost:8080/",
          "height": 73
        },
        "id": "vvCjIBF65IBH",
        "outputId": "36dc8d75-4d4d-4972-faa1-d6f1b1293ccf"
      },
      "execution_count": 25,
      "outputs": [
        {
          "output_type": "display_data",
          "data": {
            "text/plain": [
              "<IPython.core.display.HTML object>"
            ],
            "text/html": [
              "\n",
              "     <input type=\"file\" id=\"files-8c2dfc48-3070-407a-9c1d-12a876c12484\" name=\"files[]\" multiple disabled\n",
              "        style=\"border:none\" />\n",
              "     <output id=\"result-8c2dfc48-3070-407a-9c1d-12a876c12484\">\n",
              "      Upload widget is only available when the cell has been executed in the\n",
              "      current browser session. Please rerun this cell to enable.\n",
              "      </output>\n",
              "      <script>// Copyright 2017 Google LLC\n",
              "//\n",
              "// Licensed under the Apache License, Version 2.0 (the \"License\");\n",
              "// you may not use this file except in compliance with the License.\n",
              "// You may obtain a copy of the License at\n",
              "//\n",
              "//      http://www.apache.org/licenses/LICENSE-2.0\n",
              "//\n",
              "// Unless required by applicable law or agreed to in writing, software\n",
              "// distributed under the License is distributed on an \"AS IS\" BASIS,\n",
              "// WITHOUT WARRANTIES OR CONDITIONS OF ANY KIND, either express or implied.\n",
              "// See the License for the specific language governing permissions and\n",
              "// limitations under the License.\n",
              "\n",
              "/**\n",
              " * @fileoverview Helpers for google.colab Python module.\n",
              " */\n",
              "(function(scope) {\n",
              "function span(text, styleAttributes = {}) {\n",
              "  const element = document.createElement('span');\n",
              "  element.textContent = text;\n",
              "  for (const key of Object.keys(styleAttributes)) {\n",
              "    element.style[key] = styleAttributes[key];\n",
              "  }\n",
              "  return element;\n",
              "}\n",
              "\n",
              "// Max number of bytes which will be uploaded at a time.\n",
              "const MAX_PAYLOAD_SIZE = 100 * 1024;\n",
              "\n",
              "function _uploadFiles(inputId, outputId) {\n",
              "  const steps = uploadFilesStep(inputId, outputId);\n",
              "  const outputElement = document.getElementById(outputId);\n",
              "  // Cache steps on the outputElement to make it available for the next call\n",
              "  // to uploadFilesContinue from Python.\n",
              "  outputElement.steps = steps;\n",
              "\n",
              "  return _uploadFilesContinue(outputId);\n",
              "}\n",
              "\n",
              "// This is roughly an async generator (not supported in the browser yet),\n",
              "// where there are multiple asynchronous steps and the Python side is going\n",
              "// to poll for completion of each step.\n",
              "// This uses a Promise to block the python side on completion of each step,\n",
              "// then passes the result of the previous step as the input to the next step.\n",
              "function _uploadFilesContinue(outputId) {\n",
              "  const outputElement = document.getElementById(outputId);\n",
              "  const steps = outputElement.steps;\n",
              "\n",
              "  const next = steps.next(outputElement.lastPromiseValue);\n",
              "  return Promise.resolve(next.value.promise).then((value) => {\n",
              "    // Cache the last promise value to make it available to the next\n",
              "    // step of the generator.\n",
              "    outputElement.lastPromiseValue = value;\n",
              "    return next.value.response;\n",
              "  });\n",
              "}\n",
              "\n",
              "/**\n",
              " * Generator function which is called between each async step of the upload\n",
              " * process.\n",
              " * @param {string} inputId Element ID of the input file picker element.\n",
              " * @param {string} outputId Element ID of the output display.\n",
              " * @return {!Iterable<!Object>} Iterable of next steps.\n",
              " */\n",
              "function* uploadFilesStep(inputId, outputId) {\n",
              "  const inputElement = document.getElementById(inputId);\n",
              "  inputElement.disabled = false;\n",
              "\n",
              "  const outputElement = document.getElementById(outputId);\n",
              "  outputElement.innerHTML = '';\n",
              "\n",
              "  const pickedPromise = new Promise((resolve) => {\n",
              "    inputElement.addEventListener('change', (e) => {\n",
              "      resolve(e.target.files);\n",
              "    });\n",
              "  });\n",
              "\n",
              "  const cancel = document.createElement('button');\n",
              "  inputElement.parentElement.appendChild(cancel);\n",
              "  cancel.textContent = 'Cancel upload';\n",
              "  const cancelPromise = new Promise((resolve) => {\n",
              "    cancel.onclick = () => {\n",
              "      resolve(null);\n",
              "    };\n",
              "  });\n",
              "\n",
              "  // Wait for the user to pick the files.\n",
              "  const files = yield {\n",
              "    promise: Promise.race([pickedPromise, cancelPromise]),\n",
              "    response: {\n",
              "      action: 'starting',\n",
              "    }\n",
              "  };\n",
              "\n",
              "  cancel.remove();\n",
              "\n",
              "  // Disable the input element since further picks are not allowed.\n",
              "  inputElement.disabled = true;\n",
              "\n",
              "  if (!files) {\n",
              "    return {\n",
              "      response: {\n",
              "        action: 'complete',\n",
              "      }\n",
              "    };\n",
              "  }\n",
              "\n",
              "  for (const file of files) {\n",
              "    const li = document.createElement('li');\n",
              "    li.append(span(file.name, {fontWeight: 'bold'}));\n",
              "    li.append(span(\n",
              "        `(${file.type || 'n/a'}) - ${file.size} bytes, ` +\n",
              "        `last modified: ${\n",
              "            file.lastModifiedDate ? file.lastModifiedDate.toLocaleDateString() :\n",
              "                                    'n/a'} - `));\n",
              "    const percent = span('0% done');\n",
              "    li.appendChild(percent);\n",
              "\n",
              "    outputElement.appendChild(li);\n",
              "\n",
              "    const fileDataPromise = new Promise((resolve) => {\n",
              "      const reader = new FileReader();\n",
              "      reader.onload = (e) => {\n",
              "        resolve(e.target.result);\n",
              "      };\n",
              "      reader.readAsArrayBuffer(file);\n",
              "    });\n",
              "    // Wait for the data to be ready.\n",
              "    let fileData = yield {\n",
              "      promise: fileDataPromise,\n",
              "      response: {\n",
              "        action: 'continue',\n",
              "      }\n",
              "    };\n",
              "\n",
              "    // Use a chunked sending to avoid message size limits. See b/62115660.\n",
              "    let position = 0;\n",
              "    do {\n",
              "      const length = Math.min(fileData.byteLength - position, MAX_PAYLOAD_SIZE);\n",
              "      const chunk = new Uint8Array(fileData, position, length);\n",
              "      position += length;\n",
              "\n",
              "      const base64 = btoa(String.fromCharCode.apply(null, chunk));\n",
              "      yield {\n",
              "        response: {\n",
              "          action: 'append',\n",
              "          file: file.name,\n",
              "          data: base64,\n",
              "        },\n",
              "      };\n",
              "\n",
              "      let percentDone = fileData.byteLength === 0 ?\n",
              "          100 :\n",
              "          Math.round((position / fileData.byteLength) * 100);\n",
              "      percent.textContent = `${percentDone}% done`;\n",
              "\n",
              "    } while (position < fileData.byteLength);\n",
              "  }\n",
              "\n",
              "  // All done.\n",
              "  yield {\n",
              "    response: {\n",
              "      action: 'complete',\n",
              "    }\n",
              "  };\n",
              "}\n",
              "\n",
              "scope.google = scope.google || {};\n",
              "scope.google.colab = scope.google.colab || {};\n",
              "scope.google.colab._files = {\n",
              "  _uploadFiles,\n",
              "  _uploadFilesContinue,\n",
              "};\n",
              "})(self);\n",
              "</script> "
            ]
          },
          "metadata": {}
        },
        {
          "output_type": "stream",
          "name": "stdout",
          "text": [
            "Saving RAgenes.csv to RAgenes (1).csv\n"
          ]
        }
      ]
    },
    {
      "cell_type": "markdown",
      "source": [
        "Data processing"
      ],
      "metadata": {
        "id": "7FnSdGcNjdWo"
      }
    },
    {
      "cell_type": "code",
      "source": [
        "column_to_separate = 'name'\n",
        "name = ra[[column_to_separate]].copy()\n",
        "ra = ra.drop(column_to_separate, axis=1)"
      ],
      "metadata": {
        "id": "NeChznOr6oeY"
      },
      "execution_count": 26,
      "outputs": []
    },
    {
      "cell_type": "code",
      "source": [
        "ra"
      ],
      "metadata": {
        "colab": {
          "base_uri": "https://localhost:8080/",
          "height": 443
        },
        "id": "yHS253YI5WJt",
        "outputId": "83806143-8953-49f2-f16a-a991e7c15c49"
      },
      "execution_count": 27,
      "outputs": [
        {
          "output_type": "execute_result",
          "data": {
            "text/plain": [
              "    7893107  7893526  7893543  7893569  7894089  7894095  7894169  7894284  \\\n",
              "0   3.27081  6.29636  11.0876  3.88065  9.07261  7.16129  5.97489  10.4409   \n",
              "1   2.70668  5.49734  10.7325  2.89858  9.01030  6.80941  6.39396  10.7604   \n",
              "2   3.05276  6.58236  10.8271  3.33602  9.28394  7.21462  6.73186  10.8283   \n",
              "3   4.06415  6.20839  10.7144  3.40275  8.96513  6.75700  5.92767  10.5097   \n",
              "4   3.68179  6.45172  10.7259  3.70835  8.91285  7.21777  5.71687  10.8269   \n",
              "..      ...      ...      ...      ...      ...      ...      ...      ...   \n",
              "73  2.85862  6.30271  10.7956  3.46289  9.28916  6.69736  5.15867  10.1574   \n",
              "74  2.94687  6.38078  10.6272  3.02912  8.81766  6.33852  5.24847  10.0076   \n",
              "75  3.58041  5.93240  10.4963  2.40597  8.66681  6.55605  5.40591  10.0683   \n",
              "76  3.62626  6.62424  10.6817  3.47735  9.16072  6.64447  6.38243  10.4259   \n",
              "77  3.57922  6.09155  10.8918  2.64959  8.96663  6.87769  5.69511  10.1278   \n",
              "\n",
              "    7894637  7894965  ...  8154047  8154215  8154223  8163712  8168115  \\\n",
              "0   8.46360  6.74043  ...  3.69110  6.04761  6.16912  3.12952  6.89926   \n",
              "1   8.02336  6.97154  ...  3.63519  6.29744  6.29382  2.43400  6.43828   \n",
              "2   8.50749  7.26604  ...  3.36491  6.69556  6.72395  2.66750  6.65290   \n",
              "3   7.86061  6.77955  ...  3.56970  6.56189  6.51487  2.19485  6.85107   \n",
              "4   8.39964  7.06498  ...  3.55664  6.72436  6.65756  2.44822  6.90136   \n",
              "..      ...      ...  ...      ...      ...      ...      ...      ...   \n",
              "73  8.15172  6.57593  ...  3.43578  6.02973  5.87783  2.23212  6.58988   \n",
              "74  7.93468  7.28884  ...  3.43033  6.00680  6.15518  2.63353  6.76783   \n",
              "75  7.64977  7.12128  ...  3.51900  5.79387  5.59603  2.22126  6.64367   \n",
              "76  7.63139  7.17340  ...  3.52941  6.97181  6.76539  2.87647  6.78706   \n",
              "77  8.31550  6.96749  ...  3.56049  6.59431  6.34632  2.71787  6.49574   \n",
              "\n",
              "    8168886  8178802  8178811  8180214  8180282  \n",
              "0   5.42731  12.0939  12.1644  5.84077  7.31473  \n",
              "1   5.59528  12.0252  12.1965  5.10300  7.11119  \n",
              "2   5.65206  11.4784  11.4410  5.55251  7.04199  \n",
              "3   5.15052  11.7745  11.8101  5.33672  7.20546  \n",
              "4   5.14346  11.5797  11.6907  4.94236  6.93663  \n",
              "..      ...      ...      ...      ...      ...  \n",
              "73  5.34187  11.4564  11.5035  4.63423  7.22421  \n",
              "74  5.19677  11.6879  11.5910  4.78864  7.04232  \n",
              "75  5.13537  11.3638  11.2883  4.48931  7.23500  \n",
              "76  5.19001  12.0531  11.8646  5.43224  6.81322  \n",
              "77  5.42095  11.3378  11.5337  4.97253  6.85328  \n",
              "\n",
              "[78 rows x 100 columns]"
            ],
            "text/html": [
              "\n",
              "  <div id=\"df-24a0f7f1-0e04-4ff4-8ced-88b778afd0d3\" class=\"colab-df-container\">\n",
              "    <div>\n",
              "<style scoped>\n",
              "    .dataframe tbody tr th:only-of-type {\n",
              "        vertical-align: middle;\n",
              "    }\n",
              "\n",
              "    .dataframe tbody tr th {\n",
              "        vertical-align: top;\n",
              "    }\n",
              "\n",
              "    .dataframe thead th {\n",
              "        text-align: right;\n",
              "    }\n",
              "</style>\n",
              "<table border=\"1\" class=\"dataframe\">\n",
              "  <thead>\n",
              "    <tr style=\"text-align: right;\">\n",
              "      <th></th>\n",
              "      <th>7893107</th>\n",
              "      <th>7893526</th>\n",
              "      <th>7893543</th>\n",
              "      <th>7893569</th>\n",
              "      <th>7894089</th>\n",
              "      <th>7894095</th>\n",
              "      <th>7894169</th>\n",
              "      <th>7894284</th>\n",
              "      <th>7894637</th>\n",
              "      <th>7894965</th>\n",
              "      <th>...</th>\n",
              "      <th>8154047</th>\n",
              "      <th>8154215</th>\n",
              "      <th>8154223</th>\n",
              "      <th>8163712</th>\n",
              "      <th>8168115</th>\n",
              "      <th>8168886</th>\n",
              "      <th>8178802</th>\n",
              "      <th>8178811</th>\n",
              "      <th>8180214</th>\n",
              "      <th>8180282</th>\n",
              "    </tr>\n",
              "  </thead>\n",
              "  <tbody>\n",
              "    <tr>\n",
              "      <th>0</th>\n",
              "      <td>3.27081</td>\n",
              "      <td>6.29636</td>\n",
              "      <td>11.0876</td>\n",
              "      <td>3.88065</td>\n",
              "      <td>9.07261</td>\n",
              "      <td>7.16129</td>\n",
              "      <td>5.97489</td>\n",
              "      <td>10.4409</td>\n",
              "      <td>8.46360</td>\n",
              "      <td>6.74043</td>\n",
              "      <td>...</td>\n",
              "      <td>3.69110</td>\n",
              "      <td>6.04761</td>\n",
              "      <td>6.16912</td>\n",
              "      <td>3.12952</td>\n",
              "      <td>6.89926</td>\n",
              "      <td>5.42731</td>\n",
              "      <td>12.0939</td>\n",
              "      <td>12.1644</td>\n",
              "      <td>5.84077</td>\n",
              "      <td>7.31473</td>\n",
              "    </tr>\n",
              "    <tr>\n",
              "      <th>1</th>\n",
              "      <td>2.70668</td>\n",
              "      <td>5.49734</td>\n",
              "      <td>10.7325</td>\n",
              "      <td>2.89858</td>\n",
              "      <td>9.01030</td>\n",
              "      <td>6.80941</td>\n",
              "      <td>6.39396</td>\n",
              "      <td>10.7604</td>\n",
              "      <td>8.02336</td>\n",
              "      <td>6.97154</td>\n",
              "      <td>...</td>\n",
              "      <td>3.63519</td>\n",
              "      <td>6.29744</td>\n",
              "      <td>6.29382</td>\n",
              "      <td>2.43400</td>\n",
              "      <td>6.43828</td>\n",
              "      <td>5.59528</td>\n",
              "      <td>12.0252</td>\n",
              "      <td>12.1965</td>\n",
              "      <td>5.10300</td>\n",
              "      <td>7.11119</td>\n",
              "    </tr>\n",
              "    <tr>\n",
              "      <th>2</th>\n",
              "      <td>3.05276</td>\n",
              "      <td>6.58236</td>\n",
              "      <td>10.8271</td>\n",
              "      <td>3.33602</td>\n",
              "      <td>9.28394</td>\n",
              "      <td>7.21462</td>\n",
              "      <td>6.73186</td>\n",
              "      <td>10.8283</td>\n",
              "      <td>8.50749</td>\n",
              "      <td>7.26604</td>\n",
              "      <td>...</td>\n",
              "      <td>3.36491</td>\n",
              "      <td>6.69556</td>\n",
              "      <td>6.72395</td>\n",
              "      <td>2.66750</td>\n",
              "      <td>6.65290</td>\n",
              "      <td>5.65206</td>\n",
              "      <td>11.4784</td>\n",
              "      <td>11.4410</td>\n",
              "      <td>5.55251</td>\n",
              "      <td>7.04199</td>\n",
              "    </tr>\n",
              "    <tr>\n",
              "      <th>3</th>\n",
              "      <td>4.06415</td>\n",
              "      <td>6.20839</td>\n",
              "      <td>10.7144</td>\n",
              "      <td>3.40275</td>\n",
              "      <td>8.96513</td>\n",
              "      <td>6.75700</td>\n",
              "      <td>5.92767</td>\n",
              "      <td>10.5097</td>\n",
              "      <td>7.86061</td>\n",
              "      <td>6.77955</td>\n",
              "      <td>...</td>\n",
              "      <td>3.56970</td>\n",
              "      <td>6.56189</td>\n",
              "      <td>6.51487</td>\n",
              "      <td>2.19485</td>\n",
              "      <td>6.85107</td>\n",
              "      <td>5.15052</td>\n",
              "      <td>11.7745</td>\n",
              "      <td>11.8101</td>\n",
              "      <td>5.33672</td>\n",
              "      <td>7.20546</td>\n",
              "    </tr>\n",
              "    <tr>\n",
              "      <th>4</th>\n",
              "      <td>3.68179</td>\n",
              "      <td>6.45172</td>\n",
              "      <td>10.7259</td>\n",
              "      <td>3.70835</td>\n",
              "      <td>8.91285</td>\n",
              "      <td>7.21777</td>\n",
              "      <td>5.71687</td>\n",
              "      <td>10.8269</td>\n",
              "      <td>8.39964</td>\n",
              "      <td>7.06498</td>\n",
              "      <td>...</td>\n",
              "      <td>3.55664</td>\n",
              "      <td>6.72436</td>\n",
              "      <td>6.65756</td>\n",
              "      <td>2.44822</td>\n",
              "      <td>6.90136</td>\n",
              "      <td>5.14346</td>\n",
              "      <td>11.5797</td>\n",
              "      <td>11.6907</td>\n",
              "      <td>4.94236</td>\n",
              "      <td>6.93663</td>\n",
              "    </tr>\n",
              "    <tr>\n",
              "      <th>...</th>\n",
              "      <td>...</td>\n",
              "      <td>...</td>\n",
              "      <td>...</td>\n",
              "      <td>...</td>\n",
              "      <td>...</td>\n",
              "      <td>...</td>\n",
              "      <td>...</td>\n",
              "      <td>...</td>\n",
              "      <td>...</td>\n",
              "      <td>...</td>\n",
              "      <td>...</td>\n",
              "      <td>...</td>\n",
              "      <td>...</td>\n",
              "      <td>...</td>\n",
              "      <td>...</td>\n",
              "      <td>...</td>\n",
              "      <td>...</td>\n",
              "      <td>...</td>\n",
              "      <td>...</td>\n",
              "      <td>...</td>\n",
              "      <td>...</td>\n",
              "    </tr>\n",
              "    <tr>\n",
              "      <th>73</th>\n",
              "      <td>2.85862</td>\n",
              "      <td>6.30271</td>\n",
              "      <td>10.7956</td>\n",
              "      <td>3.46289</td>\n",
              "      <td>9.28916</td>\n",
              "      <td>6.69736</td>\n",
              "      <td>5.15867</td>\n",
              "      <td>10.1574</td>\n",
              "      <td>8.15172</td>\n",
              "      <td>6.57593</td>\n",
              "      <td>...</td>\n",
              "      <td>3.43578</td>\n",
              "      <td>6.02973</td>\n",
              "      <td>5.87783</td>\n",
              "      <td>2.23212</td>\n",
              "      <td>6.58988</td>\n",
              "      <td>5.34187</td>\n",
              "      <td>11.4564</td>\n",
              "      <td>11.5035</td>\n",
              "      <td>4.63423</td>\n",
              "      <td>7.22421</td>\n",
              "    </tr>\n",
              "    <tr>\n",
              "      <th>74</th>\n",
              "      <td>2.94687</td>\n",
              "      <td>6.38078</td>\n",
              "      <td>10.6272</td>\n",
              "      <td>3.02912</td>\n",
              "      <td>8.81766</td>\n",
              "      <td>6.33852</td>\n",
              "      <td>5.24847</td>\n",
              "      <td>10.0076</td>\n",
              "      <td>7.93468</td>\n",
              "      <td>7.28884</td>\n",
              "      <td>...</td>\n",
              "      <td>3.43033</td>\n",
              "      <td>6.00680</td>\n",
              "      <td>6.15518</td>\n",
              "      <td>2.63353</td>\n",
              "      <td>6.76783</td>\n",
              "      <td>5.19677</td>\n",
              "      <td>11.6879</td>\n",
              "      <td>11.5910</td>\n",
              "      <td>4.78864</td>\n",
              "      <td>7.04232</td>\n",
              "    </tr>\n",
              "    <tr>\n",
              "      <th>75</th>\n",
              "      <td>3.58041</td>\n",
              "      <td>5.93240</td>\n",
              "      <td>10.4963</td>\n",
              "      <td>2.40597</td>\n",
              "      <td>8.66681</td>\n",
              "      <td>6.55605</td>\n",
              "      <td>5.40591</td>\n",
              "      <td>10.0683</td>\n",
              "      <td>7.64977</td>\n",
              "      <td>7.12128</td>\n",
              "      <td>...</td>\n",
              "      <td>3.51900</td>\n",
              "      <td>5.79387</td>\n",
              "      <td>5.59603</td>\n",
              "      <td>2.22126</td>\n",
              "      <td>6.64367</td>\n",
              "      <td>5.13537</td>\n",
              "      <td>11.3638</td>\n",
              "      <td>11.2883</td>\n",
              "      <td>4.48931</td>\n",
              "      <td>7.23500</td>\n",
              "    </tr>\n",
              "    <tr>\n",
              "      <th>76</th>\n",
              "      <td>3.62626</td>\n",
              "      <td>6.62424</td>\n",
              "      <td>10.6817</td>\n",
              "      <td>3.47735</td>\n",
              "      <td>9.16072</td>\n",
              "      <td>6.64447</td>\n",
              "      <td>6.38243</td>\n",
              "      <td>10.4259</td>\n",
              "      <td>7.63139</td>\n",
              "      <td>7.17340</td>\n",
              "      <td>...</td>\n",
              "      <td>3.52941</td>\n",
              "      <td>6.97181</td>\n",
              "      <td>6.76539</td>\n",
              "      <td>2.87647</td>\n",
              "      <td>6.78706</td>\n",
              "      <td>5.19001</td>\n",
              "      <td>12.0531</td>\n",
              "      <td>11.8646</td>\n",
              "      <td>5.43224</td>\n",
              "      <td>6.81322</td>\n",
              "    </tr>\n",
              "    <tr>\n",
              "      <th>77</th>\n",
              "      <td>3.57922</td>\n",
              "      <td>6.09155</td>\n",
              "      <td>10.8918</td>\n",
              "      <td>2.64959</td>\n",
              "      <td>8.96663</td>\n",
              "      <td>6.87769</td>\n",
              "      <td>5.69511</td>\n",
              "      <td>10.1278</td>\n",
              "      <td>8.31550</td>\n",
              "      <td>6.96749</td>\n",
              "      <td>...</td>\n",
              "      <td>3.56049</td>\n",
              "      <td>6.59431</td>\n",
              "      <td>6.34632</td>\n",
              "      <td>2.71787</td>\n",
              "      <td>6.49574</td>\n",
              "      <td>5.42095</td>\n",
              "      <td>11.3378</td>\n",
              "      <td>11.5337</td>\n",
              "      <td>4.97253</td>\n",
              "      <td>6.85328</td>\n",
              "    </tr>\n",
              "  </tbody>\n",
              "</table>\n",
              "<p>78 rows × 100 columns</p>\n",
              "</div>\n",
              "    <div class=\"colab-df-buttons\">\n",
              "\n",
              "  <div class=\"colab-df-container\">\n",
              "    <button class=\"colab-df-convert\" onclick=\"convertToInteractive('df-24a0f7f1-0e04-4ff4-8ced-88b778afd0d3')\"\n",
              "            title=\"Convert this dataframe to an interactive table.\"\n",
              "            style=\"display:none;\">\n",
              "\n",
              "  <svg xmlns=\"http://www.w3.org/2000/svg\" height=\"24px\" viewBox=\"0 -960 960 960\">\n",
              "    <path d=\"M120-120v-720h720v720H120Zm60-500h600v-160H180v160Zm220 220h160v-160H400v160Zm0 220h160v-160H400v160ZM180-400h160v-160H180v160Zm440 0h160v-160H620v160ZM180-180h160v-160H180v160Zm440 0h160v-160H620v160Z\"/>\n",
              "  </svg>\n",
              "    </button>\n",
              "\n",
              "  <style>\n",
              "    .colab-df-container {\n",
              "      display:flex;\n",
              "      gap: 12px;\n",
              "    }\n",
              "\n",
              "    .colab-df-convert {\n",
              "      background-color: #E8F0FE;\n",
              "      border: none;\n",
              "      border-radius: 50%;\n",
              "      cursor: pointer;\n",
              "      display: none;\n",
              "      fill: #1967D2;\n",
              "      height: 32px;\n",
              "      padding: 0 0 0 0;\n",
              "      width: 32px;\n",
              "    }\n",
              "\n",
              "    .colab-df-convert:hover {\n",
              "      background-color: #E2EBFA;\n",
              "      box-shadow: 0px 1px 2px rgba(60, 64, 67, 0.3), 0px 1px 3px 1px rgba(60, 64, 67, 0.15);\n",
              "      fill: #174EA6;\n",
              "    }\n",
              "\n",
              "    .colab-df-buttons div {\n",
              "      margin-bottom: 4px;\n",
              "    }\n",
              "\n",
              "    [theme=dark] .colab-df-convert {\n",
              "      background-color: #3B4455;\n",
              "      fill: #D2E3FC;\n",
              "    }\n",
              "\n",
              "    [theme=dark] .colab-df-convert:hover {\n",
              "      background-color: #434B5C;\n",
              "      box-shadow: 0px 1px 3px 1px rgba(0, 0, 0, 0.15);\n",
              "      filter: drop-shadow(0px 1px 2px rgba(0, 0, 0, 0.3));\n",
              "      fill: #FFFFFF;\n",
              "    }\n",
              "  </style>\n",
              "\n",
              "    <script>\n",
              "      const buttonEl =\n",
              "        document.querySelector('#df-24a0f7f1-0e04-4ff4-8ced-88b778afd0d3 button.colab-df-convert');\n",
              "      buttonEl.style.display =\n",
              "        google.colab.kernel.accessAllowed ? 'block' : 'none';\n",
              "\n",
              "      async function convertToInteractive(key) {\n",
              "        const element = document.querySelector('#df-24a0f7f1-0e04-4ff4-8ced-88b778afd0d3');\n",
              "        const dataTable =\n",
              "          await google.colab.kernel.invokeFunction('convertToInteractive',\n",
              "                                                    [key], {});\n",
              "        if (!dataTable) return;\n",
              "\n",
              "        const docLinkHtml = 'Like what you see? Visit the ' +\n",
              "          '<a target=\"_blank\" href=https://colab.research.google.com/notebooks/data_table.ipynb>data table notebook</a>'\n",
              "          + ' to learn more about interactive tables.';\n",
              "        element.innerHTML = '';\n",
              "        dataTable['output_type'] = 'display_data';\n",
              "        await google.colab.output.renderOutput(dataTable, element);\n",
              "        const docLink = document.createElement('div');\n",
              "        docLink.innerHTML = docLinkHtml;\n",
              "        element.appendChild(docLink);\n",
              "      }\n",
              "    </script>\n",
              "  </div>\n",
              "\n",
              "\n",
              "<div id=\"df-19dd266c-eb9b-42b2-8aa9-8594e2bb6f72\">\n",
              "  <button class=\"colab-df-quickchart\" onclick=\"quickchart('df-19dd266c-eb9b-42b2-8aa9-8594e2bb6f72')\"\n",
              "            title=\"Suggest charts.\"\n",
              "            style=\"display:none;\">\n",
              "\n",
              "<svg xmlns=\"http://www.w3.org/2000/svg\" height=\"24px\"viewBox=\"0 0 24 24\"\n",
              "     width=\"24px\">\n",
              "    <g>\n",
              "        <path d=\"M19 3H5c-1.1 0-2 .9-2 2v14c0 1.1.9 2 2 2h14c1.1 0 2-.9 2-2V5c0-1.1-.9-2-2-2zM9 17H7v-7h2v7zm4 0h-2V7h2v10zm4 0h-2v-4h2v4z\"/>\n",
              "    </g>\n",
              "</svg>\n",
              "  </button>\n",
              "\n",
              "<style>\n",
              "  .colab-df-quickchart {\n",
              "      --bg-color: #E8F0FE;\n",
              "      --fill-color: #1967D2;\n",
              "      --hover-bg-color: #E2EBFA;\n",
              "      --hover-fill-color: #174EA6;\n",
              "      --disabled-fill-color: #AAA;\n",
              "      --disabled-bg-color: #DDD;\n",
              "  }\n",
              "\n",
              "  [theme=dark] .colab-df-quickchart {\n",
              "      --bg-color: #3B4455;\n",
              "      --fill-color: #D2E3FC;\n",
              "      --hover-bg-color: #434B5C;\n",
              "      --hover-fill-color: #FFFFFF;\n",
              "      --disabled-bg-color: #3B4455;\n",
              "      --disabled-fill-color: #666;\n",
              "  }\n",
              "\n",
              "  .colab-df-quickchart {\n",
              "    background-color: var(--bg-color);\n",
              "    border: none;\n",
              "    border-radius: 50%;\n",
              "    cursor: pointer;\n",
              "    display: none;\n",
              "    fill: var(--fill-color);\n",
              "    height: 32px;\n",
              "    padding: 0;\n",
              "    width: 32px;\n",
              "  }\n",
              "\n",
              "  .colab-df-quickchart:hover {\n",
              "    background-color: var(--hover-bg-color);\n",
              "    box-shadow: 0 1px 2px rgba(60, 64, 67, 0.3), 0 1px 3px 1px rgba(60, 64, 67, 0.15);\n",
              "    fill: var(--button-hover-fill-color);\n",
              "  }\n",
              "\n",
              "  .colab-df-quickchart-complete:disabled,\n",
              "  .colab-df-quickchart-complete:disabled:hover {\n",
              "    background-color: var(--disabled-bg-color);\n",
              "    fill: var(--disabled-fill-color);\n",
              "    box-shadow: none;\n",
              "  }\n",
              "\n",
              "  .colab-df-spinner {\n",
              "    border: 2px solid var(--fill-color);\n",
              "    border-color: transparent;\n",
              "    border-bottom-color: var(--fill-color);\n",
              "    animation:\n",
              "      spin 1s steps(1) infinite;\n",
              "  }\n",
              "\n",
              "  @keyframes spin {\n",
              "    0% {\n",
              "      border-color: transparent;\n",
              "      border-bottom-color: var(--fill-color);\n",
              "      border-left-color: var(--fill-color);\n",
              "    }\n",
              "    20% {\n",
              "      border-color: transparent;\n",
              "      border-left-color: var(--fill-color);\n",
              "      border-top-color: var(--fill-color);\n",
              "    }\n",
              "    30% {\n",
              "      border-color: transparent;\n",
              "      border-left-color: var(--fill-color);\n",
              "      border-top-color: var(--fill-color);\n",
              "      border-right-color: var(--fill-color);\n",
              "    }\n",
              "    40% {\n",
              "      border-color: transparent;\n",
              "      border-right-color: var(--fill-color);\n",
              "      border-top-color: var(--fill-color);\n",
              "    }\n",
              "    60% {\n",
              "      border-color: transparent;\n",
              "      border-right-color: var(--fill-color);\n",
              "    }\n",
              "    80% {\n",
              "      border-color: transparent;\n",
              "      border-right-color: var(--fill-color);\n",
              "      border-bottom-color: var(--fill-color);\n",
              "    }\n",
              "    90% {\n",
              "      border-color: transparent;\n",
              "      border-bottom-color: var(--fill-color);\n",
              "    }\n",
              "  }\n",
              "</style>\n",
              "\n",
              "  <script>\n",
              "    async function quickchart(key) {\n",
              "      const quickchartButtonEl =\n",
              "        document.querySelector('#' + key + ' button');\n",
              "      quickchartButtonEl.disabled = true;  // To prevent multiple clicks.\n",
              "      quickchartButtonEl.classList.add('colab-df-spinner');\n",
              "      try {\n",
              "        const charts = await google.colab.kernel.invokeFunction(\n",
              "            'suggestCharts', [key], {});\n",
              "      } catch (error) {\n",
              "        console.error('Error during call to suggestCharts:', error);\n",
              "      }\n",
              "      quickchartButtonEl.classList.remove('colab-df-spinner');\n",
              "      quickchartButtonEl.classList.add('colab-df-quickchart-complete');\n",
              "    }\n",
              "    (() => {\n",
              "      let quickchartButtonEl =\n",
              "        document.querySelector('#df-19dd266c-eb9b-42b2-8aa9-8594e2bb6f72 button');\n",
              "      quickchartButtonEl.style.display =\n",
              "        google.colab.kernel.accessAllowed ? 'block' : 'none';\n",
              "    })();\n",
              "  </script>\n",
              "</div>\n",
              "    </div>\n",
              "  </div>\n"
            ]
          },
          "metadata": {},
          "execution_count": 27
        }
      ]
    },
    {
      "cell_type": "code",
      "execution_count": 28,
      "metadata": {
        "id": "ahYM39383fLS"
      },
      "outputs": [],
      "source": [
        "df = df.replace({'response: R - responder': 1, 'response: NR - non-responder': 0})\n",
        "df.index = range(1, len(df) + 1)"
      ]
    },
    {
      "cell_type": "markdown",
      "source": [
        "#Underlying algorithm: Support Vector Machine (SVM)"
      ],
      "metadata": {
        "id": "b5B8GGbV7P1G"
      }
    },
    {
      "cell_type": "markdown",
      "source": [
        "Split the data into training and test set"
      ],
      "metadata": {
        "id": "inUJ4BZMj_uO"
      }
    },
    {
      "cell_type": "code",
      "source": [
        "X_train, X_test, y_train, y_test = train_test_split(ra, df,   test_size=0.2, random_state=42, stratify=df)\n",
        "y_train = y_train.values.ravel()\n",
        "y_test = y_test.values.ravel()"
      ],
      "metadata": {
        "id": "NaX4abr-JscG"
      },
      "execution_count": 29,
      "outputs": []
    },
    {
      "cell_type": "code",
      "source": [
        "# Create an SVM classifier with a linear kernel after hyperparameter tuning with gridsearchcv\n",
        "SVM = svm.SVC(kernel='linear', C=0.01, probability=True)\n",
        "# Train the classifier on the training data\n",
        "SVM.fit(X_train, y_train)\n",
        "# Test the classifier on the testing data\n",
        "accuracy = SVM.score(X_test, y_test)\n",
        "print(\"Accuracy:\", accuracy)\n",
        "# Test the classifier on the testing data\n",
        "y_pred = SVM.predict(X_test)\n",
        "# Print the prediction probabilities for the first 10 samples in the testing set (The desired output for Cp)\n",
        "probas = SVM.predict_proba(X_test)\n",
        "print(probas)"
      ],
      "metadata": {
        "colab": {
          "base_uri": "https://localhost:8080/"
        },
        "id": "D_N0-iQH7R_8",
        "outputId": "b04ab705-d9c7-4833-8c5c-44161acc3ae0"
      },
      "execution_count": 30,
      "outputs": [
        {
          "output_type": "stream",
          "name": "stdout",
          "text": [
            "Accuracy: 0.875\n",
            "[[0.02522916 0.97477084]\n",
            " [0.01343456 0.98656544]\n",
            " [0.91425373 0.08574627]\n",
            " [0.51144331 0.48855669]\n",
            " [0.94680465 0.05319535]\n",
            " [0.03271961 0.96728039]\n",
            " [0.99308    0.00692   ]\n",
            " [0.05566892 0.94433108]\n",
            " [0.33898863 0.66101137]\n",
            " [0.84460971 0.15539029]\n",
            " [0.02244788 0.97755212]\n",
            " [0.97069346 0.02930654]\n",
            " [0.01859327 0.98140673]\n",
            " [0.97883051 0.02116949]\n",
            " [0.98618221 0.01381779]\n",
            " [0.96716123 0.03283877]]\n"
          ]
        }
      ]
    },
    {
      "cell_type": "code",
      "source": [
        "y_pred #The predicted class"
      ],
      "metadata": {
        "colab": {
          "base_uri": "https://localhost:8080/"
        },
        "id": "5vsNoJVOB86D",
        "outputId": "642fc555-f0e8-447b-c08f-89bdd97efc77"
      },
      "execution_count": 31,
      "outputs": [
        {
          "output_type": "execute_result",
          "data": {
            "text/plain": [
              "array([1, 1, 0, 1, 0, 1, 0, 1, 1, 0, 1, 0, 1, 0, 0, 0])"
            ]
          },
          "metadata": {},
          "execution_count": 31
        }
      ]
    },
    {
      "cell_type": "code",
      "source": [
        "y_test #The real class"
      ],
      "metadata": {
        "colab": {
          "base_uri": "https://localhost:8080/"
        },
        "id": "1O-QI7JEqp3u",
        "outputId": "89821ebf-9d93-4a01-971e-27464b30d524"
      },
      "execution_count": 32,
      "outputs": [
        {
          "output_type": "execute_result",
          "data": {
            "text/plain": [
              "array([1, 1, 0, 0, 0, 1, 0, 1, 1, 1, 1, 0, 1, 0, 0, 0])"
            ]
          },
          "metadata": {},
          "execution_count": 32
        }
      ]
    },
    {
      "cell_type": "code",
      "source": [
        "num_responders = np.sum(y_pred == 0)\n",
        "num_non_responders = np.sum(y_pred == 1)\n",
        "# Plot the bar chart\n",
        "plt.figure(figsize=(10, 8))\n",
        "plt.bar(['Non Responder (0)', 'Responder (1)'], [num_responders, num_non_responders], color=['darkseagreen', 'darkseagreen'])\n",
        "plt.xlabel('Prediction')\n",
        "plt.ylabel('Frequency')\n",
        "plt.title('Predictions from thw underlying algorithm (SVM)')\n",
        "plt.show()"
      ],
      "metadata": {
        "colab": {
          "base_uri": "https://localhost:8080/",
          "height": 718
        },
        "id": "2dhF2H2iDiAN",
        "outputId": "4e0ef300-b82f-43cf-b739-548c53d0bd5a"
      },
      "execution_count": 33,
      "outputs": [
        {
          "output_type": "display_data",
          "data": {
            "text/plain": [
              "<Figure size 1000x800 with 1 Axes>"
            ],
            "image/png": "[encoded data removed]"
          },
          "metadata": {}
        }
      ]
    },
    {
      "cell_type": "code",
      "source": [
        "print('ROC AUC: {}'.format(roc_auc_score(y_test, probas[:,1])))"
      ],
      "metadata": {
        "colab": {
          "base_uri": "https://localhost:8080/"
        },
        "id": "VQhwpIhJa0Nb",
        "outputId": "3797e268-09d2-42c0-ecdb-08e9dbd3c35a"
      },
      "execution_count": 34,
      "outputs": [
        {
          "output_type": "stream",
          "name": "stdout",
          "text": [
            "ROC AUC: 0.984375\n"
          ]
        }
      ]
    },
    {
      "cell_type": "markdown",
      "source": [
        "#Evaluation Metrics"
      ],
      "metadata": {
        "id": "ywGR8IlNFv4L"
      }
    },
    {
      "cell_type": "markdown",
      "source": [
        "This is the metric for the accuracy for a region prediction. When an error occurs, means that the region of prediction does not contain the true value.\n"
      ],
      "metadata": {
        "id": "N3MvdH4eDfql"
      }
    },
    {
      "cell_type": "code",
      "source": [
        "\n",
        "def get_accuracy(prediction, real_class):\n",
        "    c = 0\n",
        "    N = len(prediction)\n",
        "    for i in range(0, N):\n",
        "        if prediction[i][real_class[i]]:\n",
        "            c += 1\n",
        "    return c / N"
      ],
      "metadata": {
        "id": "O0f-70gwinEG"
      },
      "execution_count": 35,
      "outputs": []
    },
    {
      "cell_type": "markdown",
      "source": [
        "These are the metrics that counts the mean of singleton predictions (oneC) and the mean of the number of prediction (avgC) for of the region prediction. Ιdeally we want these metrics to be close to 1."
      ],
      "metadata": {
        "id": "f_q001CfEvCF"
      }
    },
    {
      "cell_type": "code",
      "source": [
        "def get_oneC_avgC(prediction):\n",
        "    arr = np.array(prediction)\n",
        "    oneC = 0\n",
        "    avgC = 0\n",
        "    for i in range(0, len(arr)):\n",
        "        # number of predicted lables\n",
        "        num_predicted = arr[i].sum()\n",
        "        avgC += num_predicted\n",
        "        # is it a singleton?\n",
        "        if num_predicted == 1:\n",
        "            oneC += 1\n",
        "        pass\n",
        "    oneC /= len(arr)\n",
        "    avgC /= len(arr)\n",
        "    return oneC, avgC"
      ],
      "metadata": {
        "id": "tt7aDUBKEmxM"
      },
      "execution_count": 36,
      "outputs": []
    },
    {
      "cell_type": "code",
      "source": [],
      "metadata": {
        "id": "5Zx0BWrFkVk8"
      },
      "execution_count": 36,
      "outputs": []
    },
    {
      "cell_type": "markdown",
      "source": [
        "#Now Lets talk about Tranductive Conformal Predition (TCP) with SVM"
      ],
      "metadata": {
        "id": "2jetmFFRQah0"
      }
    },
    {
      "cell_type": "code",
      "source": [
        "df.value_counts() #number of patients per class"
      ],
      "metadata": {
        "colab": {
          "base_uri": "https://localhost:8080/"
        },
        "id": "Eue0hzzlVWwI",
        "outputId": "748a7563-7ed5-4183-a0ba-5a6f62240782"
      },
      "execution_count": 37,
      "outputs": [
        {
          "output_type": "execute_result",
          "data": {
            "text/plain": [
              "label\n",
              "1        40\n",
              "0        38\n",
              "dtype: int64"
            ]
          },
          "metadata": {},
          "execution_count": 37
        }
      ]
    },
    {
      "cell_type": "code",
      "source": [
        "x = X_test.iloc[0] #The first patient of the test set and his gene expressions\n",
        "x"
      ],
      "metadata": {
        "colab": {
          "base_uri": "https://localhost:8080/"
        },
        "id": "asdGOU1ub9mY",
        "outputId": "56b5c1b7-475c-4790-a610-e64b253c2f19"
      },
      "execution_count": 38,
      "outputs": [
        {
          "output_type": "execute_result",
          "data": {
            "text/plain": [
              "7893107     3.54953\n",
              "7893526     6.71185\n",
              "7893543    10.72330\n",
              "7893569     3.61611\n",
              "7894089     9.25846\n",
              "             ...   \n",
              "8168886     5.97162\n",
              "8178802    12.06910\n",
              "8178811    12.19040\n",
              "8180214     5.80909\n",
              "8180282     7.00873\n",
              "Name: 25, Length: 100, dtype: float64"
            ]
          },
          "metadata": {},
          "execution_count": 38
        }
      ]
    },
    {
      "cell_type": "code",
      "source": [
        "y_test = pd.Series(y_test)"
      ],
      "metadata": {
        "id": "uQZSlqpqcOq1"
      },
      "execution_count": 39,
      "outputs": []
    },
    {
      "cell_type": "code",
      "source": [
        "y = y_test.iloc[0] #The first patient belongs to class 1 (Responder)"
      ],
      "metadata": {
        "id": "LubsSh2OcCvN"
      },
      "execution_count": 40,
      "outputs": []
    },
    {
      "cell_type": "code",
      "source": [
        "probas[0]"
      ],
      "metadata": {
        "colab": {
          "base_uri": "https://localhost:8080/"
        },
        "id": "Y97DjnYvc_i7",
        "outputId": "88d832f8-12ca-4412-ad56-c00ce0e18be9"
      },
      "execution_count": 41,
      "outputs": [
        {
          "output_type": "execute_result",
          "data": {
            "text/plain": [
              "array([0.02522916, 0.97477084])"
            ]
          },
          "metadata": {},
          "execution_count": 41
        }
      ]
    },
    {
      "cell_type": "markdown",
      "source": [
        "##DEFINE THE NON CONFORMITY MEASURE"
      ],
      "metadata": {
        "id": "ugOgJtyzdJs0"
      }
    },
    {
      "cell_type": "markdown",
      "source": [
        "The non conformity measure is defined as the inverse probability"
      ],
      "metadata": {
        "id": "veBVDLdKMt4r"
      }
    },
    {
      "cell_type": "code",
      "source": [
        "def InverseProbabilityNC(predicted_score, y):\n",
        "  prob = np.zeros(y.size, dtype=np.float32)\n",
        "  for i, y_ in enumerate(y):\n",
        "    if y_ >= predicted_score.shape[1]:\n",
        "      prob[i] = 0\n",
        "    else:\n",
        "      prob[i] = predicted_score[i, int(y_)]\n",
        "  return 1 - prob"
      ],
      "metadata": {
        "id": "ZJh7jm6JdPqf"
      },
      "execution_count": 42,
      "outputs": []
    },
    {
      "cell_type": "code",
      "source": [
        "# Here, we concatenate the first point from the test dataset (first patient) to the training data set\n",
        "X_train_plus_test = pd.concat([X_train,pd.DataFrame(X_test.iloc[0]).T])\n",
        "X_train_plus_test"
      ],
      "metadata": {
        "colab": {
          "base_uri": "https://localhost:8080/",
          "height": 443
        },
        "id": "EzgufRa9duFy",
        "outputId": "4c00001c-0fba-4a72-8e95-008e57041b41"
      },
      "execution_count": 43,
      "outputs": [
        {
          "output_type": "execute_result",
          "data": {
            "text/plain": [
              "    7893107  7893526  7893543  7893569  7894089  7894095  7894169   7894284  \\\n",
              "41  3.92671  4.66173  10.3706  2.31925  8.44160  6.49809  4.79078   9.91193   \n",
              "73  2.85862  6.30271  10.7956  3.46289  9.28916  6.69736  5.15867  10.15740   \n",
              "29  3.33920  5.74298  11.2860  3.98558  9.28443  7.15662  5.51320  10.71170   \n",
              "2   3.05276  6.58236  10.8271  3.33602  9.28394  7.21462  6.73186  10.82830   \n",
              "15  2.94579  5.76827  10.7013  3.05181  9.11173  7.24228  5.81846  10.79850   \n",
              "..      ...      ...      ...      ...      ...      ...      ...       ...   \n",
              "0   3.27081  6.29636  11.0876  3.88065  9.07261  7.16129  5.97489  10.44090   \n",
              "40  3.08142  5.54288  10.9706  2.99158  8.79226  6.51942  4.60594  10.12800   \n",
              "30  3.03072  5.09894  10.8433  4.14534  8.90374  6.94960  5.27088  10.39580   \n",
              "35  3.51230  6.59808  10.7653  3.82946  9.08094  6.50931  6.11065  10.73700   \n",
              "25  3.54953  6.71185  10.7233  3.61611  9.25846  6.78108  5.96914  10.84160   \n",
              "\n",
              "    7894637  7894965  ...  8154047  8154215  8154223  8163712  8168115  \\\n",
              "41  6.75317  7.22461  ...  3.68501  5.34808  5.29472  2.65611  6.31427   \n",
              "73  8.15172  6.57593  ...  3.43578  6.02973  5.87783  2.23212  6.58988   \n",
              "29  8.32088  7.23760  ...  3.43424  6.71150  6.71421  3.43583  7.12950   \n",
              "2   8.50749  7.26604  ...  3.36491  6.69556  6.72395  2.66750  6.65290   \n",
              "15  8.29914  7.05916  ...  3.60676  7.07412  6.62773  2.83667  6.73586   \n",
              "..      ...      ...  ...      ...      ...      ...      ...      ...   \n",
              "0   8.46360  6.74043  ...  3.69110  6.04761  6.16912  3.12952  6.89926   \n",
              "40  7.61213  7.03276  ...  3.37475  6.52437  6.10397  2.47743  6.72121   \n",
              "30  8.03399  7.35594  ...  3.53758  6.60775  6.71153  2.90895  6.47328   \n",
              "35  7.96152  6.86483  ...  3.61540  6.98349  6.70688  2.38418  7.01896   \n",
              "25  8.43946  7.49502  ...  3.53611  6.69423  6.42010  2.77550  6.86842   \n",
              "\n",
              "    8168886  8178802  8178811  8180214  8180282  \n",
              "41  4.59709  11.8185  11.7594  4.80899  7.58593  \n",
              "73  5.34187  11.4564  11.5035  4.63423  7.22421  \n",
              "29  5.54175  12.3253  12.3329  5.33113  7.20332  \n",
              "2   5.65206  11.4784  11.4410  5.55251  7.04199  \n",
              "15  5.78094  12.3495  12.3425  5.43191  7.00327  \n",
              "..      ...      ...      ...      ...      ...  \n",
              "0   5.42731  12.0939  12.1644  5.84077  7.31473  \n",
              "40  4.95979  11.4829  11.6196  4.59369  7.56474  \n",
              "30  5.39685  12.1345  12.2215  5.84823  6.84011  \n",
              "35  5.10834  12.3213  12.3502  5.35266  7.35054  \n",
              "25  5.97162  12.0691  12.1904  5.80909  7.00873  \n",
              "\n",
              "[63 rows x 100 columns]"
            ],
            "text/html": [
              "\n",
              "  <div id=\"df-8bc4223a-cec6-40df-9acc-e075e4affb9b\" class=\"colab-df-container\">\n",
              "    <div>\n",
              "<style scoped>\n",
              "    .dataframe tbody tr th:only-of-type {\n",
              "        vertical-align: middle;\n",
              "    }\n",
              "\n",
              "    .dataframe tbody tr th {\n",
              "        vertical-align: top;\n",
              "    }\n",
              "\n",
              "    .dataframe thead th {\n",
              "        text-align: right;\n",
              "    }\n",
              "</style>\n",
              "<table border=\"1\" class=\"dataframe\">\n",
              "  <thead>\n",
              "    <tr style=\"text-align: right;\">\n",
              "      <th></th>\n",
              "      <th>7893107</th>\n",
              "      <th>7893526</th>\n",
              "      <th>7893543</th>\n",
              "      <th>7893569</th>\n",
              "      <th>7894089</th>\n",
              "      <th>7894095</th>\n",
              "      <th>7894169</th>\n",
              "      <th>7894284</th>\n",
              "      <th>7894637</th>\n",
              "      <th>7894965</th>\n",
              "      <th>...</th>\n",
              "      <th>8154047</th>\n",
              "      <th>8154215</th>\n",
              "      <th>8154223</th>\n",
              "      <th>8163712</th>\n",
              "      <th>8168115</th>\n",
              "      <th>8168886</th>\n",
              "      <th>8178802</th>\n",
              "      <th>8178811</th>\n",
              "      <th>8180214</th>\n",
              "      <th>8180282</th>\n",
              "    </tr>\n",
              "  </thead>\n",
              "  <tbody>\n",
              "    <tr>\n",
              "      <th>41</th>\n",
              "      <td>3.92671</td>\n",
              "      <td>4.66173</td>\n",
              "      <td>10.3706</td>\n",
              "      <td>2.31925</td>\n",
              "      <td>8.44160</td>\n",
              "      <td>6.49809</td>\n",
              "      <td>4.79078</td>\n",
              "      <td>9.91193</td>\n",
              "      <td>6.75317</td>\n",
              "      <td>7.22461</td>\n",
              "      <td>...</td>\n",
              "      <td>3.68501</td>\n",
              "      <td>5.34808</td>\n",
              "      <td>5.29472</td>\n",
              "      <td>2.65611</td>\n",
              "      <td>6.31427</td>\n",
              "      <td>4.59709</td>\n",
              "      <td>11.8185</td>\n",
              "      <td>11.7594</td>\n",
              "      <td>4.80899</td>\n",
              "      <td>7.58593</td>\n",
              "    </tr>\n",
              "    <tr>\n",
              "      <th>73</th>\n",
              "      <td>2.85862</td>\n",
              "      <td>6.30271</td>\n",
              "      <td>10.7956</td>\n",
              "      <td>3.46289</td>\n",
              "      <td>9.28916</td>\n",
              "      <td>6.69736</td>\n",
              "      <td>5.15867</td>\n",
              "      <td>10.15740</td>\n",
              "      <td>8.15172</td>\n",
              "      <td>6.57593</td>\n",
              "      <td>...</td>\n",
              "      <td>3.43578</td>\n",
              "      <td>6.02973</td>\n",
              "      <td>5.87783</td>\n",
              "      <td>2.23212</td>\n",
              "      <td>6.58988</td>\n",
              "      <td>5.34187</td>\n",
              "      <td>11.4564</td>\n",
              "      <td>11.5035</td>\n",
              "      <td>4.63423</td>\n",
              "      <td>7.22421</td>\n",
              "    </tr>\n",
              "    <tr>\n",
              "      <th>29</th>\n",
              "      <td>3.33920</td>\n",
              "      <td>5.74298</td>\n",
              "      <td>11.2860</td>\n",
              "      <td>3.98558</td>\n",
              "      <td>9.28443</td>\n",
              "      <td>7.15662</td>\n",
              "      <td>5.51320</td>\n",
              "      <td>10.71170</td>\n",
              "      <td>8.32088</td>\n",
              "      <td>7.23760</td>\n",
              "      <td>...</td>\n",
              "      <td>3.43424</td>\n",
              "      <td>6.71150</td>\n",
              "      <td>6.71421</td>\n",
              "      <td>3.43583</td>\n",
              "      <td>7.12950</td>\n",
              "      <td>5.54175</td>\n",
              "      <td>12.3253</td>\n",
              "      <td>12.3329</td>\n",
              "      <td>5.33113</td>\n",
              "      <td>7.20332</td>\n",
              "    </tr>\n",
              "    <tr>\n",
              "      <th>2</th>\n",
              "      <td>3.05276</td>\n",
              "      <td>6.58236</td>\n",
              "      <td>10.8271</td>\n",
              "      <td>3.33602</td>\n",
              "      <td>9.28394</td>\n",
              "      <td>7.21462</td>\n",
              "      <td>6.73186</td>\n",
              "      <td>10.82830</td>\n",
              "      <td>8.50749</td>\n",
              "      <td>7.26604</td>\n",
              "      <td>...</td>\n",
              "      <td>3.36491</td>\n",
              "      <td>6.69556</td>\n",
              "      <td>6.72395</td>\n",
              "      <td>2.66750</td>\n",
              "      <td>6.65290</td>\n",
              "      <td>5.65206</td>\n",
              "      <td>11.4784</td>\n",
              "      <td>11.4410</td>\n",
              "      <td>5.55251</td>\n",
              "      <td>7.04199</td>\n",
              "    </tr>\n",
              "    <tr>\n",
              "      <th>15</th>\n",
              "      <td>2.94579</td>\n",
              "      <td>5.76827</td>\n",
              "      <td>10.7013</td>\n",
              "      <td>3.05181</td>\n",
              "      <td>9.11173</td>\n",
              "      <td>7.24228</td>\n",
              "      <td>5.81846</td>\n",
              "      <td>10.79850</td>\n",
              "      <td>8.29914</td>\n",
              "      <td>7.05916</td>\n",
              "      <td>...</td>\n",
              "      <td>3.60676</td>\n",
              "      <td>7.07412</td>\n",
              "      <td>6.62773</td>\n",
              "      <td>2.83667</td>\n",
              "      <td>6.73586</td>\n",
              "      <td>5.78094</td>\n",
              "      <td>12.3495</td>\n",
              "      <td>12.3425</td>\n",
              "      <td>5.43191</td>\n",
              "      <td>7.00327</td>\n",
              "    </tr>\n",
              "    <tr>\n",
              "      <th>...</th>\n",
              "      <td>...</td>\n",
              "      <td>...</td>\n",
              "      <td>...</td>\n",
              "      <td>...</td>\n",
              "      <td>...</td>\n",
              "      <td>...</td>\n",
              "      <td>...</td>\n",
              "      <td>...</td>\n",
              "      <td>...</td>\n",
              "      <td>...</td>\n",
              "      <td>...</td>\n",
              "      <td>...</td>\n",
              "      <td>...</td>\n",
              "      <td>...</td>\n",
              "      <td>...</td>\n",
              "      <td>...</td>\n",
              "      <td>...</td>\n",
              "      <td>...</td>\n",
              "      <td>...</td>\n",
              "      <td>...</td>\n",
              "      <td>...</td>\n",
              "    </tr>\n",
              "    <tr>\n",
              "      <th>0</th>\n",
              "      <td>3.27081</td>\n",
              "      <td>6.29636</td>\n",
              "      <td>11.0876</td>\n",
              "      <td>3.88065</td>\n",
              "      <td>9.07261</td>\n",
              "      <td>7.16129</td>\n",
              "      <td>5.97489</td>\n",
              "      <td>10.44090</td>\n",
              "      <td>8.46360</td>\n",
              "      <td>6.74043</td>\n",
              "      <td>...</td>\n",
              "      <td>3.69110</td>\n",
              "      <td>6.04761</td>\n",
              "      <td>6.16912</td>\n",
              "      <td>3.12952</td>\n",
              "      <td>6.89926</td>\n",
              "      <td>5.42731</td>\n",
              "      <td>12.0939</td>\n",
              "      <td>12.1644</td>\n",
              "      <td>5.84077</td>\n",
              "      <td>7.31473</td>\n",
              "    </tr>\n",
              "    <tr>\n",
              "      <th>40</th>\n",
              "      <td>3.08142</td>\n",
              "      <td>5.54288</td>\n",
              "      <td>10.9706</td>\n",
              "      <td>2.99158</td>\n",
              "      <td>8.79226</td>\n",
              "      <td>6.51942</td>\n",
              "      <td>4.60594</td>\n",
              "      <td>10.12800</td>\n",
              "      <td>7.61213</td>\n",
              "      <td>7.03276</td>\n",
              "      <td>...</td>\n",
              "      <td>3.37475</td>\n",
              "      <td>6.52437</td>\n",
              "      <td>6.10397</td>\n",
              "      <td>2.47743</td>\n",
              "      <td>6.72121</td>\n",
              "      <td>4.95979</td>\n",
              "      <td>11.4829</td>\n",
              "      <td>11.6196</td>\n",
              "      <td>4.59369</td>\n",
              "      <td>7.56474</td>\n",
              "    </tr>\n",
              "    <tr>\n",
              "      <th>30</th>\n",
              "      <td>3.03072</td>\n",
              "      <td>5.09894</td>\n",
              "      <td>10.8433</td>\n",
              "      <td>4.14534</td>\n",
              "      <td>8.90374</td>\n",
              "      <td>6.94960</td>\n",
              "      <td>5.27088</td>\n",
              "      <td>10.39580</td>\n",
              "      <td>8.03399</td>\n",
              "      <td>7.35594</td>\n",
              "      <td>...</td>\n",
              "      <td>3.53758</td>\n",
              "      <td>6.60775</td>\n",
              "      <td>6.71153</td>\n",
              "      <td>2.90895</td>\n",
              "      <td>6.47328</td>\n",
              "      <td>5.39685</td>\n",
              "      <td>12.1345</td>\n",
              "      <td>12.2215</td>\n",
              "      <td>5.84823</td>\n",
              "      <td>6.84011</td>\n",
              "    </tr>\n",
              "    <tr>\n",
              "      <th>35</th>\n",
              "      <td>3.51230</td>\n",
              "      <td>6.59808</td>\n",
              "      <td>10.7653</td>\n",
              "      <td>3.82946</td>\n",
              "      <td>9.08094</td>\n",
              "      <td>6.50931</td>\n",
              "      <td>6.11065</td>\n",
              "      <td>10.73700</td>\n",
              "      <td>7.96152</td>\n",
              "      <td>6.86483</td>\n",
              "      <td>...</td>\n",
              "      <td>3.61540</td>\n",
              "      <td>6.98349</td>\n",
              "      <td>6.70688</td>\n",
              "      <td>2.38418</td>\n",
              "      <td>7.01896</td>\n",
              "      <td>5.10834</td>\n",
              "      <td>12.3213</td>\n",
              "      <td>12.3502</td>\n",
              "      <td>5.35266</td>\n",
              "      <td>7.35054</td>\n",
              "    </tr>\n",
              "    <tr>\n",
              "      <th>25</th>\n",
              "      <td>3.54953</td>\n",
              "      <td>6.71185</td>\n",
              "      <td>10.7233</td>\n",
              "      <td>3.61611</td>\n",
              "      <td>9.25846</td>\n",
              "      <td>6.78108</td>\n",
              "      <td>5.96914</td>\n",
              "      <td>10.84160</td>\n",
              "      <td>8.43946</td>\n",
              "      <td>7.49502</td>\n",
              "      <td>...</td>\n",
              "      <td>3.53611</td>\n",
              "      <td>6.69423</td>\n",
              "      <td>6.42010</td>\n",
              "      <td>2.77550</td>\n",
              "      <td>6.86842</td>\n",
              "      <td>5.97162</td>\n",
              "      <td>12.0691</td>\n",
              "      <td>12.1904</td>\n",
              "      <td>5.80909</td>\n",
              "      <td>7.00873</td>\n",
              "    </tr>\n",
              "  </tbody>\n",
              "</table>\n",
              "<p>63 rows × 100 columns</p>\n",
              "</div>\n",
              "    <div class=\"colab-df-buttons\">\n",
              "\n",
              "  <div class=\"colab-df-container\">\n",
              "    <button class=\"colab-df-convert\" onclick=\"convertToInteractive('df-8bc4223a-cec6-40df-9acc-e075e4affb9b')\"\n",
              "            title=\"Convert this dataframe to an interactive table.\"\n",
              "            style=\"display:none;\">\n",
              "\n",
              "  <svg xmlns=\"http://www.w3.org/2000/svg\" height=\"24px\" viewBox=\"0 -960 960 960\">\n",
              "    <path d=\"M120-120v-720h720v720H120Zm60-500h600v-160H180v160Zm220 220h160v-160H400v160Zm0 220h160v-160H400v160ZM180-400h160v-160H180v160Zm440 0h160v-160H620v160ZM180-180h160v-160H180v160Zm440 0h160v-160H620v160Z\"/>\n",
              "  </svg>\n",
              "    </button>\n",
              "\n",
              "  <style>\n",
              "    .colab-df-container {\n",
              "      display:flex;\n",
              "      gap: 12px;\n",
              "    }\n",
              "\n",
              "    .colab-df-convert {\n",
              "      background-color: #E8F0FE;\n",
              "      border: none;\n",
              "      border-radius: 50%;\n",
              "      cursor: pointer;\n",
              "      display: none;\n",
              "      fill: #1967D2;\n",
              "      height: 32px;\n",
              "      padding: 0 0 0 0;\n",
              "      width: 32px;\n",
              "    }\n",
              "\n",
              "    .colab-df-convert:hover {\n",
              "      background-color: #E2EBFA;\n",
              "      box-shadow: 0px 1px 2px rgba(60, 64, 67, 0.3), 0px 1px 3px 1px rgba(60, 64, 67, 0.15);\n",
              "      fill: #174EA6;\n",
              "    }\n",
              "\n",
              "    .colab-df-buttons div {\n",
              "      margin-bottom: 4px;\n",
              "    }\n",
              "\n",
              "    [theme=dark] .colab-df-convert {\n",
              "      background-color: #3B4455;\n",
              "      fill: #D2E3FC;\n",
              "    }\n",
              "\n",
              "    [theme=dark] .colab-df-convert:hover {\n",
              "      background-color: #434B5C;\n",
              "      box-shadow: 0px 1px 3px 1px rgba(0, 0, 0, 0.15);\n",
              "      filter: drop-shadow(0px 1px 2px rgba(0, 0, 0, 0.3));\n",
              "      fill: #FFFFFF;\n",
              "    }\n",
              "  </style>\n",
              "\n",
              "    <script>\n",
              "      const buttonEl =\n",
              "        document.querySelector('#df-8bc4223a-cec6-40df-9acc-e075e4affb9b button.colab-df-convert');\n",
              "      buttonEl.style.display =\n",
              "        google.colab.kernel.accessAllowed ? 'block' : 'none';\n",
              "\n",
              "      async function convertToInteractive(key) {\n",
              "        const element = document.querySelector('#df-8bc4223a-cec6-40df-9acc-e075e4affb9b');\n",
              "        const dataTable =\n",
              "          await google.colab.kernel.invokeFunction('convertToInteractive',\n",
              "                                                    [key], {});\n",
              "        if (!dataTable) return;\n",
              "\n",
              "        const docLinkHtml = 'Like what you see? Visit the ' +\n",
              "          '<a target=\"_blank\" href=https://colab.research.google.com/notebooks/data_table.ipynb>data table notebook</a>'\n",
              "          + ' to learn more about interactive tables.';\n",
              "        element.innerHTML = '';\n",
              "        dataTable['output_type'] = 'display_data';\n",
              "        await google.colab.output.renderOutput(dataTable, element);\n",
              "        const docLink = document.createElement('div');\n",
              "        docLink.innerHTML = docLinkHtml;\n",
              "        element.appendChild(docLink);\n",
              "      }\n",
              "    </script>\n",
              "  </div>\n",
              "\n",
              "\n",
              "<div id=\"df-c9c18e2b-cdf2-44ff-9e96-ed41a4612019\">\n",
              "  <button class=\"colab-df-quickchart\" onclick=\"quickchart('df-c9c18e2b-cdf2-44ff-9e96-ed41a4612019')\"\n",
              "            title=\"Suggest charts.\"\n",
              "            style=\"display:none;\">\n",
              "\n",
              "<svg xmlns=\"http://www.w3.org/2000/svg\" height=\"24px\"viewBox=\"0 0 24 24\"\n",
              "     width=\"24px\">\n",
              "    <g>\n",
              "        <path d=\"M19 3H5c-1.1 0-2 .9-2 2v14c0 1.1.9 2 2 2h14c1.1 0 2-.9 2-2V5c0-1.1-.9-2-2-2zM9 17H7v-7h2v7zm4 0h-2V7h2v10zm4 0h-2v-4h2v4z\"/>\n",
              "    </g>\n",
              "</svg>\n",
              "  </button>\n",
              "\n",
              "<style>\n",
              "  .colab-df-quickchart {\n",
              "      --bg-color: #E8F0FE;\n",
              "      --fill-color: #1967D2;\n",
              "      --hover-bg-color: #E2EBFA;\n",
              "      --hover-fill-color: #174EA6;\n",
              "      --disabled-fill-color: #AAA;\n",
              "      --disabled-bg-color: #DDD;\n",
              "  }\n",
              "\n",
              "  [theme=dark] .colab-df-quickchart {\n",
              "      --bg-color: #3B4455;\n",
              "      --fill-color: #D2E3FC;\n",
              "      --hover-bg-color: #434B5C;\n",
              "      --hover-fill-color: #FFFFFF;\n",
              "      --disabled-bg-color: #3B4455;\n",
              "      --disabled-fill-color: #666;\n",
              "  }\n",
              "\n",
              "  .colab-df-quickchart {\n",
              "    background-color: var(--bg-color);\n",
              "    border: none;\n",
              "    border-radius: 50%;\n",
              "    cursor: pointer;\n",
              "    display: none;\n",
              "    fill: var(--fill-color);\n",
              "    height: 32px;\n",
              "    padding: 0;\n",
              "    width: 32px;\n",
              "  }\n",
              "\n",
              "  .colab-df-quickchart:hover {\n",
              "    background-color: var(--hover-bg-color);\n",
              "    box-shadow: 0 1px 2px rgba(60, 64, 67, 0.3), 0 1px 3px 1px rgba(60, 64, 67, 0.15);\n",
              "    fill: var(--button-hover-fill-color);\n",
              "  }\n",
              "\n",
              "  .colab-df-quickchart-complete:disabled,\n",
              "  .colab-df-quickchart-complete:disabled:hover {\n",
              "    background-color: var(--disabled-bg-color);\n",
              "    fill: var(--disabled-fill-color);\n",
              "    box-shadow: none;\n",
              "  }\n",
              "\n",
              "  .colab-df-spinner {\n",
              "    border: 2px solid var(--fill-color);\n",
              "    border-color: transparent;\n",
              "    border-bottom-color: var(--fill-color);\n",
              "    animation:\n",
              "      spin 1s steps(1) infinite;\n",
              "  }\n",
              "\n",
              "  @keyframes spin {\n",
              "    0% {\n",
              "      border-color: transparent;\n",
              "      border-bottom-color: var(--fill-color);\n",
              "      border-left-color: var(--fill-color);\n",
              "    }\n",
              "    20% {\n",
              "      border-color: transparent;\n",
              "      border-left-color: var(--fill-color);\n",
              "      border-top-color: var(--fill-color);\n",
              "    }\n",
              "    30% {\n",
              "      border-color: transparent;\n",
              "      border-left-color: var(--fill-color);\n",
              "      border-top-color: var(--fill-color);\n",
              "      border-right-color: var(--fill-color);\n",
              "    }\n",
              "    40% {\n",
              "      border-color: transparent;\n",
              "      border-right-color: var(--fill-color);\n",
              "      border-top-color: var(--fill-color);\n",
              "    }\n",
              "    60% {\n",
              "      border-color: transparent;\n",
              "      border-right-color: var(--fill-color);\n",
              "    }\n",
              "    80% {\n",
              "      border-color: transparent;\n",
              "      border-right-color: var(--fill-color);\n",
              "      border-bottom-color: var(--fill-color);\n",
              "    }\n",
              "    90% {\n",
              "      border-color: transparent;\n",
              "      border-bottom-color: var(--fill-color);\n",
              "    }\n",
              "  }\n",
              "</style>\n",
              "\n",
              "  <script>\n",
              "    async function quickchart(key) {\n",
              "      const quickchartButtonEl =\n",
              "        document.querySelector('#' + key + ' button');\n",
              "      quickchartButtonEl.disabled = true;  // To prevent multiple clicks.\n",
              "      quickchartButtonEl.classList.add('colab-df-spinner');\n",
              "      try {\n",
              "        const charts = await google.colab.kernel.invokeFunction(\n",
              "            'suggestCharts', [key], {});\n",
              "      } catch (error) {\n",
              "        console.error('Error during call to suggestCharts:', error);\n",
              "      }\n",
              "      quickchartButtonEl.classList.remove('colab-df-spinner');\n",
              "      quickchartButtonEl.classList.add('colab-df-quickchart-complete');\n",
              "    }\n",
              "    (() => {\n",
              "      let quickchartButtonEl =\n",
              "        document.querySelector('#df-c9c18e2b-cdf2-44ff-9e96-ed41a4612019 button');\n",
              "      quickchartButtonEl.style.display =\n",
              "        google.colab.kernel.accessAllowed ? 'block' : 'none';\n",
              "    })();\n",
              "  </script>\n",
              "</div>\n",
              "    </div>\n",
              "  </div>\n"
            ]
          },
          "metadata": {},
          "execution_count": 43
        }
      ]
    },
    {
      "cell_type": "markdown",
      "source": [
        "Here, we create two datasets for potential labels for the first point from the test dataset (first patient)"
      ],
      "metadata": {
        "id": "wNXpxnrAp6_6"
      }
    },
    {
      "cell_type": "code",
      "source": [
        "y_train_plus_test_0 = np.append(y_train, 0)\n",
        "y_train_plus_test_1 = np.append(y_train, 1)"
      ],
      "metadata": {
        "id": "RRa5j175eEzO"
      },
      "execution_count": 44,
      "outputs": []
    },
    {
      "cell_type": "markdown",
      "source": [
        "\n",
        "We fit the classifier twice using both potential labels 0 & 1. Here we fit the classifier using the potential label 0 and predict class scores for the new object if it had label 0\n",
        "\n",
        "\n"
      ],
      "metadata": {
        "id": "miHeGpLkqExO"
      }
    },
    {
      "cell_type": "code",
      "source": [
        "SVM.fit(X_train_plus_test, y_train_plus_test_0)\n",
        "y_pred_score_train_plus_test_0 = SVM.predict_proba(X_train_plus_test)"
      ],
      "metadata": {
        "id": "xXomEL44eIjD"
      },
      "execution_count": 45,
      "outputs": []
    },
    {
      "cell_type": "markdown",
      "source": [
        "We fit the classifier twice using both potential labels 0 & 1. Here we fit the classifier using the potential label 0 and predict class scores for the new object if it had label 1"
      ],
      "metadata": {
        "id": "5veailcHqOV8"
      }
    },
    {
      "cell_type": "code",
      "source": [
        "SVM.fit(X_train_plus_test, y_train_plus_test_1)\n",
        "y_pred_score_train_plus_test_1 = SVM.predict_proba(X_train_plus_test)"
      ],
      "metadata": {
        "id": "ssrs18SSeNxF"
      },
      "execution_count": 46,
      "outputs": []
    },
    {
      "cell_type": "code",
      "source": [
        "y_pred_score_train_plus_test_0"
      ],
      "metadata": {
        "colab": {
          "base_uri": "https://localhost:8080/"
        },
        "id": "21H0aIk7ebfD",
        "outputId": "3aa8bf25-08b5-4c44-f316-cda05eebbb89"
      },
      "execution_count": 47,
      "outputs": [
        {
          "output_type": "execute_result",
          "data": {
            "text/plain": [
              "array([[0.99703702, 0.00296298],\n",
              "       [0.61520424, 0.38479576],\n",
              "       [0.07089512, 0.92910488],\n",
              "       [0.03733989, 0.96266011],\n",
              "       [0.08246411, 0.91753589],\n",
              "       [0.02917283, 0.97082717],\n",
              "       [0.6320302 , 0.3679698 ],\n",
              "       [0.05211043, 0.94788957],\n",
              "       [0.99049078, 0.00950922],\n",
              "       [0.87869717, 0.12130283],\n",
              "       [0.80112572, 0.19887428],\n",
              "       [0.05222139, 0.94777861],\n",
              "       [0.92404309, 0.07595691],\n",
              "       [0.04714702, 0.95285298],\n",
              "       [0.419892  , 0.580108  ],\n",
              "       [0.53319121, 0.46680879],\n",
              "       [0.99384455, 0.00615545],\n",
              "       [0.98675866, 0.01324134],\n",
              "       [0.7436949 , 0.2563051 ],\n",
              "       [0.9794933 , 0.0205067 ],\n",
              "       [0.05218357, 0.94781643],\n",
              "       [0.01102114, 0.98897886],\n",
              "       [0.17086963, 0.82913037],\n",
              "       [0.16302346, 0.83697654],\n",
              "       [0.98262702, 0.01737298],\n",
              "       [0.85337124, 0.14662876],\n",
              "       [0.07208533, 0.92791467],\n",
              "       [0.05015345, 0.94984655],\n",
              "       [0.97644411, 0.02355589],\n",
              "       [0.17847955, 0.82152045],\n",
              "       [0.99750227, 0.00249773],\n",
              "       [0.96860196, 0.03139804],\n",
              "       [0.93992548, 0.06007452],\n",
              "       [0.34289151, 0.65710849],\n",
              "       [0.14974819, 0.85025181],\n",
              "       [0.05210407, 0.94789593],\n",
              "       [0.04608535, 0.95391465],\n",
              "       [0.99707104, 0.00292896],\n",
              "       [0.74370881, 0.25629119],\n",
              "       [0.02176536, 0.97823464],\n",
              "       [0.98805789, 0.01194211],\n",
              "       [0.07417041, 0.92582959],\n",
              "       [0.99099331, 0.00900669],\n",
              "       [0.02378997, 0.97621003],\n",
              "       [0.47440767, 0.52559233],\n",
              "       [0.8547391 , 0.1452609 ],\n",
              "       [0.96389362, 0.03610638],\n",
              "       [0.15278909, 0.84721091],\n",
              "       [0.56433584, 0.43566416],\n",
              "       [0.2716707 , 0.7283293 ],\n",
              "       [0.83227382, 0.16772618],\n",
              "       [0.98048386, 0.01951614],\n",
              "       [0.01221306, 0.98778694],\n",
              "       [0.99206052, 0.00793948],\n",
              "       [0.16100416, 0.83899584],\n",
              "       [0.91652245, 0.08347755],\n",
              "       [0.99409852, 0.00590148],\n",
              "       [0.28477723, 0.71522277],\n",
              "       [0.02788229, 0.97211771],\n",
              "       [0.83103778, 0.16896222],\n",
              "       [0.19963513, 0.80036487],\n",
              "       [0.16381601, 0.83618399],\n",
              "       [0.04740624, 0.95259376]])"
            ]
          },
          "metadata": {},
          "execution_count": 47
        }
      ]
    },
    {
      "cell_type": "code",
      "source": [
        "y_pred_score_train_plus_test_1"
      ],
      "metadata": {
        "colab": {
          "base_uri": "https://localhost:8080/"
        },
        "id": "2flkMKv0ecIj",
        "outputId": "28b16a27-42ed-46f8-e0a2-f01b5a84be2c"
      },
      "execution_count": 48,
      "outputs": [
        {
          "output_type": "execute_result",
          "data": {
            "text/plain": [
              "array([[0.99815337, 0.00184663],\n",
              "       [0.58959813, 0.41040187],\n",
              "       [0.05259468, 0.94740532],\n",
              "       [0.02373535, 0.97626465],\n",
              "       [0.05847163, 0.94152837],\n",
              "       [0.01873364, 0.98126636],\n",
              "       [0.62465136, 0.37534864],\n",
              "       [0.03809345, 0.96190655],\n",
              "       [0.99328656, 0.00671344],\n",
              "       [0.88572236, 0.11427764],\n",
              "       [0.81030999, 0.18969001],\n",
              "       [0.03820334, 0.96179666],\n",
              "       [0.93808921, 0.06191079],\n",
              "       [0.03404704, 0.96595296],\n",
              "       [0.38234691, 0.61765309],\n",
              "       [0.52145379, 0.47854621],\n",
              "       [0.99599481, 0.00400519],\n",
              "       [0.99000462, 0.00999538],\n",
              "       [0.73303231, 0.26696769],\n",
              "       [0.9849484 , 0.0150516 ],\n",
              "       [0.0381796 , 0.9618204 ],\n",
              "       [0.00661826, 0.99338174],\n",
              "       [0.14342705, 0.85657295],\n",
              "       [0.1335487 , 0.8664513 ],\n",
              "       [0.98740774, 0.01259226],\n",
              "       [0.85256863, 0.14743137],\n",
              "       [0.05315024, 0.94684976],\n",
              "       [0.03344913, 0.96655087],\n",
              "       [0.98149941, 0.01850059],\n",
              "       [0.15111466, 0.84888534],\n",
              "       [0.99868632, 0.00131368],\n",
              "       [0.97390829, 0.02609171],\n",
              "       [0.94741846, 0.05258154],\n",
              "       [0.30416376, 0.69583624],\n",
              "       [0.12082473, 0.87917527],\n",
              "       [0.03829153, 0.96170847],\n",
              "       [0.03069991, 0.96930009],\n",
              "       [0.99817161, 0.00182839],\n",
              "       [0.75157786, 0.24842214],\n",
              "       [0.01277779, 0.98722221],\n",
              "       [0.99198075, 0.00801925],\n",
              "       [0.05526852, 0.94473148],\n",
              "       [0.99388904, 0.00611096],\n",
              "       [0.01448448, 0.98551552],\n",
              "       [0.43974525, 0.56025475],\n",
              "       [0.86353406, 0.13646594],\n",
              "       [0.97179435, 0.02820565],\n",
              "       [0.12212392, 0.87787608],\n",
              "       [0.54198265, 0.45801735],\n",
              "       [0.23023018, 0.76976982],\n",
              "       [0.83693136, 0.16306864],\n",
              "       [0.98578011, 0.01421989],\n",
              "       [0.00696289, 0.99303711],\n",
              "       [0.99438601, 0.00561399],\n",
              "       [0.13035095, 0.86964905],\n",
              "       [0.92817707, 0.07182293],\n",
              "       [0.99645012, 0.00354988],\n",
              "       [0.24982454, 0.75017546],\n",
              "       [0.01832054, 0.98167946],\n",
              "       [0.83920436, 0.16079564],\n",
              "       [0.17401377, 0.82598623],\n",
              "       [0.12810671, 0.87189329],\n",
              "       [0.0269183 , 0.9730817 ]])"
            ]
          },
          "metadata": {},
          "execution_count": 48
        }
      ]
    },
    {
      "cell_type": "code",
      "source": [
        "y_pred_score_train_plus_test_0[-1,:]"
      ],
      "metadata": {
        "colab": {
          "base_uri": "https://localhost:8080/"
        },
        "id": "u3OQENw2ejDX",
        "outputId": "adfdf0d4-ba3c-451c-86a7-b2ea5a1ffddd"
      },
      "execution_count": 49,
      "outputs": [
        {
          "output_type": "execute_result",
          "data": {
            "text/plain": [
              "array([0.04740624, 0.95259376])"
            ]
          },
          "metadata": {},
          "execution_count": 49
        }
      ]
    },
    {
      "cell_type": "code",
      "source": [
        "y_pred_score_train_plus_test_1[-1,:]"
      ],
      "metadata": {
        "colab": {
          "base_uri": "https://localhost:8080/"
        },
        "id": "07i-eO_pelcY",
        "outputId": "2d0c4697-86bf-4fe5-d05d-3450524c7efc"
      },
      "execution_count": 50,
      "outputs": [
        {
          "output_type": "execute_result",
          "data": {
            "text/plain": [
              "array([0.0269183, 0.9730817])"
            ]
          },
          "metadata": {},
          "execution_count": 50
        }
      ]
    },
    {
      "cell_type": "markdown",
      "source": [
        "Calculate nonconformity scores for both situations - potential labels 0 & 1"
      ],
      "metadata": {
        "id": "fwVSlKmtqSDV"
      }
    },
    {
      "cell_type": "code",
      "source": [
        "non_conformity_scores_train_plus_test_0 = InverseProbabilityNC(y_pred_score_train_plus_test_0, y_train_plus_test_0)\n",
        "non_conformity_scores_train_plus_test_1 = InverseProbabilityNC(y_pred_score_train_plus_test_1, y_train_plus_test_1)"
      ],
      "metadata": {
        "id": "nl9GFNPCepiB"
      },
      "execution_count": 51,
      "outputs": []
    },
    {
      "cell_type": "code",
      "source": [
        "non_conformity_scores_train_plus_test_0"
      ],
      "metadata": {
        "colab": {
          "base_uri": "https://localhost:8080/"
        },
        "id": "Rw--Ah4zJk4g",
        "outputId": "4729a065-0c94-4f26-c672-7d2604b46f09"
      },
      "execution_count": 52,
      "outputs": [
        {
          "output_type": "execute_result",
          "data": {
            "text/plain": [
              "array([0.00296301, 0.6152042 , 0.07089514, 0.03733987, 0.0824641 ,\n",
              "       0.02917284, 0.6320302 , 0.05211043, 0.00950921, 0.12130284,\n",
              "       0.1988743 , 0.05222142, 0.07595694, 0.04714704, 0.580108  ,\n",
              "       0.5331912 , 0.00615543, 0.01324135, 0.2563051 , 0.02050668,\n",
              "       0.05218357, 0.01102114, 0.17086965, 0.16302347, 0.01737297,\n",
              "       0.14662874, 0.07208532, 0.05015343, 0.02355587, 0.17847955,\n",
              "       0.00249773, 0.03139806, 0.06007451, 0.3428915 , 0.1497482 ,\n",
              "       0.05210406, 0.04608536, 0.00292897, 0.2562912 , 0.02176535,\n",
              "       0.01194209, 0.07417041, 0.00900668, 0.02378994, 0.5255923 ,\n",
              "       0.14526093, 0.03610635, 0.15278912, 0.43566418, 0.2716707 ,\n",
              "       0.16772616, 0.01951617, 0.01221305, 0.00793946, 0.16100419,\n",
              "       0.08347756, 0.00590146, 0.28477722, 0.02788228, 0.16896224,\n",
              "       0.19963515, 0.16381603, 0.95259374], dtype=float32)"
            ]
          },
          "metadata": {},
          "execution_count": 52
        }
      ]
    },
    {
      "cell_type": "code",
      "source": [
        "y_train_plus_test_0"
      ],
      "metadata": {
        "colab": {
          "base_uri": "https://localhost:8080/"
        },
        "id": "znZyJhKWjfg0",
        "outputId": "05ce1aea-b6cc-4fc0-f32e-26cea050c9e2"
      },
      "execution_count": 53,
      "outputs": [
        {
          "output_type": "execute_result",
          "data": {
            "text/plain": [
              "array([0, 1, 1, 1, 1, 1, 1, 1, 0, 0, 0, 1, 0, 1, 0, 1, 0, 0, 0, 0, 1, 1,\n",
              "       1, 1, 0, 0, 1, 1, 0, 1, 0, 0, 0, 1, 1, 1, 1, 0, 0, 1, 0, 1, 0, 1,\n",
              "       0, 0, 0, 1, 0, 1, 0, 0, 1, 0, 1, 0, 0, 1, 1, 0, 1, 1, 0])"
            ]
          },
          "metadata": {},
          "execution_count": 53
        }
      ]
    },
    {
      "cell_type": "code",
      "source": [
        "y_pred_score_train_plus_test_0"
      ],
      "metadata": {
        "colab": {
          "base_uri": "https://localhost:8080/"
        },
        "id": "znB6QDIyjMAv",
        "outputId": "abc9d25d-be41-4460-d2ff-d5bfc23486a7"
      },
      "execution_count": 54,
      "outputs": [
        {
          "output_type": "execute_result",
          "data": {
            "text/plain": [
              "array([[0.99703702, 0.00296298],\n",
              "       [0.61520424, 0.38479576],\n",
              "       [0.07089512, 0.92910488],\n",
              "       [0.03733989, 0.96266011],\n",
              "       [0.08246411, 0.91753589],\n",
              "       [0.02917283, 0.97082717],\n",
              "       [0.6320302 , 0.3679698 ],\n",
              "       [0.05211043, 0.94788957],\n",
              "       [0.99049078, 0.00950922],\n",
              "       [0.87869717, 0.12130283],\n",
              "       [0.80112572, 0.19887428],\n",
              "       [0.05222139, 0.94777861],\n",
              "       [0.92404309, 0.07595691],\n",
              "       [0.04714702, 0.95285298],\n",
              "       [0.419892  , 0.580108  ],\n",
              "       [0.53319121, 0.46680879],\n",
              "       [0.99384455, 0.00615545],\n",
              "       [0.98675866, 0.01324134],\n",
              "       [0.7436949 , 0.2563051 ],\n",
              "       [0.9794933 , 0.0205067 ],\n",
              "       [0.05218357, 0.94781643],\n",
              "       [0.01102114, 0.98897886],\n",
              "       [0.17086963, 0.82913037],\n",
              "       [0.16302346, 0.83697654],\n",
              "       [0.98262702, 0.01737298],\n",
              "       [0.85337124, 0.14662876],\n",
              "       [0.07208533, 0.92791467],\n",
              "       [0.05015345, 0.94984655],\n",
              "       [0.97644411, 0.02355589],\n",
              "       [0.17847955, 0.82152045],\n",
              "       [0.99750227, 0.00249773],\n",
              "       [0.96860196, 0.03139804],\n",
              "       [0.93992548, 0.06007452],\n",
              "       [0.34289151, 0.65710849],\n",
              "       [0.14974819, 0.85025181],\n",
              "       [0.05210407, 0.94789593],\n",
              "       [0.04608535, 0.95391465],\n",
              "       [0.99707104, 0.00292896],\n",
              "       [0.74370881, 0.25629119],\n",
              "       [0.02176536, 0.97823464],\n",
              "       [0.98805789, 0.01194211],\n",
              "       [0.07417041, 0.92582959],\n",
              "       [0.99099331, 0.00900669],\n",
              "       [0.02378997, 0.97621003],\n",
              "       [0.47440767, 0.52559233],\n",
              "       [0.8547391 , 0.1452609 ],\n",
              "       [0.96389362, 0.03610638],\n",
              "       [0.15278909, 0.84721091],\n",
              "       [0.56433584, 0.43566416],\n",
              "       [0.2716707 , 0.7283293 ],\n",
              "       [0.83227382, 0.16772618],\n",
              "       [0.98048386, 0.01951614],\n",
              "       [0.01221306, 0.98778694],\n",
              "       [0.99206052, 0.00793948],\n",
              "       [0.16100416, 0.83899584],\n",
              "       [0.91652245, 0.08347755],\n",
              "       [0.99409852, 0.00590148],\n",
              "       [0.28477723, 0.71522277],\n",
              "       [0.02788229, 0.97211771],\n",
              "       [0.83103778, 0.16896222],\n",
              "       [0.19963513, 0.80036487],\n",
              "       [0.16381601, 0.83618399],\n",
              "       [0.04740624, 0.95259376]])"
            ]
          },
          "metadata": {},
          "execution_count": 54
        }
      ]
    },
    {
      "cell_type": "code",
      "source": [
        "non_conformity_scores_train_plus_test_1"
      ],
      "metadata": {
        "colab": {
          "base_uri": "https://localhost:8080/"
        },
        "id": "hdkfG4KwJnfJ",
        "outputId": "5432488b-b0d6-40f2-fff7-19689571cb61"
      },
      "execution_count": 55,
      "outputs": [
        {
          "output_type": "execute_result",
          "data": {
            "text/plain": [
              "array([0.00184661, 0.5895981 , 0.05259466, 0.02373534, 0.05847162,\n",
              "       0.01873362, 0.6246513 , 0.03809345, 0.00671345, 0.11427766,\n",
              "       0.18969   , 0.03820336, 0.06191081, 0.03404701, 0.61765313,\n",
              "       0.5214538 , 0.00400519, 0.0099954 , 0.2669677 , 0.0150516 ,\n",
              "       0.03817958, 0.00661826, 0.14342707, 0.13354868, 0.01259226,\n",
              "       0.14743137, 0.05315024, 0.03344911, 0.01850057, 0.15111464,\n",
              "       0.00131369, 0.02609169, 0.05258155, 0.30416375, 0.12082475,\n",
              "       0.03829151, 0.03069991, 0.00182837, 0.24842215, 0.01277781,\n",
              "       0.00801927, 0.05526853, 0.00611097, 0.01448447, 0.56025475,\n",
              "       0.1364659 , 0.02820563, 0.1221239 , 0.45801735, 0.23023015,\n",
              "       0.16306865, 0.01421988, 0.0069629 , 0.00561398, 0.13035095,\n",
              "       0.07182294, 0.00354987, 0.24982452, 0.01832056, 0.16079563,\n",
              "       0.1740138 , 0.12810671, 0.02691829], dtype=float32)"
            ]
          },
          "metadata": {},
          "execution_count": 55
        }
      ]
    },
    {
      "cell_type": "markdown",
      "source": [
        "Extract nonconformity scores for the training set and the new test point"
      ],
      "metadata": {
        "id": "fMJJHA6YqX8F"
      }
    },
    {
      "cell_type": "code",
      "source": [
        "non_conformity_scores_y_train_class_0 = non_conformity_scores_train_plus_test_0[:-1]\n",
        "non_conformity_scores_y_train_class_1 = non_conformity_scores_train_plus_test_1[:-1]\n",
        "\n",
        "non_conformity_scores_y_test_class_0 = non_conformity_scores_train_plus_test_0[-1]\n",
        "non_conformity_scores_y_test_class_1 = non_conformity_scores_train_plus_test_1[-1]"
      ],
      "metadata": {
        "id": "-xUCpuJUeuu8"
      },
      "execution_count": 56,
      "outputs": []
    },
    {
      "cell_type": "code",
      "source": [
        "non_conformity_scores_y_train_class_0"
      ],
      "metadata": {
        "colab": {
          "base_uri": "https://localhost:8080/"
        },
        "id": "yF4veyvkJ_P9",
        "outputId": "31023dad-2d70-473b-ad11-eab20cdf0ea7"
      },
      "execution_count": 57,
      "outputs": [
        {
          "output_type": "execute_result",
          "data": {
            "text/plain": [
              "array([0.00296301, 0.6152042 , 0.07089514, 0.03733987, 0.0824641 ,\n",
              "       0.02917284, 0.6320302 , 0.05211043, 0.00950921, 0.12130284,\n",
              "       0.1988743 , 0.05222142, 0.07595694, 0.04714704, 0.580108  ,\n",
              "       0.5331912 , 0.00615543, 0.01324135, 0.2563051 , 0.02050668,\n",
              "       0.05218357, 0.01102114, 0.17086965, 0.16302347, 0.01737297,\n",
              "       0.14662874, 0.07208532, 0.05015343, 0.02355587, 0.17847955,\n",
              "       0.00249773, 0.03139806, 0.06007451, 0.3428915 , 0.1497482 ,\n",
              "       0.05210406, 0.04608536, 0.00292897, 0.2562912 , 0.02176535,\n",
              "       0.01194209, 0.07417041, 0.00900668, 0.02378994, 0.5255923 ,\n",
              "       0.14526093, 0.03610635, 0.15278912, 0.43566418, 0.2716707 ,\n",
              "       0.16772616, 0.01951617, 0.01221305, 0.00793946, 0.16100419,\n",
              "       0.08347756, 0.00590146, 0.28477722, 0.02788228, 0.16896224,\n",
              "       0.19963515, 0.16381603], dtype=float32)"
            ]
          },
          "metadata": {},
          "execution_count": 57
        }
      ]
    },
    {
      "cell_type": "code",
      "source": [
        "non_conformity_scores_y_test_class_0"
      ],
      "metadata": {
        "colab": {
          "base_uri": "https://localhost:8080/"
        },
        "id": "Je_ugSGjKKoJ",
        "outputId": "8b0275ce-2704-4232-d03d-36e22c0b1097"
      },
      "execution_count": 58,
      "outputs": [
        {
          "output_type": "execute_result",
          "data": {
            "text/plain": [
              "0.95259374"
            ]
          },
          "metadata": {},
          "execution_count": 58
        }
      ]
    },
    {
      "cell_type": "code",
      "source": [
        "non_conformity_scores_y_test_class_1"
      ],
      "metadata": {
        "colab": {
          "base_uri": "https://localhost:8080/"
        },
        "id": "rGEQtmNVPX04",
        "outputId": "3337d4d8-5aa2-412c-d93b-2bfe770dd545"
      },
      "execution_count": 59,
      "outputs": [
        {
          "output_type": "execute_result",
          "data": {
            "text/plain": [
              "0.026918292"
            ]
          },
          "metadata": {},
          "execution_count": 59
        }
      ]
    },
    {
      "cell_type": "markdown",
      "source": [
        "Compute p- values by comparing the non conformity score with the true value (Vovk et al. (2005))"
      ],
      "metadata": {
        "id": "mPfLofPXNX7B"
      }
    },
    {
      "cell_type": "code",
      "source": [
        "def compute_p_value(non_conformity_scores_train, non_conformity_scores_test):\n",
        "  p_values = []\n",
        "  if not isinstance(non_conformity_scores_test, list):\n",
        "    non_conformity_scores_test = [non_conformity_scores_test]\n",
        "\n",
        "  for i, test_point_conformity_score in enumerate(non_conformity_scores_test):\n",
        "    p_value = (np.sum(non_conformity_scores_train >= test_point_conformity_score) + 1) / (len(non_conformity_scores_train)+1)\n",
        "    p_values.append(p_value)\n",
        "  return np.array(p_values)"
      ],
      "metadata": {
        "id": "Iby8u4jqe019"
      },
      "execution_count": 60,
      "outputs": []
    },
    {
      "cell_type": "markdown",
      "source": [
        "Compute p-value of the test point twice, each time for label 0 and 1"
      ],
      "metadata": {
        "id": "WvzGG5tnqdje"
      }
    },
    {
      "cell_type": "code",
      "source": [
        "p_value_class_0 = compute_p_value(non_conformity_scores_y_train_class_0, non_conformity_scores_y_test_class_0)\n",
        "p_value_class_1 = compute_p_value(non_conformity_scores_y_train_class_1, non_conformity_scores_y_test_class_1)"
      ],
      "metadata": {
        "id": "sYFJ8lmye6T-"
      },
      "execution_count": 61,
      "outputs": []
    },
    {
      "cell_type": "code",
      "source": [
        "print('p-value for class 0: {}, p-value for class 1: {}'.format(p_value_class_0,p_value_class_1))"
      ],
      "metadata": {
        "colab": {
          "base_uri": "https://localhost:8080/"
        },
        "id": "NF9sgpZae-Yz",
        "outputId": "103adc63-0bdf-481c-8230-180a0d24a649"
      },
      "execution_count": 62,
      "outputs": [
        {
          "output_type": "stream",
          "name": "stdout",
          "text": [
            "p-value for class 0: [0.01587302], p-value for class 1: [0.65079365]\n"
          ]
        }
      ]
    },
    {
      "cell_type": "markdown",
      "source": [
        "So, we should include the class 1 (>0.05) and not include class 0 (<0.05)"
      ],
      "metadata": {
        "id": "NmbLHtvklCcC"
      }
    },
    {
      "cell_type": "markdown",
      "source": [
        "Now, repeat the process for every patient in the test set"
      ],
      "metadata": {
        "id": "75wjRHhgl49M"
      }
    },
    {
      "cell_type": "code",
      "source": [
        "def prediction_sets(X_train, y_train, X_test, y_test, model = SVM, significance_level = 0.05):\n",
        "\n",
        "    prediction_sets = []\n",
        "    p_values_class_0 = []\n",
        "    p_values_class_1 = []\n",
        "\n",
        "    for i,y in enumerate(y_test):\n",
        "\n",
        "      X_train_plus_test = pd.concat([X_train,pd.DataFrame(X_test.iloc[i]).T])\n",
        "      y_train_plus_test_0 = np.append(y_train, 0)\n",
        "      y_train_plus_test_1 = np.append(y_train, 1)\n",
        "      model.fit(X_train_plus_test, y_train_plus_test_0)\n",
        "      y_pred_score_train_plus_test_0 = model.predict_proba(X_train_plus_test)\n",
        "      model.fit(X_train_plus_test, y_train_plus_test_1)\n",
        "      y_pred_score_train_plus_test_1 = model.predict_proba(X_train_plus_test)\n",
        "\n",
        "      #nonconformity scores\n",
        "      non_conformity_scores_train_plus_test_0 = InverseProbabilityNC(y_pred_score_train_plus_test_0, y_train_plus_test_0)\n",
        "      non_conformity_scores_train_plus_test_1 = InverseProbabilityNC(y_pred_score_train_plus_test_1, y_train_plus_test_1)\n",
        "\n",
        "      non_conformity_scores_y_train_class_0 = non_conformity_scores_train_plus_test_0[:-1]\n",
        "      non_conformity_scores_y_train_class_1 = non_conformity_scores_train_plus_test_1[:-1]\n",
        "\n",
        "      non_conformity_scores_y_test_class_0 = non_conformity_scores_train_plus_test_0[-1]\n",
        "      non_conformity_scores_y_test_class_1 = non_conformity_scores_train_plus_test_1[-1]\n",
        "\n",
        "      p_value_class_0 = compute_p_value(non_conformity_scores_y_train_class_0, non_conformity_scores_y_test_class_0)\n",
        "      p_value_class_1 = compute_p_value(non_conformity_scores_y_train_class_1, non_conformity_scores_y_test_class_1)\n",
        "\n",
        "      p_values_class_0.append( p_value_class_0)\n",
        "      p_values_class_1.append( p_value_class_1)\n",
        "\n",
        "      if (p_value_class_0 > significance_level) and (p_value_class_1 > significance_level):\n",
        "        prediction_sets.append([True,True])\n",
        "      elif (p_value_class_0 > significance_level) and (p_value_class_1 <= significance_level):\n",
        "        prediction_sets.append([True,False])\n",
        "      elif (p_value_class_0 <= significance_level) and (p_value_class_1 >significance_level):\n",
        "        prediction_sets.append([False,True])\n",
        "      else:\n",
        "        prediction_sets.append([False,False])\n",
        "\n",
        "    return prediction_sets, p_values_class_0, p_values_class_1"
      ],
      "metadata": {
        "id": "KdDzFci9faTr"
      },
      "execution_count": 63,
      "outputs": []
    },
    {
      "cell_type": "code",
      "source": [
        "predictions_test_sets, p_values_test_set_class_0, p_values_test_set_class_1 = prediction_sets(X_train, y_train, X_test, y_test, model = SVM, significance_level = 0.05)"
      ],
      "metadata": {
        "id": "Gu6OVEePgj25"
      },
      "execution_count": 64,
      "outputs": []
    },
    {
      "cell_type": "code",
      "source": [
        "p_values_test_set_class_1"
      ],
      "metadata": {
        "colab": {
          "base_uri": "https://localhost:8080/"
        },
        "id": "YFdAg0kF1IN_",
        "outputId": "c1431bb4-b27e-410e-fc7d-4c9f3d67f4a6"
      },
      "execution_count": 65,
      "outputs": [
        {
          "output_type": "execute_result",
          "data": {
            "text/plain": [
              "[array([0.66666667]),\n",
              " array([0.73015873]),\n",
              " array([0.01587302]),\n",
              " array([0.11111111]),\n",
              " array([0.01587302]),\n",
              " array([0.58730159]),\n",
              " array([0.01587302]),\n",
              " array([0.52380952]),\n",
              " array([0.17460317]),\n",
              " array([0.01587302]),\n",
              " array([0.66666667]),\n",
              " array([0.01587302]),\n",
              " array([0.68253968]),\n",
              " array([0.01587302]),\n",
              " array([0.01587302]),\n",
              " array([0.01587302])]"
            ]
          },
          "metadata": {},
          "execution_count": 65
        }
      ]
    },
    {
      "cell_type": "code",
      "source": [
        "p_values_test_set_class_0"
      ],
      "metadata": {
        "id": "i-vyMgRd3H4l",
        "outputId": "df4a7a8f-b1bb-4880-9c82-6534d3dc76a2",
        "colab": {
          "base_uri": "https://localhost:8080/"
        }
      },
      "execution_count": 66,
      "outputs": [
        {
          "output_type": "execute_result",
          "data": {
            "text/plain": [
              "[array([0.01587302]),\n",
              " array([0.01587302]),\n",
              " array([0.41269841]),\n",
              " array([0.11111111]),\n",
              " array([0.58730159]),\n",
              " array([0.01587302]),\n",
              " array([0.82539683]),\n",
              " array([0.01587302]),\n",
              " array([0.07936508]),\n",
              " array([0.31746032]),\n",
              " array([0.01587302]),\n",
              " array([0.66666667]),\n",
              " array([0.01587302]),\n",
              " array([0.6984127]),\n",
              " array([0.80952381]),\n",
              " array([0.63492063])]"
            ]
          },
          "metadata": {},
          "execution_count": 66
        }
      ]
    },
    {
      "cell_type": "code",
      "source": [
        "predictions_test_sets"
      ],
      "metadata": {
        "colab": {
          "base_uri": "https://localhost:8080/"
        },
        "id": "kazz-RtEgpFo",
        "outputId": "6a881d6b-cef9-40d5-c22e-90025e61be5c"
      },
      "execution_count": 67,
      "outputs": [
        {
          "output_type": "execute_result",
          "data": {
            "text/plain": [
              "[[False, True],\n",
              " [False, True],\n",
              " [True, False],\n",
              " [True, True],\n",
              " [True, False],\n",
              " [False, True],\n",
              " [True, False],\n",
              " [False, True],\n",
              " [True, True],\n",
              " [True, False],\n",
              " [False, True],\n",
              " [True, False],\n",
              " [False, True],\n",
              " [True, False],\n",
              " [True, False],\n",
              " [True, False]]"
            ]
          },
          "metadata": {},
          "execution_count": 67
        }
      ]
    },
    {
      "cell_type": "code",
      "source": [
        "y_test"
      ],
      "metadata": {
        "colab": {
          "base_uri": "https://localhost:8080/"
        },
        "id": "6aJ2vGaXsxcB",
        "outputId": "c0b03069-4c8f-4e0a-b424-86458a78e690"
      },
      "execution_count": 68,
      "outputs": [
        {
          "output_type": "execute_result",
          "data": {
            "text/plain": [
              "0     1\n",
              "1     1\n",
              "2     0\n",
              "3     0\n",
              "4     0\n",
              "5     1\n",
              "6     0\n",
              "7     1\n",
              "8     1\n",
              "9     1\n",
              "10    1\n",
              "11    0\n",
              "12    1\n",
              "13    0\n",
              "14    0\n",
              "15    0\n",
              "dtype: int64"
            ]
          },
          "metadata": {},
          "execution_count": 68
        }
      ]
    },
    {
      "cell_type": "markdown",
      "source": [
        "Let's plot the results"
      ],
      "metadata": {
        "id": "4Ec-mhDQqnVC"
      }
    },
    {
      "cell_type": "code",
      "source": [
        "matrix = np.array(predictions_test_sets)\n",
        "\n",
        "non_responders = np.sum(matrix[:, 0] & ~matrix[:, 1])\n",
        "responders = np.sum(~matrix[:, 0] & matrix[:, 1])\n",
        "uncertain = np.sum(np.all(matrix, axis=1))\n",
        "\n",
        "categories = ['Non responder (0)', 'Responder(1)', 'Uncertain']\n",
        "counts = [non_responders, responders, uncertain]\n",
        "\n",
        "# Plot the bar chart\n",
        "plt.figure(figsize=(10, 8))\n",
        "plt.bar(categories, counts, color=['darkseagreen', 'darkseagreen', 'darkseagreen'])\n",
        "plt.xlabel('Prediction')\n",
        "plt.ylabel('Frequency')\n",
        "plt.title('Conformal prediction region')\n",
        "plt.show()\n"
      ],
      "metadata": {
        "colab": {
          "base_uri": "https://localhost:8080/",
          "height": 718
        },
        "id": "MZSTdgYVHXZO",
        "outputId": "dcee6098-e5b0-44df-f862-42afd372592e"
      },
      "execution_count": 69,
      "outputs": [
        {
          "output_type": "display_data",
          "data": {
            "text/plain": [
              "<Figure size 1000x800 with 1 Axes>"
            ],
            "image/png": "[encoded data removed]"
          },
          "metadata": {}
        }
      ]
    },
    {
      "cell_type": "markdown",
      "source": [
        "Count the predictions"
      ],
      "metadata": {
        "id": "4tKogi64qvgp"
      }
    },
    {
      "cell_type": "code",
      "source": [
        "table = pd.DataFrame(predictions_test_sets, columns=['Prediction1', 'Prediction2'])\n",
        "combination_counts = table.groupby(['Prediction1', 'Prediction2']).size().reset_index(name='Count')\n",
        "print(combination_counts)"
      ],
      "metadata": {
        "colab": {
          "base_uri": "https://localhost:8080/"
        },
        "id": "n7zXm3gJm3rF",
        "outputId": "d40efa95-3123-4187-d74f-db49aa6d261a"
      },
      "execution_count": 70,
      "outputs": [
        {
          "output_type": "stream",
          "name": "stdout",
          "text": [
            "   Prediction1  Prediction2  Count\n",
            "0        False         True      6\n",
            "1         True        False      8\n",
            "2         True         True      2\n"
          ]
        }
      ]
    },
    {
      "cell_type": "markdown",
      "source": [
        "Heatmap"
      ],
      "metadata": {
        "id": "B9WhcVq2rBBC"
      }
    },
    {
      "cell_type": "code",
      "source": [
        "table = pd.DataFrame(predictions_test_sets, columns=['Prediction1', 'Prediction2'])\n",
        "\n",
        "pivot_table = table.groupby(['Prediction1', 'Prediction2']).size().unstack(fill_value=0)\n",
        "plt.figure(figsize=(8, 6))\n",
        "sns.heatmap(pivot_table, annot=True, cmap='YlGnBu', fmt='d')\n",
        "plt.xlabel('Prediction for class 1')\n",
        "plt.ylabel('Prediction for class 0')\n",
        "plt.show()"
      ],
      "metadata": {
        "colab": {
          "base_uri": "https://localhost:8080/",
          "height": 547
        },
        "id": "vendUgcZnG_K",
        "outputId": "da387a6c-d87f-4f8f-ead6-60bef2f5a91f"
      },
      "execution_count": 71,
      "outputs": [
        {
          "output_type": "display_data",
          "data": {
            "text/plain": [
              "<Figure size 800x600 with 2 Axes>"
            ],
            "image/png": "[encoded data removed]"
          },
          "metadata": {}
        }
      ]
    },
    {
      "cell_type": "markdown",
      "source": [
        "Finally, let's evaluate our results using the metrics we built before"
      ],
      "metadata": {
        "id": "w86m_TD7rFTY"
      }
    },
    {
      "cell_type": "code",
      "source": [
        "print('Conformal classification based on conformity values:')\n",
        "acc = get_accuracy(predictions_test_sets, y_test)\n",
        "oneC, avgC = get_oneC_avgC(predictions_test_sets)\n",
        "print('Accuracy of region predictor: {}%'.format(acc * 100))\n",
        "print('Efficience:\\n\\t oneC = {}\\n\\t avgC = {}'.format(oneC, avgC))"
      ],
      "metadata": {
        "colab": {
          "base_uri": "https://localhost:8080/"
        },
        "id": "1OsoeHfWiuxC",
        "outputId": "bfed7240-36ce-4219-9516-a0accadb630e"
      },
      "execution_count": 72,
      "outputs": [
        {
          "output_type": "stream",
          "name": "stdout",
          "text": [
            "Conformal classification based on conformity values:\n",
            "Accuracy of region predictor: 93.75%\n",
            "Efficience:\n",
            "\t oneC = 0.875\n",
            "\t avgC = 1.125\n"
          ]
        }
      ]
    },
    {
      "cell_type": "markdown",
      "source": [
        "##USE THE NONCONFORMIST"
      ],
      "metadata": {
        "id": "5ffsYp5ng0ad"
      }
    },
    {
      "cell_type": "markdown",
      "source": [
        "You can use the nonconformist package instead of making the previous proccess manualy, in a few lines of code"
      ],
      "metadata": {
        "id": "MMKzPKiwm1LB"
      }
    },
    {
      "cell_type": "markdown",
      "source": [
        "Take a look here https://github.com/donlnz/nonconformist"
      ],
      "metadata": {
        "id": "zoaG72a8of_U"
      }
    },
    {
      "cell_type": "code",
      "source": [
        "!pip install nonconformist"
      ],
      "metadata": {
        "colab": {
          "base_uri": "https://localhost:8080/"
        },
        "id": "LmaEd85jhBCG",
        "outputId": "259c1b71-c5e9-43c3-84da-a090a61221c0"
      },
      "execution_count": 73,
      "outputs": [
        {
          "output_type": "stream",
          "name": "stdout",
          "text": [
            "Collecting nonconformist\n",
            "  Downloading nonconformist-2.1.0.tar.gz (12 kB)\n",
            "  Preparing metadata (setup.py) ... \u001b[?25l\u001b[?25hdone\n",
            "Requirement already satisfied: numpy in /usr/local/lib/python3.10/dist-packages (from nonconformist) (1.23.5)\n",
            "Requirement already satisfied: scikit-learn in /usr/local/lib/python3.10/dist-packages (from nonconformist) (1.2.2)\n",
            "Requirement already satisfied: scipy in /usr/local/lib/python3.10/dist-packages (from nonconformist) (1.11.2)\n",
            "Requirement already satisfied: pandas in /usr/local/lib/python3.10/dist-packages (from nonconformist) (1.5.3)\n",
            "Requirement already satisfied: python-dateutil>=2.8.1 in /usr/local/lib/python3.10/dist-packages (from pandas->nonconformist) (2.8.2)\n",
            "Requirement already satisfied: pytz>=2020.1 in /usr/local/lib/python3.10/dist-packages (from pandas->nonconformist) (2023.3.post1)\n",
            "Requirement already satisfied: joblib>=1.1.1 in /usr/local/lib/python3.10/dist-packages (from scikit-learn->nonconformist) (1.3.2)\n",
            "Requirement already satisfied: threadpoolctl>=2.0.0 in /usr/local/lib/python3.10/dist-packages (from scikit-learn->nonconformist) (3.2.0)\n",
            "Requirement already satisfied: six>=1.5 in /usr/local/lib/python3.10/dist-packages (from python-dateutil>=2.8.1->pandas->nonconformist) (1.16.0)\n",
            "Building wheels for collected packages: nonconformist\n",
            "  Building wheel for nonconformist (setup.py) ... \u001b[?25l\u001b[?25hdone\n",
            "  Created wheel for nonconformist: filename=nonconformist-2.1.0-py3-none-any.whl size=17817 sha256=7e048351dbd3cac4b621661a5316445d219b953c2426818e737e6c0011b48f04\n",
            "  Stored in directory: /root/.cache/pip/wheels/50/0c/42/7f1bdc102730e363402b4414413de01d69d9f54c7df9578e32\n",
            "Successfully built nonconformist\n",
            "Installing collected packages: nonconformist\n",
            "Successfully installed nonconformist-2.1.0\n"
          ]
        }
      ]
    },
    {
      "cell_type": "code",
      "source": [
        "from nonconformist.cp import TcpClassifier\n",
        "from nonconformist.nc import NcFactory\n",
        "from nonconformist.nc import InverseProbabilityErrFunc, MarginErrFunc"
      ],
      "metadata": {
        "id": "YEOUssbvhM6C"
      },
      "execution_count": 74,
      "outputs": []
    },
    {
      "cell_type": "code",
      "source": [
        "nc = NcFactory.create_nc(SVM,err_func=InverseProbabilityErrFunc())\n",
        "tcp = TcpClassifier(nc)"
      ],
      "metadata": {
        "id": "wcQw2f4rg5ut"
      },
      "execution_count": 75,
      "outputs": []
    },
    {
      "cell_type": "code",
      "source": [
        "tcp.fit(X_train, y_train)"
      ],
      "metadata": {
        "id": "zc-zN_wxhStW"
      },
      "execution_count": 76,
      "outputs": []
    },
    {
      "cell_type": "markdown",
      "source": [
        "Produce predictions for the test set, with confidence 95%"
      ],
      "metadata": {
        "id": "SsC2KRIQriVp"
      }
    },
    {
      "cell_type": "code",
      "source": [
        "prediction = tcp.predict(X_test.values, significance=0.05)"
      ],
      "metadata": {
        "id": "qhtULjbjhWP9"
      },
      "execution_count": 77,
      "outputs": []
    },
    {
      "cell_type": "markdown",
      "source": [
        "Evaluation"
      ],
      "metadata": {
        "id": "2G9FmhdZrma_"
      }
    },
    {
      "cell_type": "code",
      "source": [
        "print('Conformal classification based on conformity values:')\n",
        "acc = get_accuracy(prediction, y_test)\n",
        "oneC, avgC = get_oneC_avgC(prediction)\n",
        "print('Accuracy of region predictor: {}%'.format(acc * 100))\n",
        "print('Efficience:\\n\\t oneC = {}\\n\\t avgC = {}'.format(oneC, avgC))"
      ],
      "metadata": {
        "colab": {
          "base_uri": "https://localhost:8080/"
        },
        "id": "IWme25P8jKA4",
        "outputId": "81e3b55e-3ca7-4bda-caf5-049fa8eb9757"
      },
      "execution_count": 78,
      "outputs": [
        {
          "output_type": "stream",
          "name": "stdout",
          "text": [
            "Conformal classification based on conformity values:\n",
            "Accuracy of region predictor: 93.75%\n",
            "Efficience:\n",
            "\t oneC = 0.875\n",
            "\t avgC = 1.125\n"
          ]
        }
      ]
    },
    {
      "cell_type": "markdown",
      "source": [
        "Here we compare the manual results and the results from the Nonconformist library.\n",
        "The results are the same."
      ],
      "metadata": {
        "id": "AXXZ-tHtrqhL"
      }
    },
    {
      "cell_type": "code",
      "source": [
        "for i in range(len(predictions_test_sets)):\n",
        "  print(predictions_test_sets[i], prediction[i, :])"
      ],
      "metadata": {
        "colab": {
          "base_uri": "https://localhost:8080/"
        },
        "id": "0Zu3FGmEhZt6",
        "outputId": "373a8e09-c237-4866-e93b-f46ccb6562c1"
      },
      "execution_count": 79,
      "outputs": [
        {
          "output_type": "stream",
          "name": "stdout",
          "text": [
            "[False, True] [False  True]\n",
            "[False, True] [False  True]\n",
            "[True, False] [ True False]\n",
            "[True, True] [ True  True]\n",
            "[True, False] [ True False]\n",
            "[False, True] [False  True]\n",
            "[True, False] [ True False]\n",
            "[False, True] [False  True]\n",
            "[True, True] [ True  True]\n",
            "[True, False] [ True False]\n",
            "[False, True] [False  True]\n",
            "[True, False] [ True False]\n",
            "[False, True] [False  True]\n",
            "[True, False] [ True False]\n",
            "[True, False] [ True False]\n",
            "[True, False] [ True False]\n"
          ]
        }
      ]
    }
  ]
}