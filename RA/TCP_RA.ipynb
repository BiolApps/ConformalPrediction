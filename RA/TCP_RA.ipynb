{
  "nbformat": 4,
  "nbformat_minor": 0,
  "metadata": {
    "colab": {
      "provenance": []
    },
    "kernelspec": {
      "name": "python3",
      "display_name": "Python 3"
    },
    "language_info": {
      "name": "python"
    }
  },
  "cells": [
    {
      "cell_type": "markdown",
      "source": [
        "# INPUT DATA"
      ],
      "metadata": {
        "id": "hEa-RIz7LVOX"
      }
    },
    {
      "cell_type": "markdown",
      "source": [
        "Load required libraries"
      ],
      "metadata": {
        "id": "NGnXwV4ujK78"
      }
    },
    {
      "cell_type": "code",
      "execution_count": null,
      "metadata": {
        "id": "1Bl4WGT93Rk0"
      },
      "outputs": [],
      "source": [
        "import numpy as np\n",
        "import pandas as pd\n",
        "from google.colab import files\n",
        "import sklearn as sk\n",
        "from sklearn.model_selection import train_test_split\n",
        "from sklearn.metrics import confusion_matrix\n",
        "import matplotlib.pyplot as plt\n",
        "from sklearn import datasets, svm\n",
        "from sklearn.metrics import accuracy_score, roc_auc_score\n",
        "from sklearn.metrics import roc_curve, roc_auc_score, auc"
      ]
    },
    {
      "cell_type": "markdown",
      "source": [
        "Upload data from directory"
      ],
      "metadata": {
        "id": "v5rR0u8hjXqO"
      }
    },
    {
      "cell_type": "code",
      "execution_count": null,
      "metadata": {
        "id": "bVtJNNQI3eKC",
        "colab": {
          "base_uri": "https://localhost:8080/",
          "height": 73
        },
        "outputId": "ea92c9c3-6c1c-42c7-b0e5-458ff41c5a4e"
      },
      "outputs": [
        {
          "output_type": "display_data",
          "data": {
            "text/plain": [
              "<IPython.core.display.HTML object>"
            ],
            "text/html": [
              "\n",
              "     <input type=\"file\" id=\"files-865df78c-6a60-4762-be91-ee910f22cc62\" name=\"files[]\" multiple disabled\n",
              "        style=\"border:none\" />\n",
              "     <output id=\"result-865df78c-6a60-4762-be91-ee910f22cc62\">\n",
              "      Upload widget is only available when the cell has been executed in the\n",
              "      current browser session. Please rerun this cell to enable.\n",
              "      </output>\n",
              "      <script>// Copyright 2017 Google LLC\n",
              "//\n",
              "// Licensed under the Apache License, Version 2.0 (the \"License\");\n",
              "// you may not use this file except in compliance with the License.\n",
              "// You may obtain a copy of the License at\n",
              "//\n",
              "//      http://www.apache.org/licenses/LICENSE-2.0\n",
              "//\n",
              "// Unless required by applicable law or agreed to in writing, software\n",
              "// distributed under the License is distributed on an \"AS IS\" BASIS,\n",
              "// WITHOUT WARRANTIES OR CONDITIONS OF ANY KIND, either express or implied.\n",
              "// See the License for the specific language governing permissions and\n",
              "// limitations under the License.\n",
              "\n",
              "/**\n",
              " * @fileoverview Helpers for google.colab Python module.\n",
              " */\n",
              "(function(scope) {\n",
              "function span(text, styleAttributes = {}) {\n",
              "  const element = document.createElement('span');\n",
              "  element.textContent = text;\n",
              "  for (const key of Object.keys(styleAttributes)) {\n",
              "    element.style[key] = styleAttributes[key];\n",
              "  }\n",
              "  return element;\n",
              "}\n",
              "\n",
              "// Max number of bytes which will be uploaded at a time.\n",
              "const MAX_PAYLOAD_SIZE = 100 * 1024;\n",
              "\n",
              "function _uploadFiles(inputId, outputId) {\n",
              "  const steps = uploadFilesStep(inputId, outputId);\n",
              "  const outputElement = document.getElementById(outputId);\n",
              "  // Cache steps on the outputElement to make it available for the next call\n",
              "  // to uploadFilesContinue from Python.\n",
              "  outputElement.steps = steps;\n",
              "\n",
              "  return _uploadFilesContinue(outputId);\n",
              "}\n",
              "\n",
              "// This is roughly an async generator (not supported in the browser yet),\n",
              "// where there are multiple asynchronous steps and the Python side is going\n",
              "// to poll for completion of each step.\n",
              "// This uses a Promise to block the python side on completion of each step,\n",
              "// then passes the result of the previous step as the input to the next step.\n",
              "function _uploadFilesContinue(outputId) {\n",
              "  const outputElement = document.getElementById(outputId);\n",
              "  const steps = outputElement.steps;\n",
              "\n",
              "  const next = steps.next(outputElement.lastPromiseValue);\n",
              "  return Promise.resolve(next.value.promise).then((value) => {\n",
              "    // Cache the last promise value to make it available to the next\n",
              "    // step of the generator.\n",
              "    outputElement.lastPromiseValue = value;\n",
              "    return next.value.response;\n",
              "  });\n",
              "}\n",
              "\n",
              "/**\n",
              " * Generator function which is called between each async step of the upload\n",
              " * process.\n",
              " * @param {string} inputId Element ID of the input file picker element.\n",
              " * @param {string} outputId Element ID of the output display.\n",
              " * @return {!Iterable<!Object>} Iterable of next steps.\n",
              " */\n",
              "function* uploadFilesStep(inputId, outputId) {\n",
              "  const inputElement = document.getElementById(inputId);\n",
              "  inputElement.disabled = false;\n",
              "\n",
              "  const outputElement = document.getElementById(outputId);\n",
              "  outputElement.innerHTML = '';\n",
              "\n",
              "  const pickedPromise = new Promise((resolve) => {\n",
              "    inputElement.addEventListener('change', (e) => {\n",
              "      resolve(e.target.files);\n",
              "    });\n",
              "  });\n",
              "\n",
              "  const cancel = document.createElement('button');\n",
              "  inputElement.parentElement.appendChild(cancel);\n",
              "  cancel.textContent = 'Cancel upload';\n",
              "  const cancelPromise = new Promise((resolve) => {\n",
              "    cancel.onclick = () => {\n",
              "      resolve(null);\n",
              "    };\n",
              "  });\n",
              "\n",
              "  // Wait for the user to pick the files.\n",
              "  const files = yield {\n",
              "    promise: Promise.race([pickedPromise, cancelPromise]),\n",
              "    response: {\n",
              "      action: 'starting',\n",
              "    }\n",
              "  };\n",
              "\n",
              "  cancel.remove();\n",
              "\n",
              "  // Disable the input element since further picks are not allowed.\n",
              "  inputElement.disabled = true;\n",
              "\n",
              "  if (!files) {\n",
              "    return {\n",
              "      response: {\n",
              "        action: 'complete',\n",
              "      }\n",
              "    };\n",
              "  }\n",
              "\n",
              "  for (const file of files) {\n",
              "    const li = document.createElement('li');\n",
              "    li.append(span(file.name, {fontWeight: 'bold'}));\n",
              "    li.append(span(\n",
              "        `(${file.type || 'n/a'}) - ${file.size} bytes, ` +\n",
              "        `last modified: ${\n",
              "            file.lastModifiedDate ? file.lastModifiedDate.toLocaleDateString() :\n",
              "                                    'n/a'} - `));\n",
              "    const percent = span('0% done');\n",
              "    li.appendChild(percent);\n",
              "\n",
              "    outputElement.appendChild(li);\n",
              "\n",
              "    const fileDataPromise = new Promise((resolve) => {\n",
              "      const reader = new FileReader();\n",
              "      reader.onload = (e) => {\n",
              "        resolve(e.target.result);\n",
              "      };\n",
              "      reader.readAsArrayBuffer(file);\n",
              "    });\n",
              "    // Wait for the data to be ready.\n",
              "    let fileData = yield {\n",
              "      promise: fileDataPromise,\n",
              "      response: {\n",
              "        action: 'continue',\n",
              "      }\n",
              "    };\n",
              "\n",
              "    // Use a chunked sending to avoid message size limits. See b/62115660.\n",
              "    let position = 0;\n",
              "    do {\n",
              "      const length = Math.min(fileData.byteLength - position, MAX_PAYLOAD_SIZE);\n",
              "      const chunk = new Uint8Array(fileData, position, length);\n",
              "      position += length;\n",
              "\n",
              "      const base64 = btoa(String.fromCharCode.apply(null, chunk));\n",
              "      yield {\n",
              "        response: {\n",
              "          action: 'append',\n",
              "          file: file.name,\n",
              "          data: base64,\n",
              "        },\n",
              "      };\n",
              "\n",
              "      let percentDone = fileData.byteLength === 0 ?\n",
              "          100 :\n",
              "          Math.round((position / fileData.byteLength) * 100);\n",
              "      percent.textContent = `${percentDone}% done`;\n",
              "\n",
              "    } while (position < fileData.byteLength);\n",
              "  }\n",
              "\n",
              "  // All done.\n",
              "  yield {\n",
              "    response: {\n",
              "      action: 'complete',\n",
              "    }\n",
              "  };\n",
              "}\n",
              "\n",
              "scope.google = scope.google || {};\n",
              "scope.google.colab = scope.google.colab || {};\n",
              "scope.google.colab._files = {\n",
              "  _uploadFiles,\n",
              "  _uploadFilesContinue,\n",
              "};\n",
              "})(self);\n",
              "</script> "
            ]
          },
          "metadata": {}
        },
        {
          "output_type": "stream",
          "name": "stdout",
          "text": [
            "Saving lab.csv to lab.csv\n"
          ]
        }
      ],
      "source": [
        "uploaded = files.upload()\n",
        "df = pd.read_csv('RAtarget.csv')"
      ]
    },
    {
      "cell_type": "code",
      "source": [
        "uploaded = files.upload()\n",
        "ra = pd.read_csv('RAgenes.csv')"
      ],
      "metadata": {
        "colab": {
          "base_uri": "https://localhost:8080/",
          "height": 73
        },
        "id": "vvCjIBF65IBH",
        "outputId": "c8b68ff7-5e57-481e-8c91-57c333bcdc74"
      },
      "execution_count": null,
      "outputs": [
        {
          "output_type": "display_data",
          "data": {
            "text/plain": [
              "<IPython.core.display.HTML object>"
            ],
            "text/html": [
              "\n",
              "     <input type=\"file\" id=\"files-fcaeaf61-62e7-43e6-a3e1-491d461c3b62\" name=\"files[]\" multiple disabled\n",
              "        style=\"border:none\" />\n",
              "     <output id=\"result-fcaeaf61-62e7-43e6-a3e1-491d461c3b62\">\n",
              "      Upload widget is only available when the cell has been executed in the\n",
              "      current browser session. Please rerun this cell to enable.\n",
              "      </output>\n",
              "      <script>// Copyright 2017 Google LLC\n",
              "//\n",
              "// Licensed under the Apache License, Version 2.0 (the \"License\");\n",
              "// you may not use this file except in compliance with the License.\n",
              "// You may obtain a copy of the License at\n",
              "//\n",
              "//      http://www.apache.org/licenses/LICENSE-2.0\n",
              "//\n",
              "// Unless required by applicable law or agreed to in writing, software\n",
              "// distributed under the License is distributed on an \"AS IS\" BASIS,\n",
              "// WITHOUT WARRANTIES OR CONDITIONS OF ANY KIND, either express or implied.\n",
              "// See the License for the specific language governing permissions and\n",
              "// limitations under the License.\n",
              "\n",
              "/**\n",
              " * @fileoverview Helpers for google.colab Python module.\n",
              " */\n",
              "(function(scope) {\n",
              "function span(text, styleAttributes = {}) {\n",
              "  const element = document.createElement('span');\n",
              "  element.textContent = text;\n",
              "  for (const key of Object.keys(styleAttributes)) {\n",
              "    element.style[key] = styleAttributes[key];\n",
              "  }\n",
              "  return element;\n",
              "}\n",
              "\n",
              "// Max number of bytes which will be uploaded at a time.\n",
              "const MAX_PAYLOAD_SIZE = 100 * 1024;\n",
              "\n",
              "function _uploadFiles(inputId, outputId) {\n",
              "  const steps = uploadFilesStep(inputId, outputId);\n",
              "  const outputElement = document.getElementById(outputId);\n",
              "  // Cache steps on the outputElement to make it available for the next call\n",
              "  // to uploadFilesContinue from Python.\n",
              "  outputElement.steps = steps;\n",
              "\n",
              "  return _uploadFilesContinue(outputId);\n",
              "}\n",
              "\n",
              "// This is roughly an async generator (not supported in the browser yet),\n",
              "// where there are multiple asynchronous steps and the Python side is going\n",
              "// to poll for completion of each step.\n",
              "// This uses a Promise to block the python side on completion of each step,\n",
              "// then passes the result of the previous step as the input to the next step.\n",
              "function _uploadFilesContinue(outputId) {\n",
              "  const outputElement = document.getElementById(outputId);\n",
              "  const steps = outputElement.steps;\n",
              "\n",
              "  const next = steps.next(outputElement.lastPromiseValue);\n",
              "  return Promise.resolve(next.value.promise).then((value) => {\n",
              "    // Cache the last promise value to make it available to the next\n",
              "    // step of the generator.\n",
              "    outputElement.lastPromiseValue = value;\n",
              "    return next.value.response;\n",
              "  });\n",
              "}\n",
              "\n",
              "/**\n",
              " * Generator function which is called between each async step of the upload\n",
              " * process.\n",
              " * @param {string} inputId Element ID of the input file picker element.\n",
              " * @param {string} outputId Element ID of the output display.\n",
              " * @return {!Iterable<!Object>} Iterable of next steps.\n",
              " */\n",
              "function* uploadFilesStep(inputId, outputId) {\n",
              "  const inputElement = document.getElementById(inputId);\n",
              "  inputElement.disabled = false;\n",
              "\n",
              "  const outputElement = document.getElementById(outputId);\n",
              "  outputElement.innerHTML = '';\n",
              "\n",
              "  const pickedPromise = new Promise((resolve) => {\n",
              "    inputElement.addEventListener('change', (e) => {\n",
              "      resolve(e.target.files);\n",
              "    });\n",
              "  });\n",
              "\n",
              "  const cancel = document.createElement('button');\n",
              "  inputElement.parentElement.appendChild(cancel);\n",
              "  cancel.textContent = 'Cancel upload';\n",
              "  const cancelPromise = new Promise((resolve) => {\n",
              "    cancel.onclick = () => {\n",
              "      resolve(null);\n",
              "    };\n",
              "  });\n",
              "\n",
              "  // Wait for the user to pick the files.\n",
              "  const files = yield {\n",
              "    promise: Promise.race([pickedPromise, cancelPromise]),\n",
              "    response: {\n",
              "      action: 'starting',\n",
              "    }\n",
              "  };\n",
              "\n",
              "  cancel.remove();\n",
              "\n",
              "  // Disable the input element since further picks are not allowed.\n",
              "  inputElement.disabled = true;\n",
              "\n",
              "  if (!files) {\n",
              "    return {\n",
              "      response: {\n",
              "        action: 'complete',\n",
              "      }\n",
              "    };\n",
              "  }\n",
              "\n",
              "  for (const file of files) {\n",
              "    const li = document.createElement('li');\n",
              "    li.append(span(file.name, {fontWeight: 'bold'}));\n",
              "    li.append(span(\n",
              "        `(${file.type || 'n/a'}) - ${file.size} bytes, ` +\n",
              "        `last modified: ${\n",
              "            file.lastModifiedDate ? file.lastModifiedDate.toLocaleDateString() :\n",
              "                                    'n/a'} - `));\n",
              "    const percent = span('0% done');\n",
              "    li.appendChild(percent);\n",
              "\n",
              "    outputElement.appendChild(li);\n",
              "\n",
              "    const fileDataPromise = new Promise((resolve) => {\n",
              "      const reader = new FileReader();\n",
              "      reader.onload = (e) => {\n",
              "        resolve(e.target.result);\n",
              "      };\n",
              "      reader.readAsArrayBuffer(file);\n",
              "    });\n",
              "    // Wait for the data to be ready.\n",
              "    let fileData = yield {\n",
              "      promise: fileDataPromise,\n",
              "      response: {\n",
              "        action: 'continue',\n",
              "      }\n",
              "    };\n",
              "\n",
              "    // Use a chunked sending to avoid message size limits. See b/62115660.\n",
              "    let position = 0;\n",
              "    do {\n",
              "      const length = Math.min(fileData.byteLength - position, MAX_PAYLOAD_SIZE);\n",
              "      const chunk = new Uint8Array(fileData, position, length);\n",
              "      position += length;\n",
              "\n",
              "      const base64 = btoa(String.fromCharCode.apply(null, chunk));\n",
              "      yield {\n",
              "        response: {\n",
              "          action: 'append',\n",
              "          file: file.name,\n",
              "          data: base64,\n",
              "        },\n",
              "      };\n",
              "\n",
              "      let percentDone = fileData.byteLength === 0 ?\n",
              "          100 :\n",
              "          Math.round((position / fileData.byteLength) * 100);\n",
              "      percent.textContent = `${percentDone}% done`;\n",
              "\n",
              "    } while (position < fileData.byteLength);\n",
              "  }\n",
              "\n",
              "  // All done.\n",
              "  yield {\n",
              "    response: {\n",
              "      action: 'complete',\n",
              "    }\n",
              "  };\n",
              "}\n",
              "\n",
              "scope.google = scope.google || {};\n",
              "scope.google.colab = scope.google.colab || {};\n",
              "scope.google.colab._files = {\n",
              "  _uploadFiles,\n",
              "  _uploadFilesContinue,\n",
              "};\n",
              "})(self);\n",
              "</script> "
            ]
          },
          "metadata": {}
        },
        {
          "output_type": "stream",
          "name": "stdout",
          "text": [
            "Saving clear100ex.csv to clear100ex.csv\n"
          ]
        }
      ]
    },
    {
      "cell_type": "markdown",
      "source": [
        "Data processing"
      ],
      "metadata": {
        "id": "7FnSdGcNjdWo"
      }
    },
    {
      "cell_type": "code",
      "source": [
        "column_to_separate = 'name'\n",
        "name = ra[[column_to_separate]].copy()\n",
        "ra = ra.drop(column_to_separate, axis=1)"
      ],
      "metadata": {
        "id": "NeChznOr6oeY"
      },
      "execution_count": null,
      "outputs": []
    },
    {
      "cell_type": "code",
      "source": [
        "ra"
      ],
      "metadata": {
        "colab": {
          "base_uri": "https://localhost:8080/",
          "height": 443
        },
        "id": "yHS253YI5WJt",
        "outputId": "2d541945-f37b-46b4-d554-9913e2c8298b"
      },
      "execution_count": null,
      "outputs": [
        {
          "output_type": "execute_result",
          "data": {
            "text/plain": [
              "    7893107  7893526  7893543  7893569  7894089  7894095  7894169  7894284  \\\n",
              "0   3.27081  6.29636  11.0876  3.88065  9.07261  7.16129  5.97489  10.4409   \n",
              "1   2.70668  5.49734  10.7325  2.89858  9.01030  6.80941  6.39396  10.7604   \n",
              "2   3.05276  6.58236  10.8271  3.33602  9.28394  7.21462  6.73186  10.8283   \n",
              "3   4.06415  6.20839  10.7144  3.40275  8.96513  6.75700  5.92767  10.5097   \n",
              "4   3.68179  6.45172  10.7259  3.70835  8.91285  7.21777  5.71687  10.8269   \n",
              "..      ...      ...      ...      ...      ...      ...      ...      ...   \n",
              "73  2.85862  6.30271  10.7956  3.46289  9.28916  6.69736  5.15867  10.1574   \n",
              "74  2.94687  6.38078  10.6272  3.02912  8.81766  6.33852  5.24847  10.0076   \n",
              "75  3.58041  5.93240  10.4963  2.40597  8.66681  6.55605  5.40591  10.0683   \n",
              "76  3.62626  6.62424  10.6817  3.47735  9.16072  6.64447  6.38243  10.4259   \n",
              "77  3.57922  6.09155  10.8918  2.64959  8.96663  6.87769  5.69511  10.1278   \n",
              "\n",
              "    7894637  7894965  ...  8154047  8154215  8154223  8163712  8168115  \\\n",
              "0   8.46360  6.74043  ...  3.69110  6.04761  6.16912  3.12952  6.89926   \n",
              "1   8.02336  6.97154  ...  3.63519  6.29744  6.29382  2.43400  6.43828   \n",
              "2   8.50749  7.26604  ...  3.36491  6.69556  6.72395  2.66750  6.65290   \n",
              "3   7.86061  6.77955  ...  3.56970  6.56189  6.51487  2.19485  6.85107   \n",
              "4   8.39964  7.06498  ...  3.55664  6.72436  6.65756  2.44822  6.90136   \n",
              "..      ...      ...  ...      ...      ...      ...      ...      ...   \n",
              "73  8.15172  6.57593  ...  3.43578  6.02973  5.87783  2.23212  6.58988   \n",
              "74  7.93468  7.28884  ...  3.43033  6.00680  6.15518  2.63353  6.76783   \n",
              "75  7.64977  7.12128  ...  3.51900  5.79387  5.59603  2.22126  6.64367   \n",
              "76  7.63139  7.17340  ...  3.52941  6.97181  6.76539  2.87647  6.78706   \n",
              "77  8.31550  6.96749  ...  3.56049  6.59431  6.34632  2.71787  6.49574   \n",
              "\n",
              "    8168886  8178802  8178811  8180214  8180282  \n",
              "0   5.42731  12.0939  12.1644  5.84077  7.31473  \n",
              "1   5.59528  12.0252  12.1965  5.10300  7.11119  \n",
              "2   5.65206  11.4784  11.4410  5.55251  7.04199  \n",
              "3   5.15052  11.7745  11.8101  5.33672  7.20546  \n",
              "4   5.14346  11.5797  11.6907  4.94236  6.93663  \n",
              "..      ...      ...      ...      ...      ...  \n",
              "73  5.34187  11.4564  11.5035  4.63423  7.22421  \n",
              "74  5.19677  11.6879  11.5910  4.78864  7.04232  \n",
              "75  5.13537  11.3638  11.2883  4.48931  7.23500  \n",
              "76  5.19001  12.0531  11.8646  5.43224  6.81322  \n",
              "77  5.42095  11.3378  11.5337  4.97253  6.85328  \n",
              "\n",
              "[78 rows x 100 columns]"
            ],
            "text/html": [
              "\n",
              "  <div id=\"df-5c0ff5c3-177e-4099-bab7-542be657fd07\" class=\"colab-df-container\">\n",
              "    <div>\n",
              "<style scoped>\n",
              "    .dataframe tbody tr th:only-of-type {\n",
              "        vertical-align: middle;\n",
              "    }\n",
              "\n",
              "    .dataframe tbody tr th {\n",
              "        vertical-align: top;\n",
              "    }\n",
              "\n",
              "    .dataframe thead th {\n",
              "        text-align: right;\n",
              "    }\n",
              "</style>\n",
              "<table border=\"1\" class=\"dataframe\">\n",
              "  <thead>\n",
              "    <tr style=\"text-align: right;\">\n",
              "      <th></th>\n",
              "      <th>7893107</th>\n",
              "      <th>7893526</th>\n",
              "      <th>7893543</th>\n",
              "      <th>7893569</th>\n",
              "      <th>7894089</th>\n",
              "      <th>7894095</th>\n",
              "      <th>7894169</th>\n",
              "      <th>7894284</th>\n",
              "      <th>7894637</th>\n",
              "      <th>7894965</th>\n",
              "      <th>...</th>\n",
              "      <th>8154047</th>\n",
              "      <th>8154215</th>\n",
              "      <th>8154223</th>\n",
              "      <th>8163712</th>\n",
              "      <th>8168115</th>\n",
              "      <th>8168886</th>\n",
              "      <th>8178802</th>\n",
              "      <th>8178811</th>\n",
              "      <th>8180214</th>\n",
              "      <th>8180282</th>\n",
              "    </tr>\n",
              "  </thead>\n",
              "  <tbody>\n",
              "    <tr>\n",
              "      <th>0</th>\n",
              "      <td>3.27081</td>\n",
              "      <td>6.29636</td>\n",
              "      <td>11.0876</td>\n",
              "      <td>3.88065</td>\n",
              "      <td>9.07261</td>\n",
              "      <td>7.16129</td>\n",
              "      <td>5.97489</td>\n",
              "      <td>10.4409</td>\n",
              "      <td>8.46360</td>\n",
              "      <td>6.74043</td>\n",
              "      <td>...</td>\n",
              "      <td>3.69110</td>\n",
              "      <td>6.04761</td>\n",
              "      <td>6.16912</td>\n",
              "      <td>3.12952</td>\n",
              "      <td>6.89926</td>\n",
              "      <td>5.42731</td>\n",
              "      <td>12.0939</td>\n",
              "      <td>12.1644</td>\n",
              "      <td>5.84077</td>\n",
              "      <td>7.31473</td>\n",
              "    </tr>\n",
              "    <tr>\n",
              "      <th>1</th>\n",
              "      <td>2.70668</td>\n",
              "      <td>5.49734</td>\n",
              "      <td>10.7325</td>\n",
              "      <td>2.89858</td>\n",
              "      <td>9.01030</td>\n",
              "      <td>6.80941</td>\n",
              "      <td>6.39396</td>\n",
              "      <td>10.7604</td>\n",
              "      <td>8.02336</td>\n",
              "      <td>6.97154</td>\n",
              "      <td>...</td>\n",
              "      <td>3.63519</td>\n",
              "      <td>6.29744</td>\n",
              "      <td>6.29382</td>\n",
              "      <td>2.43400</td>\n",
              "      <td>6.43828</td>\n",
              "      <td>5.59528</td>\n",
              "      <td>12.0252</td>\n",
              "      <td>12.1965</td>\n",
              "      <td>5.10300</td>\n",
              "      <td>7.11119</td>\n",
              "    </tr>\n",
              "    <tr>\n",
              "      <th>2</th>\n",
              "      <td>3.05276</td>\n",
              "      <td>6.58236</td>\n",
              "      <td>10.8271</td>\n",
              "      <td>3.33602</td>\n",
              "      <td>9.28394</td>\n",
              "      <td>7.21462</td>\n",
              "      <td>6.73186</td>\n",
              "      <td>10.8283</td>\n",
              "      <td>8.50749</td>\n",
              "      <td>7.26604</td>\n",
              "      <td>...</td>\n",
              "      <td>3.36491</td>\n",
              "      <td>6.69556</td>\n",
              "      <td>6.72395</td>\n",
              "      <td>2.66750</td>\n",
              "      <td>6.65290</td>\n",
              "      <td>5.65206</td>\n",
              "      <td>11.4784</td>\n",
              "      <td>11.4410</td>\n",
              "      <td>5.55251</td>\n",
              "      <td>7.04199</td>\n",
              "    </tr>\n",
              "    <tr>\n",
              "      <th>3</th>\n",
              "      <td>4.06415</td>\n",
              "      <td>6.20839</td>\n",
              "      <td>10.7144</td>\n",
              "      <td>3.40275</td>\n",
              "      <td>8.96513</td>\n",
              "      <td>6.75700</td>\n",
              "      <td>5.92767</td>\n",
              "      <td>10.5097</td>\n",
              "      <td>7.86061</td>\n",
              "      <td>6.77955</td>\n",
              "      <td>...</td>\n",
              "      <td>3.56970</td>\n",
              "      <td>6.56189</td>\n",
              "      <td>6.51487</td>\n",
              "      <td>2.19485</td>\n",
              "      <td>6.85107</td>\n",
              "      <td>5.15052</td>\n",
              "      <td>11.7745</td>\n",
              "      <td>11.8101</td>\n",
              "      <td>5.33672</td>\n",
              "      <td>7.20546</td>\n",
              "    </tr>\n",
              "    <tr>\n",
              "      <th>4</th>\n",
              "      <td>3.68179</td>\n",
              "      <td>6.45172</td>\n",
              "      <td>10.7259</td>\n",
              "      <td>3.70835</td>\n",
              "      <td>8.91285</td>\n",
              "      <td>7.21777</td>\n",
              "      <td>5.71687</td>\n",
              "      <td>10.8269</td>\n",
              "      <td>8.39964</td>\n",
              "      <td>7.06498</td>\n",
              "      <td>...</td>\n",
              "      <td>3.55664</td>\n",
              "      <td>6.72436</td>\n",
              "      <td>6.65756</td>\n",
              "      <td>2.44822</td>\n",
              "      <td>6.90136</td>\n",
              "      <td>5.14346</td>\n",
              "      <td>11.5797</td>\n",
              "      <td>11.6907</td>\n",
              "      <td>4.94236</td>\n",
              "      <td>6.93663</td>\n",
              "    </tr>\n",
              "    <tr>\n",
              "      <th>...</th>\n",
              "      <td>...</td>\n",
              "      <td>...</td>\n",
              "      <td>...</td>\n",
              "      <td>...</td>\n",
              "      <td>...</td>\n",
              "      <td>...</td>\n",
              "      <td>...</td>\n",
              "      <td>...</td>\n",
              "      <td>...</td>\n",
              "      <td>...</td>\n",
              "      <td>...</td>\n",
              "      <td>...</td>\n",
              "      <td>...</td>\n",
              "      <td>...</td>\n",
              "      <td>...</td>\n",
              "      <td>...</td>\n",
              "      <td>...</td>\n",
              "      <td>...</td>\n",
              "      <td>...</td>\n",
              "      <td>...</td>\n",
              "      <td>...</td>\n",
              "    </tr>\n",
              "    <tr>\n",
              "      <th>73</th>\n",
              "      <td>2.85862</td>\n",
              "      <td>6.30271</td>\n",
              "      <td>10.7956</td>\n",
              "      <td>3.46289</td>\n",
              "      <td>9.28916</td>\n",
              "      <td>6.69736</td>\n",
              "      <td>5.15867</td>\n",
              "      <td>10.1574</td>\n",
              "      <td>8.15172</td>\n",
              "      <td>6.57593</td>\n",
              "      <td>...</td>\n",
              "      <td>3.43578</td>\n",
              "      <td>6.02973</td>\n",
              "      <td>5.87783</td>\n",
              "      <td>2.23212</td>\n",
              "      <td>6.58988</td>\n",
              "      <td>5.34187</td>\n",
              "      <td>11.4564</td>\n",
              "      <td>11.5035</td>\n",
              "      <td>4.63423</td>\n",
              "      <td>7.22421</td>\n",
              "    </tr>\n",
              "    <tr>\n",
              "      <th>74</th>\n",
              "      <td>2.94687</td>\n",
              "      <td>6.38078</td>\n",
              "      <td>10.6272</td>\n",
              "      <td>3.02912</td>\n",
              "      <td>8.81766</td>\n",
              "      <td>6.33852</td>\n",
              "      <td>5.24847</td>\n",
              "      <td>10.0076</td>\n",
              "      <td>7.93468</td>\n",
              "      <td>7.28884</td>\n",
              "      <td>...</td>\n",
              "      <td>3.43033</td>\n",
              "      <td>6.00680</td>\n",
              "      <td>6.15518</td>\n",
              "      <td>2.63353</td>\n",
              "      <td>6.76783</td>\n",
              "      <td>5.19677</td>\n",
              "      <td>11.6879</td>\n",
              "      <td>11.5910</td>\n",
              "      <td>4.78864</td>\n",
              "      <td>7.04232</td>\n",
              "    </tr>\n",
              "    <tr>\n",
              "      <th>75</th>\n",
              "      <td>3.58041</td>\n",
              "      <td>5.93240</td>\n",
              "      <td>10.4963</td>\n",
              "      <td>2.40597</td>\n",
              "      <td>8.66681</td>\n",
              "      <td>6.55605</td>\n",
              "      <td>5.40591</td>\n",
              "      <td>10.0683</td>\n",
              "      <td>7.64977</td>\n",
              "      <td>7.12128</td>\n",
              "      <td>...</td>\n",
              "      <td>3.51900</td>\n",
              "      <td>5.79387</td>\n",
              "      <td>5.59603</td>\n",
              "      <td>2.22126</td>\n",
              "      <td>6.64367</td>\n",
              "      <td>5.13537</td>\n",
              "      <td>11.3638</td>\n",
              "      <td>11.2883</td>\n",
              "      <td>4.48931</td>\n",
              "      <td>7.23500</td>\n",
              "    </tr>\n",
              "    <tr>\n",
              "      <th>76</th>\n",
              "      <td>3.62626</td>\n",
              "      <td>6.62424</td>\n",
              "      <td>10.6817</td>\n",
              "      <td>3.47735</td>\n",
              "      <td>9.16072</td>\n",
              "      <td>6.64447</td>\n",
              "      <td>6.38243</td>\n",
              "      <td>10.4259</td>\n",
              "      <td>7.63139</td>\n",
              "      <td>7.17340</td>\n",
              "      <td>...</td>\n",
              "      <td>3.52941</td>\n",
              "      <td>6.97181</td>\n",
              "      <td>6.76539</td>\n",
              "      <td>2.87647</td>\n",
              "      <td>6.78706</td>\n",
              "      <td>5.19001</td>\n",
              "      <td>12.0531</td>\n",
              "      <td>11.8646</td>\n",
              "      <td>5.43224</td>\n",
              "      <td>6.81322</td>\n",
              "    </tr>\n",
              "    <tr>\n",
              "      <th>77</th>\n",
              "      <td>3.57922</td>\n",
              "      <td>6.09155</td>\n",
              "      <td>10.8918</td>\n",
              "      <td>2.64959</td>\n",
              "      <td>8.96663</td>\n",
              "      <td>6.87769</td>\n",
              "      <td>5.69511</td>\n",
              "      <td>10.1278</td>\n",
              "      <td>8.31550</td>\n",
              "      <td>6.96749</td>\n",
              "      <td>...</td>\n",
              "      <td>3.56049</td>\n",
              "      <td>6.59431</td>\n",
              "      <td>6.34632</td>\n",
              "      <td>2.71787</td>\n",
              "      <td>6.49574</td>\n",
              "      <td>5.42095</td>\n",
              "      <td>11.3378</td>\n",
              "      <td>11.5337</td>\n",
              "      <td>4.97253</td>\n",
              "      <td>6.85328</td>\n",
              "    </tr>\n",
              "  </tbody>\n",
              "</table>\n",
              "<p>78 rows × 100 columns</p>\n",
              "</div>\n",
              "    <div class=\"colab-df-buttons\">\n",
              "\n",
              "  <div class=\"colab-df-container\">\n",
              "    <button class=\"colab-df-convert\" onclick=\"convertToInteractive('df-5c0ff5c3-177e-4099-bab7-542be657fd07')\"\n",
              "            title=\"Convert this dataframe to an interactive table.\"\n",
              "            style=\"display:none;\">\n",
              "\n",
              "  <svg xmlns=\"http://www.w3.org/2000/svg\" height=\"24px\" viewBox=\"0 -960 960 960\">\n",
              "    <path d=\"M120-120v-720h720v720H120Zm60-500h600v-160H180v160Zm220 220h160v-160H400v160Zm0 220h160v-160H400v160ZM180-400h160v-160H180v160Zm440 0h160v-160H620v160ZM180-180h160v-160H180v160Zm440 0h160v-160H620v160Z\"/>\n",
              "  </svg>\n",
              "    </button>\n",
              "\n",
              "  <style>\n",
              "    .colab-df-container {\n",
              "      display:flex;\n",
              "      gap: 12px;\n",
              "    }\n",
              "\n",
              "    .colab-df-convert {\n",
              "      background-color: #E8F0FE;\n",
              "      border: none;\n",
              "      border-radius: 50%;\n",
              "      cursor: pointer;\n",
              "      display: none;\n",
              "      fill: #1967D2;\n",
              "      height: 32px;\n",
              "      padding: 0 0 0 0;\n",
              "      width: 32px;\n",
              "    }\n",
              "\n",
              "    .colab-df-convert:hover {\n",
              "      background-color: #E2EBFA;\n",
              "      box-shadow: 0px 1px 2px rgba(60, 64, 67, 0.3), 0px 1px 3px 1px rgba(60, 64, 67, 0.15);\n",
              "      fill: #174EA6;\n",
              "    }\n",
              "\n",
              "    .colab-df-buttons div {\n",
              "      margin-bottom: 4px;\n",
              "    }\n",
              "\n",
              "    [theme=dark] .colab-df-convert {\n",
              "      background-color: #3B4455;\n",
              "      fill: #D2E3FC;\n",
              "    }\n",
              "\n",
              "    [theme=dark] .colab-df-convert:hover {\n",
              "      background-color: #434B5C;\n",
              "      box-shadow: 0px 1px 3px 1px rgba(0, 0, 0, 0.15);\n",
              "      filter: drop-shadow(0px 1px 2px rgba(0, 0, 0, 0.3));\n",
              "      fill: #FFFFFF;\n",
              "    }\n",
              "  </style>\n",
              "\n",
              "    <script>\n",
              "      const buttonEl =\n",
              "        document.querySelector('#df-5c0ff5c3-177e-4099-bab7-542be657fd07 button.colab-df-convert');\n",
              "      buttonEl.style.display =\n",
              "        google.colab.kernel.accessAllowed ? 'block' : 'none';\n",
              "\n",
              "      async function convertToInteractive(key) {\n",
              "        const element = document.querySelector('#df-5c0ff5c3-177e-4099-bab7-542be657fd07');\n",
              "        const dataTable =\n",
              "          await google.colab.kernel.invokeFunction('convertToInteractive',\n",
              "                                                    [key], {});\n",
              "        if (!dataTable) return;\n",
              "\n",
              "        const docLinkHtml = 'Like what you see? Visit the ' +\n",
              "          '<a target=\"_blank\" href=https://colab.research.google.com/notebooks/data_table.ipynb>data table notebook</a>'\n",
              "          + ' to learn more about interactive tables.';\n",
              "        element.innerHTML = '';\n",
              "        dataTable['output_type'] = 'display_data';\n",
              "        await google.colab.output.renderOutput(dataTable, element);\n",
              "        const docLink = document.createElement('div');\n",
              "        docLink.innerHTML = docLinkHtml;\n",
              "        element.appendChild(docLink);\n",
              "      }\n",
              "    </script>\n",
              "  </div>\n",
              "\n",
              "\n",
              "<div id=\"df-e7532f9b-7f55-42aa-b05b-9e8d76795825\">\n",
              "  <button class=\"colab-df-quickchart\" onclick=\"quickchart('df-e7532f9b-7f55-42aa-b05b-9e8d76795825')\"\n",
              "            title=\"Suggest charts.\"\n",
              "            style=\"display:none;\">\n",
              "\n",
              "<svg xmlns=\"http://www.w3.org/2000/svg\" height=\"24px\"viewBox=\"0 0 24 24\"\n",
              "     width=\"24px\">\n",
              "    <g>\n",
              "        <path d=\"M19 3H5c-1.1 0-2 .9-2 2v14c0 1.1.9 2 2 2h14c1.1 0 2-.9 2-2V5c0-1.1-.9-2-2-2zM9 17H7v-7h2v7zm4 0h-2V7h2v10zm4 0h-2v-4h2v4z\"/>\n",
              "    </g>\n",
              "</svg>\n",
              "  </button>\n",
              "\n",
              "<style>\n",
              "  .colab-df-quickchart {\n",
              "    background-color: #E8F0FE;\n",
              "    border: none;\n",
              "    border-radius: 50%;\n",
              "    cursor: pointer;\n",
              "    display: none;\n",
              "    fill: #1967D2;\n",
              "    height: 32px;\n",
              "    padding: 0 0 0 0;\n",
              "    width: 32px;\n",
              "  }\n",
              "\n",
              "  .colab-df-quickchart:hover {\n",
              "    background-color: #E2EBFA;\n",
              "    box-shadow: 0px 1px 2px rgba(60, 64, 67, 0.3), 0px 1px 3px 1px rgba(60, 64, 67, 0.15);\n",
              "    fill: #174EA6;\n",
              "  }\n",
              "\n",
              "  [theme=dark] .colab-df-quickchart {\n",
              "    background-color: #3B4455;\n",
              "    fill: #D2E3FC;\n",
              "  }\n",
              "\n",
              "  [theme=dark] .colab-df-quickchart:hover {\n",
              "    background-color: #434B5C;\n",
              "    box-shadow: 0px 1px 3px 1px rgba(0, 0, 0, 0.15);\n",
              "    filter: drop-shadow(0px 1px 2px rgba(0, 0, 0, 0.3));\n",
              "    fill: #FFFFFF;\n",
              "  }\n",
              "</style>\n",
              "\n",
              "  <script>\n",
              "    async function quickchart(key) {\n",
              "      const charts = await google.colab.kernel.invokeFunction(\n",
              "          'suggestCharts', [key], {});\n",
              "    }\n",
              "    (() => {\n",
              "      let quickchartButtonEl =\n",
              "        document.querySelector('#df-e7532f9b-7f55-42aa-b05b-9e8d76795825 button');\n",
              "      quickchartButtonEl.style.display =\n",
              "        google.colab.kernel.accessAllowed ? 'block' : 'none';\n",
              "    })();\n",
              "  </script>\n",
              "</div>\n",
              "    </div>\n",
              "  </div>\n"
            ]
          },
          "metadata": {},
          "execution_count": 6
        }
      ]
    },
    {
      "cell_type": "code",
      "execution_count": null,
      "metadata": {
        "id": "ahYM39383fLS"
      },
      "outputs": [],
      "source": [
        "df = df.replace({'response: R - responder': 1, 'response: NR - non-responder': 0})\n",
        "df.index = range(1, len(df) + 1)"
      ]
    },
    {
      "cell_type": "markdown",
      "source": [
        "#Underlying algorithm: Support Vector Machine (SVM)"
      ],
      "metadata": {
        "id": "b5B8GGbV7P1G"
      }
    },
    {
      "cell_type": "markdown",
      "source": [
        "Split the data into training and test set"
      ],
      "metadata": {
        "id": "inUJ4BZMj_uO"
      }
    },
    {
      "cell_type": "code",
      "source": [
        "X_train, X_test, y_train, y_test = train_test_split(ra, df,   test_size=0.2, random_state=42, stratify=df)\n",
        "y_train = y_train.values.ravel()\n",
        "y_test = y_test.values.ravel()"
      ],
      "metadata": {
        "id": "NaX4abr-JscG"
      },
      "execution_count": null,
      "outputs": []
    },
    {
      "cell_type": "code",
      "source": [
        "# Create an SVM classifier with a linear kernel after hyperparameter tuning with gridsearchcv\n",
        "SVM = svm.SVC(kernel='linear', C=0.01, probability=True)\n",
        "# Train the classifier on the training data\n",
        "SVM.fit(X_train, y_train)\n",
        "# Test the classifier on the testing data\n",
        "accuracy = SVM.score(X_test, y_test)\n",
        "print(\"Accuracy:\", accuracy)\n",
        "# Test the classifier on the testing data\n",
        "y_pred = SVM.predict(X_test)\n",
        "# Print the prediction probabilities for the first 10 samples in the testing set (The desired output for Cp)\n",
        "probas = SVM.predict_proba(X_test)\n",
        "print(probas)"
      ],
      "metadata": {
        "colab": {
          "base_uri": "https://localhost:8080/"
        },
        "id": "D_N0-iQH7R_8",
        "outputId": "f862ddac-8862-46a5-aa80-a5ba08ae173f"
      },
      "execution_count": null,
      "outputs": [
        {
          "output_type": "stream",
          "name": "stdout",
          "text": [
            "Accuracy: 0.875\n",
            "[[0.0205789  0.9794211 ]\n",
            " [0.01071942 0.98928058]\n",
            " [0.91253688 0.08746312]\n",
            " [0.48800661 0.51199339]\n",
            " [0.9465707  0.0534293 ]\n",
            " [0.02694503 0.97305497]\n",
            " [0.99347772 0.00652228]\n",
            " [0.04680382 0.95319618]\n",
            " [0.31351786 0.68648214]\n",
            " [0.83893311 0.16106689]\n",
            " [0.01823363 0.98176637]\n",
            " [0.97110595 0.02889405]\n",
            " [0.01500255 0.98499745]\n",
            " [0.97933962 0.02066038]\n",
            " [0.9866929  0.0133071 ]\n",
            " [0.96750805 0.03249195]]\n"
          ]
        }
      ]
    },
    {
      "cell_type": "code",
      "source": [
        "y_pred #The predicted class"
      ],
      "metadata": {
        "colab": {
          "base_uri": "https://localhost:8080/"
        },
        "id": "5vsNoJVOB86D",
        "outputId": "cf6ed05b-6b2a-4c98-9960-b4fd33548232"
      },
      "execution_count": null,
      "outputs": [
        {
          "output_type": "execute_result",
          "data": {
            "text/plain": [
              "array([1, 1, 0, 1, 0, 1, 0, 1, 1, 0, 1, 0, 1, 0, 0, 0])"
            ]
          },
          "metadata": {},
          "execution_count": 12
        }
      ]
    },
    {
      "cell_type": "code",
      "source": [
        "y_test #The real class"
      ],
      "metadata": {
        "colab": {
          "base_uri": "https://localhost:8080/"
        },
        "id": "1O-QI7JEqp3u",
        "outputId": "517fbceb-ddfc-4842-b418-030c5917283d"
      },
      "execution_count": null,
      "outputs": [
        {
          "output_type": "execute_result",
          "data": {
            "text/plain": [
              "array([1, 1, 0, 0, 0, 1, 0, 1, 1, 1, 1, 0, 1, 0, 0, 0])"
            ]
          },
          "metadata": {},
          "execution_count": 13
        }
      ]
    },
    {
      "cell_type": "code",
      "source": [
        "num_responders = np.sum(y_pred == 0)\n",
        "num_non_responders = np.sum(y_pred == 1)\n",
        "# Plot the bar chart\n",
        "plt.figure(figsize=(10, 8))\n",
        "plt.bar(['Non Responder (0)', 'Responder (1)'], [num_responders, num_non_responders], color=['darkseagreen', 'darkseagreen'])\n",
        "plt.xlabel('Prediction')\n",
        "plt.ylabel('Frequency')\n",
        "plt.title('Predictions from thw underlying algorithm (SVM)')\n",
        "plt.show()"
      ],
      "metadata": {
        "colab": {
          "base_uri": "https://localhost:8080/",
          "height": 720
        },
        "id": "2dhF2H2iDiAN",
        "outputId": "03fe6204-c263-4b60-c564-0e6e5db55a52"
      },
      "execution_count": null,
      "outputs": [
        {
          "output_type": "display_data",
          "data": {
            "text/plain": [
              "<Figure size 1000x800 with 1 Axes>"
            ],
            "image/png": "[encoded data removed]"
          },
          "metadata": {}
        }
      ]
    },
    {
      "cell_type": "code",
      "source": [
        "print('ROC AUC: {}'.format(roc_auc_score(y_test, probas[:,1])))"
      ],
      "metadata": {
        "colab": {
          "base_uri": "https://localhost:8080/"
        },
        "id": "VQhwpIhJa0Nb",
        "outputId": "b878e9e5-e23c-4a82-b05f-6f9b6178d752"
      },
      "execution_count": null,
      "outputs": [
        {
          "output_type": "stream",
          "name": "stdout",
          "text": [
            "ROC AUC: 0.984375\n"
          ]
        }
      ]
    },
    {
      "cell_type": "markdown",
      "source": [
        "#Evaluation Metrics"
      ],
      "metadata": {
        "id": "ywGR8IlNFv4L"
      }
    },
    {
      "cell_type": "markdown",
      "source": [
        "This is the metric for the accuracy for a region prediction. When an error occurs, means that the region of prediction does not contain the true value.\n"
      ],
      "metadata": {
        "id": "N3MvdH4eDfql"
      }
    },
    {
      "cell_type": "code",
      "source": [
        "\n",
        "def get_accuracy(prediction, real_class):\n",
        "    c = 0\n",
        "    N = len(prediction)\n",
        "    for i in range(0, N):\n",
        "        if prediction[i][real_class[i]]:\n",
        "            c += 1\n",
        "    return c / N"
      ],
      "metadata": {
        "id": "O0f-70gwinEG"
      },
      "execution_count": null,
      "outputs": []
    },
    {
      "cell_type": "markdown",
      "source": [
        "These are the metrics that counts the mean of singleton predictions (oneC) and the mean of the number of prediction (avgC) for of the region prediction. Ιdeally we want these metrics to be close to 1."
      ],
      "metadata": {
        "id": "f_q001CfEvCF"
      }
    },
    {
      "cell_type": "code",
      "source": [
        "def get_oneC_avgC(prediction):\n",
        "    arr = np.array(prediction)\n",
        "    oneC = 0\n",
        "    avgC = 0\n",
        "    for i in range(0, len(arr)):\n",
        "        # number of predicted lables\n",
        "        num_predicted = arr[i].sum()\n",
        "        avgC += num_predicted\n",
        "        # is it a singleton?\n",
        "        if num_predicted == 1:\n",
        "            oneC += 1\n",
        "        pass\n",
        "    oneC /= len(arr)\n",
        "    avgC /= len(arr)\n",
        "    return oneC, avgC"
      ],
      "metadata": {
        "id": "tt7aDUBKEmxM"
      },
      "execution_count": null,
      "outputs": []
    },
    {
      "cell_type": "code",
      "source": [],
      "metadata": {
        "id": "5Zx0BWrFkVk8"
      },
      "execution_count": null,
      "outputs": []
    },
    {
      "cell_type": "markdown",
      "source": [
        "#Now Lets talk about Tranductive Conformal Predition (TCP) with SVM"
      ],
      "metadata": {
        "id": "2jetmFFRQah0"
      }
    },
    {
      "cell_type": "code",
      "source": [
        "df.value_counts() #number of patients per class"
      ],
      "metadata": {
        "colab": {
          "base_uri": "https://localhost:8080/"
        },
        "id": "Eue0hzzlVWwI",
        "outputId": "6a9cbec9-7b0f-411f-a5f4-b1a254bdde08"
      },
      "execution_count": null,
      "outputs": [
        {
          "output_type": "execute_result",
          "data": {
            "text/plain": [
              "label\n",
              "1        40\n",
              "0        38\n",
              "dtype: int64"
            ]
          },
          "metadata": {},
          "execution_count": 20
        }
      ]
    },
    {
      "cell_type": "code",
      "source": [
        "x = X_test.iloc[0] #The first patient of the test set and his gene expressions\n",
        "x"
      ],
      "metadata": {
        "colab": {
          "base_uri": "https://localhost:8080/"
        },
        "id": "asdGOU1ub9mY",
        "outputId": "7ccbccde-6e12-49e6-fd33-4a49edec37dd"
      },
      "execution_count": null,
      "outputs": [
        {
          "output_type": "execute_result",
          "data": {
            "text/plain": [
              "7893107     3.54953\n",
              "7893526     6.71185\n",
              "7893543    10.72330\n",
              "7893569     3.61611\n",
              "7894089     9.25846\n",
              "             ...   \n",
              "8168886     5.97162\n",
              "8178802    12.06910\n",
              "8178811    12.19040\n",
              "8180214     5.80909\n",
              "8180282     7.00873\n",
              "Name: 25, Length: 100, dtype: float64"
            ]
          },
          "metadata": {},
          "execution_count": 21
        }
      ]
    },
    {
      "cell_type": "code",
      "source": [
        "y_test = pd.Series(y_test)"
      ],
      "metadata": {
        "id": "uQZSlqpqcOq1"
      },
      "execution_count": null,
      "outputs": []
    },
    {
      "cell_type": "code",
      "source": [
        "y = y_test.iloc[0] #The first patient belongs to class 1 (Responder)"
      ],
      "metadata": {
        "colab": {
          "base_uri": "https://localhost:8080/"
        },
        "id": "LubsSh2OcCvN",
        "outputId": "c9ccd044-e026-4a48-8e40-96a765c2d9d2"
      },
      "execution_count": null,
      "outputs": [
        {
          "output_type": "execute_result",
          "data": {
            "text/plain": [
              "1"
            ]
          },
          "metadata": {},
          "execution_count": 23
        }
      ]
    },
    {
      "cell_type": "code",
      "source": [
        "probas[0]"
      ],
      "metadata": {
        "colab": {
          "base_uri": "https://localhost:8080/"
        },
        "id": "Y97DjnYvc_i7",
        "outputId": "1bd0ecfc-ecaf-46bf-c7de-37ba2e8b4f9d"
      },
      "execution_count": null,
      "outputs": [
        {
          "output_type": "execute_result",
          "data": {
            "text/plain": [
              "array([0.0205789, 0.9794211])"
            ]
          },
          "metadata": {},
          "execution_count": 24
        }
      ]
    },
    {
      "cell_type": "markdown",
      "source": [
        "##DEFINE THE NON CONFORMITY MEASURE"
      ],
      "metadata": {
        "id": "ugOgJtyzdJs0"
      }
    },
    {
      "cell_type": "markdown",
      "source": [
        "The non conformity measure is defined as the inverse probability"
      ],
      "metadata": {
        "id": "veBVDLdKMt4r"
      }
    },
    {
      "cell_type": "code",
      "source": [
        "def InverseProbabilityNC(predicted_score, y):\n",
        "  prob = np.zeros(y.size, dtype=np.float32)\n",
        "  for i, y_ in enumerate(y):\n",
        "    if y_ >= predicted_score.shape[1]:\n",
        "      prob[i] = 0\n",
        "    else:\n",
        "      prob[i] = predicted_score[i, int(y_)]\n",
        "  return 1 - prob"
      ],
      "metadata": {
        "id": "ZJh7jm6JdPqf"
      },
      "execution_count": null,
      "outputs": []
    },
    {
      "cell_type": "code",
      "source": [
        "# Here, we concatenate the first point from the test dataset (first patient) to the training data set\n",
        "X_train_plus_test = pd.concat([X_train,pd.DataFrame(X_test.iloc[0]).T])\n",
        "X_train_plus_test"
      ],
      "metadata": {
        "colab": {
          "base_uri": "https://localhost:8080/",
          "height": 443
        },
        "id": "EzgufRa9duFy",
        "outputId": "a7a28809-a17e-4c09-9bcd-6ce052e0205c"
      },
      "execution_count": null,
      "outputs": [
        {
          "output_type": "execute_result",
          "data": {
            "text/plain": [
              "    7893107  7893526  7893543  7893569  7894089  7894095  7894169   7894284  \\\n",
              "41  3.92671  4.66173  10.3706  2.31925  8.44160  6.49809  4.79078   9.91193   \n",
              "73  2.85862  6.30271  10.7956  3.46289  9.28916  6.69736  5.15867  10.15740   \n",
              "29  3.33920  5.74298  11.2860  3.98558  9.28443  7.15662  5.51320  10.71170   \n",
              "2   3.05276  6.58236  10.8271  3.33602  9.28394  7.21462  6.73186  10.82830   \n",
              "15  2.94579  5.76827  10.7013  3.05181  9.11173  7.24228  5.81846  10.79850   \n",
              "..      ...      ...      ...      ...      ...      ...      ...       ...   \n",
              "0   3.27081  6.29636  11.0876  3.88065  9.07261  7.16129  5.97489  10.44090   \n",
              "40  3.08142  5.54288  10.9706  2.99158  8.79226  6.51942  4.60594  10.12800   \n",
              "30  3.03072  5.09894  10.8433  4.14534  8.90374  6.94960  5.27088  10.39580   \n",
              "35  3.51230  6.59808  10.7653  3.82946  9.08094  6.50931  6.11065  10.73700   \n",
              "25  3.54953  6.71185  10.7233  3.61611  9.25846  6.78108  5.96914  10.84160   \n",
              "\n",
              "    7894637  7894965  ...  8154047  8154215  8154223  8163712  8168115  \\\n",
              "41  6.75317  7.22461  ...  3.68501  5.34808  5.29472  2.65611  6.31427   \n",
              "73  8.15172  6.57593  ...  3.43578  6.02973  5.87783  2.23212  6.58988   \n",
              "29  8.32088  7.23760  ...  3.43424  6.71150  6.71421  3.43583  7.12950   \n",
              "2   8.50749  7.26604  ...  3.36491  6.69556  6.72395  2.66750  6.65290   \n",
              "15  8.29914  7.05916  ...  3.60676  7.07412  6.62773  2.83667  6.73586   \n",
              "..      ...      ...  ...      ...      ...      ...      ...      ...   \n",
              "0   8.46360  6.74043  ...  3.69110  6.04761  6.16912  3.12952  6.89926   \n",
              "40  7.61213  7.03276  ...  3.37475  6.52437  6.10397  2.47743  6.72121   \n",
              "30  8.03399  7.35594  ...  3.53758  6.60775  6.71153  2.90895  6.47328   \n",
              "35  7.96152  6.86483  ...  3.61540  6.98349  6.70688  2.38418  7.01896   \n",
              "25  8.43946  7.49502  ...  3.53611  6.69423  6.42010  2.77550  6.86842   \n",
              "\n",
              "    8168886  8178802  8178811  8180214  8180282  \n",
              "41  4.59709  11.8185  11.7594  4.80899  7.58593  \n",
              "73  5.34187  11.4564  11.5035  4.63423  7.22421  \n",
              "29  5.54175  12.3253  12.3329  5.33113  7.20332  \n",
              "2   5.65206  11.4784  11.4410  5.55251  7.04199  \n",
              "15  5.78094  12.3495  12.3425  5.43191  7.00327  \n",
              "..      ...      ...      ...      ...      ...  \n",
              "0   5.42731  12.0939  12.1644  5.84077  7.31473  \n",
              "40  4.95979  11.4829  11.6196  4.59369  7.56474  \n",
              "30  5.39685  12.1345  12.2215  5.84823  6.84011  \n",
              "35  5.10834  12.3213  12.3502  5.35266  7.35054  \n",
              "25  5.97162  12.0691  12.1904  5.80909  7.00873  \n",
              "\n",
              "[63 rows x 100 columns]"
            ],
            "text/html": [
              "\n",
              "  <div id=\"df-222c3fcd-c795-4b94-9c17-5adff4a5d0af\" class=\"colab-df-container\">\n",
              "    <div>\n",
              "<style scoped>\n",
              "    .dataframe tbody tr th:only-of-type {\n",
              "        vertical-align: middle;\n",
              "    }\n",
              "\n",
              "    .dataframe tbody tr th {\n",
              "        vertical-align: top;\n",
              "    }\n",
              "\n",
              "    .dataframe thead th {\n",
              "        text-align: right;\n",
              "    }\n",
              "</style>\n",
              "<table border=\"1\" class=\"dataframe\">\n",
              "  <thead>\n",
              "    <tr style=\"text-align: right;\">\n",
              "      <th></th>\n",
              "      <th>7893107</th>\n",
              "      <th>7893526</th>\n",
              "      <th>7893543</th>\n",
              "      <th>7893569</th>\n",
              "      <th>7894089</th>\n",
              "      <th>7894095</th>\n",
              "      <th>7894169</th>\n",
              "      <th>7894284</th>\n",
              "      <th>7894637</th>\n",
              "      <th>7894965</th>\n",
              "      <th>...</th>\n",
              "      <th>8154047</th>\n",
              "      <th>8154215</th>\n",
              "      <th>8154223</th>\n",
              "      <th>8163712</th>\n",
              "      <th>8168115</th>\n",
              "      <th>8168886</th>\n",
              "      <th>8178802</th>\n",
              "      <th>8178811</th>\n",
              "      <th>8180214</th>\n",
              "      <th>8180282</th>\n",
              "    </tr>\n",
              "  </thead>\n",
              "  <tbody>\n",
              "    <tr>\n",
              "      <th>41</th>\n",
              "      <td>3.92671</td>\n",
              "      <td>4.66173</td>\n",
              "      <td>10.3706</td>\n",
              "      <td>2.31925</td>\n",
              "      <td>8.44160</td>\n",
              "      <td>6.49809</td>\n",
              "      <td>4.79078</td>\n",
              "      <td>9.91193</td>\n",
              "      <td>6.75317</td>\n",
              "      <td>7.22461</td>\n",
              "      <td>...</td>\n",
              "      <td>3.68501</td>\n",
              "      <td>5.34808</td>\n",
              "      <td>5.29472</td>\n",
              "      <td>2.65611</td>\n",
              "      <td>6.31427</td>\n",
              "      <td>4.59709</td>\n",
              "      <td>11.8185</td>\n",
              "      <td>11.7594</td>\n",
              "      <td>4.80899</td>\n",
              "      <td>7.58593</td>\n",
              "    </tr>\n",
              "    <tr>\n",
              "      <th>73</th>\n",
              "      <td>2.85862</td>\n",
              "      <td>6.30271</td>\n",
              "      <td>10.7956</td>\n",
              "      <td>3.46289</td>\n",
              "      <td>9.28916</td>\n",
              "      <td>6.69736</td>\n",
              "      <td>5.15867</td>\n",
              "      <td>10.15740</td>\n",
              "      <td>8.15172</td>\n",
              "      <td>6.57593</td>\n",
              "      <td>...</td>\n",
              "      <td>3.43578</td>\n",
              "      <td>6.02973</td>\n",
              "      <td>5.87783</td>\n",
              "      <td>2.23212</td>\n",
              "      <td>6.58988</td>\n",
              "      <td>5.34187</td>\n",
              "      <td>11.4564</td>\n",
              "      <td>11.5035</td>\n",
              "      <td>4.63423</td>\n",
              "      <td>7.22421</td>\n",
              "    </tr>\n",
              "    <tr>\n",
              "      <th>29</th>\n",
              "      <td>3.33920</td>\n",
              "      <td>5.74298</td>\n",
              "      <td>11.2860</td>\n",
              "      <td>3.98558</td>\n",
              "      <td>9.28443</td>\n",
              "      <td>7.15662</td>\n",
              "      <td>5.51320</td>\n",
              "      <td>10.71170</td>\n",
              "      <td>8.32088</td>\n",
              "      <td>7.23760</td>\n",
              "      <td>...</td>\n",
              "      <td>3.43424</td>\n",
              "      <td>6.71150</td>\n",
              "      <td>6.71421</td>\n",
              "      <td>3.43583</td>\n",
              "      <td>7.12950</td>\n",
              "      <td>5.54175</td>\n",
              "      <td>12.3253</td>\n",
              "      <td>12.3329</td>\n",
              "      <td>5.33113</td>\n",
              "      <td>7.20332</td>\n",
              "    </tr>\n",
              "    <tr>\n",
              "      <th>2</th>\n",
              "      <td>3.05276</td>\n",
              "      <td>6.58236</td>\n",
              "      <td>10.8271</td>\n",
              "      <td>3.33602</td>\n",
              "      <td>9.28394</td>\n",
              "      <td>7.21462</td>\n",
              "      <td>6.73186</td>\n",
              "      <td>10.82830</td>\n",
              "      <td>8.50749</td>\n",
              "      <td>7.26604</td>\n",
              "      <td>...</td>\n",
              "      <td>3.36491</td>\n",
              "      <td>6.69556</td>\n",
              "      <td>6.72395</td>\n",
              "      <td>2.66750</td>\n",
              "      <td>6.65290</td>\n",
              "      <td>5.65206</td>\n",
              "      <td>11.4784</td>\n",
              "      <td>11.4410</td>\n",
              "      <td>5.55251</td>\n",
              "      <td>7.04199</td>\n",
              "    </tr>\n",
              "    <tr>\n",
              "      <th>15</th>\n",
              "      <td>2.94579</td>\n",
              "      <td>5.76827</td>\n",
              "      <td>10.7013</td>\n",
              "      <td>3.05181</td>\n",
              "      <td>9.11173</td>\n",
              "      <td>7.24228</td>\n",
              "      <td>5.81846</td>\n",
              "      <td>10.79850</td>\n",
              "      <td>8.29914</td>\n",
              "      <td>7.05916</td>\n",
              "      <td>...</td>\n",
              "      <td>3.60676</td>\n",
              "      <td>7.07412</td>\n",
              "      <td>6.62773</td>\n",
              "      <td>2.83667</td>\n",
              "      <td>6.73586</td>\n",
              "      <td>5.78094</td>\n",
              "      <td>12.3495</td>\n",
              "      <td>12.3425</td>\n",
              "      <td>5.43191</td>\n",
              "      <td>7.00327</td>\n",
              "    </tr>\n",
              "    <tr>\n",
              "      <th>...</th>\n",
              "      <td>...</td>\n",
              "      <td>...</td>\n",
              "      <td>...</td>\n",
              "      <td>...</td>\n",
              "      <td>...</td>\n",
              "      <td>...</td>\n",
              "      <td>...</td>\n",
              "      <td>...</td>\n",
              "      <td>...</td>\n",
              "      <td>...</td>\n",
              "      <td>...</td>\n",
              "      <td>...</td>\n",
              "      <td>...</td>\n",
              "      <td>...</td>\n",
              "      <td>...</td>\n",
              "      <td>...</td>\n",
              "      <td>...</td>\n",
              "      <td>...</td>\n",
              "      <td>...</td>\n",
              "      <td>...</td>\n",
              "      <td>...</td>\n",
              "    </tr>\n",
              "    <tr>\n",
              "      <th>0</th>\n",
              "      <td>3.27081</td>\n",
              "      <td>6.29636</td>\n",
              "      <td>11.0876</td>\n",
              "      <td>3.88065</td>\n",
              "      <td>9.07261</td>\n",
              "      <td>7.16129</td>\n",
              "      <td>5.97489</td>\n",
              "      <td>10.44090</td>\n",
              "      <td>8.46360</td>\n",
              "      <td>6.74043</td>\n",
              "      <td>...</td>\n",
              "      <td>3.69110</td>\n",
              "      <td>6.04761</td>\n",
              "      <td>6.16912</td>\n",
              "      <td>3.12952</td>\n",
              "      <td>6.89926</td>\n",
              "      <td>5.42731</td>\n",
              "      <td>12.0939</td>\n",
              "      <td>12.1644</td>\n",
              "      <td>5.84077</td>\n",
              "      <td>7.31473</td>\n",
              "    </tr>\n",
              "    <tr>\n",
              "      <th>40</th>\n",
              "      <td>3.08142</td>\n",
              "      <td>5.54288</td>\n",
              "      <td>10.9706</td>\n",
              "      <td>2.99158</td>\n",
              "      <td>8.79226</td>\n",
              "      <td>6.51942</td>\n",
              "      <td>4.60594</td>\n",
              "      <td>10.12800</td>\n",
              "      <td>7.61213</td>\n",
              "      <td>7.03276</td>\n",
              "      <td>...</td>\n",
              "      <td>3.37475</td>\n",
              "      <td>6.52437</td>\n",
              "      <td>6.10397</td>\n",
              "      <td>2.47743</td>\n",
              "      <td>6.72121</td>\n",
              "      <td>4.95979</td>\n",
              "      <td>11.4829</td>\n",
              "      <td>11.6196</td>\n",
              "      <td>4.59369</td>\n",
              "      <td>7.56474</td>\n",
              "    </tr>\n",
              "    <tr>\n",
              "      <th>30</th>\n",
              "      <td>3.03072</td>\n",
              "      <td>5.09894</td>\n",
              "      <td>10.8433</td>\n",
              "      <td>4.14534</td>\n",
              "      <td>8.90374</td>\n",
              "      <td>6.94960</td>\n",
              "      <td>5.27088</td>\n",
              "      <td>10.39580</td>\n",
              "      <td>8.03399</td>\n",
              "      <td>7.35594</td>\n",
              "      <td>...</td>\n",
              "      <td>3.53758</td>\n",
              "      <td>6.60775</td>\n",
              "      <td>6.71153</td>\n",
              "      <td>2.90895</td>\n",
              "      <td>6.47328</td>\n",
              "      <td>5.39685</td>\n",
              "      <td>12.1345</td>\n",
              "      <td>12.2215</td>\n",
              "      <td>5.84823</td>\n",
              "      <td>6.84011</td>\n",
              "    </tr>\n",
              "    <tr>\n",
              "      <th>35</th>\n",
              "      <td>3.51230</td>\n",
              "      <td>6.59808</td>\n",
              "      <td>10.7653</td>\n",
              "      <td>3.82946</td>\n",
              "      <td>9.08094</td>\n",
              "      <td>6.50931</td>\n",
              "      <td>6.11065</td>\n",
              "      <td>10.73700</td>\n",
              "      <td>7.96152</td>\n",
              "      <td>6.86483</td>\n",
              "      <td>...</td>\n",
              "      <td>3.61540</td>\n",
              "      <td>6.98349</td>\n",
              "      <td>6.70688</td>\n",
              "      <td>2.38418</td>\n",
              "      <td>7.01896</td>\n",
              "      <td>5.10834</td>\n",
              "      <td>12.3213</td>\n",
              "      <td>12.3502</td>\n",
              "      <td>5.35266</td>\n",
              "      <td>7.35054</td>\n",
              "    </tr>\n",
              "    <tr>\n",
              "      <th>25</th>\n",
              "      <td>3.54953</td>\n",
              "      <td>6.71185</td>\n",
              "      <td>10.7233</td>\n",
              "      <td>3.61611</td>\n",
              "      <td>9.25846</td>\n",
              "      <td>6.78108</td>\n",
              "      <td>5.96914</td>\n",
              "      <td>10.84160</td>\n",
              "      <td>8.43946</td>\n",
              "      <td>7.49502</td>\n",
              "      <td>...</td>\n",
              "      <td>3.53611</td>\n",
              "      <td>6.69423</td>\n",
              "      <td>6.42010</td>\n",
              "      <td>2.77550</td>\n",
              "      <td>6.86842</td>\n",
              "      <td>5.97162</td>\n",
              "      <td>12.0691</td>\n",
              "      <td>12.1904</td>\n",
              "      <td>5.80909</td>\n",
              "      <td>7.00873</td>\n",
              "    </tr>\n",
              "  </tbody>\n",
              "</table>\n",
              "<p>63 rows × 100 columns</p>\n",
              "</div>\n",
              "    <div class=\"colab-df-buttons\">\n",
              "\n",
              "  <div class=\"colab-df-container\">\n",
              "    <button class=\"colab-df-convert\" onclick=\"convertToInteractive('df-222c3fcd-c795-4b94-9c17-5adff4a5d0af')\"\n",
              "            title=\"Convert this dataframe to an interactive table.\"\n",
              "            style=\"display:none;\">\n",
              "\n",
              "  <svg xmlns=\"http://www.w3.org/2000/svg\" height=\"24px\" viewBox=\"0 -960 960 960\">\n",
              "    <path d=\"M120-120v-720h720v720H120Zm60-500h600v-160H180v160Zm220 220h160v-160H400v160Zm0 220h160v-160H400v160ZM180-400h160v-160H180v160Zm440 0h160v-160H620v160ZM180-180h160v-160H180v160Zm440 0h160v-160H620v160Z\"/>\n",
              "  </svg>\n",
              "    </button>\n",
              "\n",
              "  <style>\n",
              "    .colab-df-container {\n",
              "      display:flex;\n",
              "      gap: 12px;\n",
              "    }\n",
              "\n",
              "    .colab-df-convert {\n",
              "      background-color: #E8F0FE;\n",
              "      border: none;\n",
              "      border-radius: 50%;\n",
              "      cursor: pointer;\n",
              "      display: none;\n",
              "      fill: #1967D2;\n",
              "      height: 32px;\n",
              "      padding: 0 0 0 0;\n",
              "      width: 32px;\n",
              "    }\n",
              "\n",
              "    .colab-df-convert:hover {\n",
              "      background-color: #E2EBFA;\n",
              "      box-shadow: 0px 1px 2px rgba(60, 64, 67, 0.3), 0px 1px 3px 1px rgba(60, 64, 67, 0.15);\n",
              "      fill: #174EA6;\n",
              "    }\n",
              "\n",
              "    .colab-df-buttons div {\n",
              "      margin-bottom: 4px;\n",
              "    }\n",
              "\n",
              "    [theme=dark] .colab-df-convert {\n",
              "      background-color: #3B4455;\n",
              "      fill: #D2E3FC;\n",
              "    }\n",
              "\n",
              "    [theme=dark] .colab-df-convert:hover {\n",
              "      background-color: #434B5C;\n",
              "      box-shadow: 0px 1px 3px 1px rgba(0, 0, 0, 0.15);\n",
              "      filter: drop-shadow(0px 1px 2px rgba(0, 0, 0, 0.3));\n",
              "      fill: #FFFFFF;\n",
              "    }\n",
              "  </style>\n",
              "\n",
              "    <script>\n",
              "      const buttonEl =\n",
              "        document.querySelector('#df-222c3fcd-c795-4b94-9c17-5adff4a5d0af button.colab-df-convert');\n",
              "      buttonEl.style.display =\n",
              "        google.colab.kernel.accessAllowed ? 'block' : 'none';\n",
              "\n",
              "      async function convertToInteractive(key) {\n",
              "        const element = document.querySelector('#df-222c3fcd-c795-4b94-9c17-5adff4a5d0af');\n",
              "        const dataTable =\n",
              "          await google.colab.kernel.invokeFunction('convertToInteractive',\n",
              "                                                    [key], {});\n",
              "        if (!dataTable) return;\n",
              "\n",
              "        const docLinkHtml = 'Like what you see? Visit the ' +\n",
              "          '<a target=\"_blank\" href=https://colab.research.google.com/notebooks/data_table.ipynb>data table notebook</a>'\n",
              "          + ' to learn more about interactive tables.';\n",
              "        element.innerHTML = '';\n",
              "        dataTable['output_type'] = 'display_data';\n",
              "        await google.colab.output.renderOutput(dataTable, element);\n",
              "        const docLink = document.createElement('div');\n",
              "        docLink.innerHTML = docLinkHtml;\n",
              "        element.appendChild(docLink);\n",
              "      }\n",
              "    </script>\n",
              "  </div>\n",
              "\n",
              "\n",
              "<div id=\"df-81120552-01b0-47ca-8bbd-dcf6f0531c1f\">\n",
              "  <button class=\"colab-df-quickchart\" onclick=\"quickchart('df-81120552-01b0-47ca-8bbd-dcf6f0531c1f')\"\n",
              "            title=\"Suggest charts.\"\n",
              "            style=\"display:none;\">\n",
              "\n",
              "<svg xmlns=\"http://www.w3.org/2000/svg\" height=\"24px\"viewBox=\"0 0 24 24\"\n",
              "     width=\"24px\">\n",
              "    <g>\n",
              "        <path d=\"M19 3H5c-1.1 0-2 .9-2 2v14c0 1.1.9 2 2 2h14c1.1 0 2-.9 2-2V5c0-1.1-.9-2-2-2zM9 17H7v-7h2v7zm4 0h-2V7h2v10zm4 0h-2v-4h2v4z\"/>\n",
              "    </g>\n",
              "</svg>\n",
              "  </button>\n",
              "\n",
              "<style>\n",
              "  .colab-df-quickchart {\n",
              "    background-color: #E8F0FE;\n",
              "    border: none;\n",
              "    border-radius: 50%;\n",
              "    cursor: pointer;\n",
              "    display: none;\n",
              "    fill: #1967D2;\n",
              "    height: 32px;\n",
              "    padding: 0 0 0 0;\n",
              "    width: 32px;\n",
              "  }\n",
              "\n",
              "  .colab-df-quickchart:hover {\n",
              "    background-color: #E2EBFA;\n",
              "    box-shadow: 0px 1px 2px rgba(60, 64, 67, 0.3), 0px 1px 3px 1px rgba(60, 64, 67, 0.15);\n",
              "    fill: #174EA6;\n",
              "  }\n",
              "\n",
              "  [theme=dark] .colab-df-quickchart {\n",
              "    background-color: #3B4455;\n",
              "    fill: #D2E3FC;\n",
              "  }\n",
              "\n",
              "  [theme=dark] .colab-df-quickchart:hover {\n",
              "    background-color: #434B5C;\n",
              "    box-shadow: 0px 1px 3px 1px rgba(0, 0, 0, 0.15);\n",
              "    filter: drop-shadow(0px 1px 2px rgba(0, 0, 0, 0.3));\n",
              "    fill: #FFFFFF;\n",
              "  }\n",
              "</style>\n",
              "\n",
              "  <script>\n",
              "    async function quickchart(key) {\n",
              "      const charts = await google.colab.kernel.invokeFunction(\n",
              "          'suggestCharts', [key], {});\n",
              "    }\n",
              "    (() => {\n",
              "      let quickchartButtonEl =\n",
              "        document.querySelector('#df-81120552-01b0-47ca-8bbd-dcf6f0531c1f button');\n",
              "      quickchartButtonEl.style.display =\n",
              "        google.colab.kernel.accessAllowed ? 'block' : 'none';\n",
              "    })();\n",
              "  </script>\n",
              "</div>\n",
              "    </div>\n",
              "  </div>\n"
            ]
          },
          "metadata": {},
          "execution_count": 28
        }
      ]
    },
    {
      "cell_type": "code",
      "source": [
        "probas_train"
      ],
      "metadata": {
        "colab": {
          "base_uri": "https://localhost:8080/"
        },
        "id": "HoDjdBG0d6rA",
        "outputId": "45fd1c65-cbbb-40e2-ce3b-1e5f8ee780b1"
      },
      "execution_count": null,
      "outputs": [
        {
          "output_type": "execute_result",
          "data": {
            "text/plain": [
              "array([[9.98667909e-01, 1.33209121e-03],\n",
              "       [5.81330444e-01, 4.18669556e-01],\n",
              "       [4.21459513e-02, 9.57854049e-01],\n",
              "       [1.79915488e-02, 9.82008451e-01],\n",
              "       [4.72195954e-02, 9.52780405e-01],\n",
              "       [1.39775140e-02, 9.86022486e-01],\n",
              "       [6.18887455e-01, 3.81112545e-01],\n",
              "       [2.98299875e-02, 9.70170013e-01],\n",
              "       [9.94760630e-01, 5.23936986e-03],\n",
              "       [8.92425000e-01, 1.07575000e-01],\n",
              "       [8.15134215e-01, 1.84865785e-01],\n",
              "       [2.99220950e-02, 9.70077905e-01],\n",
              "       [9.41708852e-01, 5.82911480e-02],\n",
              "       [2.64528628e-02, 9.73547137e-01],\n",
              "       [3.60901345e-01, 6.39098655e-01],\n",
              "       [5.08590437e-01, 4.91409563e-01],\n",
              "       [9.96971221e-01, 3.02877900e-03],\n",
              "       [9.92007058e-01, 7.99294178e-03],\n",
              "       [7.33966511e-01, 2.66033489e-01],\n",
              "       [9.87657236e-01, 1.23427642e-02],\n",
              "       [2.99021993e-02, 9.70097801e-01],\n",
              "       [4.61777542e-03, 9.95382225e-01],\n",
              "       [1.24226475e-01, 8.75773525e-01],\n",
              "       [1.14982999e-01, 8.85017001e-01],\n",
              "       [9.89786721e-01, 1.02132794e-02],\n",
              "       [8.58760654e-01, 1.41239346e-01],\n",
              "       [4.26237009e-02, 9.57376299e-01],\n",
              "       [2.59563529e-02, 9.74043647e-01],\n",
              "       [9.84634320e-01, 1.53656804e-02],\n",
              "       [1.31465130e-01, 8.68534870e-01],\n",
              "       [9.99071815e-01, 9.28184706e-04],\n",
              "       [9.77860297e-01, 2.21397026e-02],\n",
              "       [9.53331688e-01, 4.66683116e-02],\n",
              "       [2.81973724e-01, 7.18026276e-01],\n",
              "       [1.03176962e-01, 8.96823038e-01],\n",
              "       [2.99960337e-02, 9.70003966e-01],\n",
              "       [2.36821194e-02, 9.76317881e-01],\n",
              "       [9.98681868e-01, 1.31813168e-03],\n",
              "       [7.53567630e-01, 2.46432370e-01],\n",
              "       [9.29791928e-03, 9.90702081e-01],\n",
              "       [9.93673183e-01, 6.32681668e-03],\n",
              "       [4.44489365e-02, 9.55551064e-01],\n",
              "       [9.95258130e-01, 4.74186974e-03],\n",
              "       [1.06260195e-02, 9.89373981e-01],\n",
              "       [4.22013632e-01, 5.77986368e-01],\n",
              "       [8.69957991e-01, 1.30042009e-01],\n",
              "       [9.75949093e-01, 2.40509074e-02],\n",
              "       [1.04377108e-01, 8.95622892e-01],\n",
              "       [5.30439814e-01, 4.69560186e-01],\n",
              "       [2.07944620e-01, 7.92055380e-01],\n",
              "       [8.42698770e-01, 1.57301230e-01],\n",
              "       [9.88380023e-01, 1.16199770e-02],\n",
              "       [4.87383056e-03, 9.95126169e-01],\n",
              "       [9.95666261e-01, 4.33373903e-03],\n",
              "       [1.12005146e-01, 8.87994854e-01],\n",
              "       [9.34510796e-01, 6.54892036e-02],\n",
              "       [9.97335210e-01, 2.66478998e-03],\n",
              "       [2.27355880e-01, 7.72644120e-01],\n",
              "       [1.36491301e-02, 9.86350870e-01],\n",
              "       [8.45039909e-01, 1.54960091e-01],\n",
              "       [1.53247815e-01, 8.46752185e-01],\n",
              "       [1.09919510e-01, 8.90080490e-01]])"
            ]
          },
          "metadata": {},
          "execution_count": 29
        }
      ]
    },
    {
      "cell_type": "code",
      "source": [
        "# we create two datasets for potential labels for the first point from the test dataset (first patient)\n",
        "y_train_plus_test_0 = np.append(y_train, 0)\n",
        "y_train_plus_test_1 = np.append(y_train, 1)"
      ],
      "metadata": {
        "id": "RRa5j175eEzO"
      },
      "execution_count": null,
      "outputs": []
    },
    {
      "cell_type": "code",
      "source": [
        "# We fit the classifier twice using both potential labels 0 & 1. Here we fit the classifier using the potential label 0 and predict class scores for the new object if it had label 0\n",
        "SVM.fit(X_train_plus_test, y_train_plus_test_0)\n",
        "y_pred_score_train_plus_test_0 = SVM.predict_proba(X_train_plus_test)"
      ],
      "metadata": {
        "id": "xXomEL44eIjD"
      },
      "execution_count": null,
      "outputs": []
    },
    {
      "cell_type": "code",
      "source": [
        "# We fit the classifier twice using both potential labels 0 & 1. Here we fit the classifier using the potential label 1 and predict class scores for the new object if it had label 1\n",
        "SVM.fit(X_train_plus_test, y_train_plus_test_1)\n",
        "y_pred_score_train_plus_test_1 = SVM.predict_proba(X_train_plus_test)"
      ],
      "metadata": {
        "id": "ssrs18SSeNxF"
      },
      "execution_count": null,
      "outputs": []
    },
    {
      "cell_type": "code",
      "source": [
        "y_pred_score_train_plus_test_0"
      ],
      "metadata": {
        "colab": {
          "base_uri": "https://localhost:8080/"
        },
        "id": "21H0aIk7ebfD",
        "outputId": "a59d82f6-68ce-420a-ef93-4902e9501ec6"
      },
      "execution_count": null,
      "outputs": [
        {
          "output_type": "execute_result",
          "data": {
            "text/plain": [
              "array([[0.99643908, 0.00356092],\n",
              "       [0.60071695, 0.39928305],\n",
              "       [0.07133832, 0.92866168],\n",
              "       [0.0381414 , 0.9618586 ],\n",
              "       [0.08269103, 0.91730897],\n",
              "       [0.02997269, 0.97002731],\n",
              "       [0.61754749, 0.38245251],\n",
              "       [0.05281377, 0.94718623],\n",
              "       [0.98887207, 0.01112793],\n",
              "       [0.86801545, 0.13198455],\n",
              "       [0.7875204 , 0.2124796 ],\n",
              "       [0.05292359, 0.94707641],\n",
              "       [0.91607663, 0.08392337],\n",
              "       [0.04789568, 0.95210432],\n",
              "       [0.40888466, 0.59111534],\n",
              "       [0.51956643, 0.48043357],\n",
              "       [0.99272457, 0.00727543],\n",
              "       [0.98462285, 0.01537715],\n",
              "       [0.72897126, 0.27102874],\n",
              "       [0.97642957, 0.02357043],\n",
              "       [0.05288616, 0.94711384],\n",
              "       [0.01158447, 0.98841553],\n",
              "       [0.16863559, 0.83136441],\n",
              "       [0.1610448 , 0.8389552 ],\n",
              "       [0.97995269, 0.02004731],\n",
              "       [0.84152709, 0.15847291],\n",
              "       [0.07250803, 0.92749197],\n",
              "       [0.050876  , 0.949124  ],\n",
              "       [0.97301496, 0.02698504],\n",
              "       [0.17599371, 0.82400629],\n",
              "       [0.99698654, 0.00301346],\n",
              "       [0.9642851 , 0.0357149 ],\n",
              "       [0.93588208, 0.06411792],\n",
              "       [0.33462644, 0.66537356],\n",
              "       [0.14819029, 0.85180971],\n",
              "       [0.05280747, 0.94719253],\n",
              "       [0.04684219, 0.95315781],\n",
              "       [0.99647904, 0.00352096],\n",
              "       [0.72898535, 0.27101465],\n",
              "       [0.02251668, 0.97748332],\n",
              "       [0.98609836, 0.01390164],\n",
              "       [0.07455619, 0.92544381],\n",
              "       [0.98944697, 0.01055303],\n",
              "       [0.0245598 , 0.9754402 ],\n",
              "       [0.46210888, 0.53789112],\n",
              "       [0.84295212, 0.15704788],\n",
              "       [0.95907529, 0.04092471],\n",
              "       [0.15113619, 0.84886381],\n",
              "       [0.55020909, 0.44979091],\n",
              "       [0.26591625, 0.73408375],\n",
              "       [0.8196227 , 0.1803773 ],\n",
              "       [0.97754162, 0.02245838],\n",
              "       [0.01280664, 0.98719336],\n",
              "       [0.99067044, 0.00932956],\n",
              "       [0.15909047, 0.84090953],\n",
              "       [0.90804056, 0.09195944],\n",
              "       [0.99301803, 0.00698197],\n",
              "       [0.2785538 , 0.7214462 ],\n",
              "       [0.02867729, 0.97132271],\n",
              "       [0.81834357, 0.18165643],\n",
              "       [0.19643168, 0.80356832],\n",
              "       [0.16181177, 0.83818823],\n",
              "       [0.04815281, 0.95184719]])"
            ]
          },
          "metadata": {},
          "execution_count": 33
        }
      ]
    },
    {
      "cell_type": "code",
      "source": [
        "y_pred_score_train_plus_test_1"
      ],
      "metadata": {
        "colab": {
          "base_uri": "https://localhost:8080/"
        },
        "id": "2flkMKv0ecIj",
        "outputId": "1b878a2b-a70d-45d7-d14c-5480f5647965"
      },
      "execution_count": null,
      "outputs": [
        {
          "output_type": "execute_result",
          "data": {
            "text/plain": [
              "array([[9.98736044e-01, 1.26395580e-03],\n",
              "       [5.97829306e-01, 4.02170694e-01],\n",
              "       [4.54302620e-02, 9.54569738e-01],\n",
              "       [1.94776840e-02, 9.80522316e-01],\n",
              "       [5.08627317e-02, 9.49137268e-01],\n",
              "       [1.51476202e-02, 9.84852380e-01],\n",
              "       [6.34405962e-01, 3.65594038e-01],\n",
              "       [3.22174773e-02, 9.67782523e-01],\n",
              "       [9.95046737e-01, 4.95326337e-03],\n",
              "       [8.98467622e-01, 1.01532378e-01],\n",
              "       [8.24909695e-01, 1.75090305e-01],\n",
              "       [3.23164372e-02, 9.67683563e-01],\n",
              "       [9.45156127e-01, 5.48438729e-02],\n",
              "       [2.85874843e-02, 9.71412516e-01],\n",
              "       [3.78894120e-01, 6.21105880e-01],\n",
              "       [5.26095922e-01, 4.73904078e-01],\n",
              "       [9.97132439e-01, 2.86756107e-03],\n",
              "       [9.92451921e-01, 7.54807935e-03],\n",
              "       [7.46937513e-01, 2.53062487e-01],\n",
              "       [9.88357203e-01, 1.16427972e-02],\n",
              "       [3.22950615e-02, 9.67704938e-01],\n",
              "       [5.02335189e-03, 9.94976648e-01],\n",
              "       [1.32687515e-01, 8.67312485e-01],\n",
              "       [1.22925199e-01, 8.77074801e-01],\n",
              "       [9.90361281e-01, 9.63871902e-03],\n",
              "       [8.66507364e-01, 1.33492636e-01],\n",
              "       [4.59420518e-02, 9.54057948e-01],\n",
              "       [2.80535246e-02, 9.71946475e-01],\n",
              "       [9.85513582e-01, 1.44864181e-02],\n",
              "       [1.40320955e-01, 8.59679045e-01],\n",
              "       [9.99118440e-01, 8.81560103e-04],\n",
              "       [9.79144850e-01, 2.08551503e-02],\n",
              "       [9.56090566e-01, 4.39094341e-02],\n",
              "       [2.96927924e-01, 7.03072076e-01],\n",
              "       [1.10432724e-01, 8.89567276e-01],\n",
              "       [3.23958749e-02, 9.67604125e-01],\n",
              "       [2.56068294e-02, 9.74393171e-01],\n",
              "       [9.98749254e-01, 1.25074551e-03],\n",
              "       [7.65838398e-01, 2.34161602e-01],\n",
              "       [1.00914317e-02, 9.89908568e-01],\n",
              "       [9.94021651e-01, 5.97834949e-03],\n",
              "       [4.78968504e-02, 9.52103150e-01],\n",
              "       [9.95515884e-01, 4.48411558e-03],\n",
              "       [1.15274058e-02, 9.88472594e-01],\n",
              "       [4.39644725e-01, 5.60355275e-01],\n",
              "       [8.77150845e-01, 1.22849155e-01],\n",
              "       [9.77348534e-01, 2.26514665e-02],\n",
              "       [1.11703856e-01, 8.88296144e-01],\n",
              "       [5.47773592e-01, 4.52226408e-01],\n",
              "       [2.20372242e-01, 7.79627758e-01],\n",
              "       [8.51216655e-01, 1.48783345e-01],\n",
              "       [9.89037329e-01, 1.09626709e-02],\n",
              "       [5.30100934e-03, 9.94698991e-01],\n",
              "       [9.95900851e-01, 4.09914880e-03],\n",
              "       [1.19776705e-01, 8.80223295e-01],\n",
              "       [9.38268702e-01, 6.17312977e-02],\n",
              "       [9.97476192e-01, 2.52380846e-03],\n",
              "       [2.40529825e-01, 7.59470175e-01],\n",
              "       [1.47931131e-02, 9.85206887e-01],\n",
              "       [8.53447122e-01, 1.46552878e-01],\n",
              "       [1.63230486e-01, 8.36769514e-01],\n",
              "       [1.17570547e-01, 8.82429453e-01],\n",
              "       [2.22657443e-02, 9.77734256e-01]])"
            ]
          },
          "metadata": {},
          "execution_count": 34
        }
      ]
    },
    {
      "cell_type": "code",
      "source": [
        "y_pred_score_train_plus_test_0[-1,:]"
      ],
      "metadata": {
        "colab": {
          "base_uri": "https://localhost:8080/"
        },
        "id": "u3OQENw2ejDX",
        "outputId": "7b38d5f9-de9b-44dd-e143-00bbcd70f7f0"
      },
      "execution_count": null,
      "outputs": [
        {
          "output_type": "execute_result",
          "data": {
            "text/plain": [
              "array([0.04815281, 0.95184719])"
            ]
          },
          "metadata": {},
          "execution_count": 35
        }
      ]
    },
    {
      "cell_type": "code",
      "source": [
        "y_pred_score_train_plus_test_1[-1,:]"
      ],
      "metadata": {
        "colab": {
          "base_uri": "https://localhost:8080/"
        },
        "id": "07i-eO_pelcY",
        "outputId": "c2aa5a2a-fa74-49e7-dbb3-a93aae65984f"
      },
      "execution_count": null,
      "outputs": [
        {
          "output_type": "execute_result",
          "data": {
            "text/plain": [
              "array([0.02226574, 0.97773426])"
            ]
          },
          "metadata": {},
          "execution_count": 36
        }
      ]
    },
    {
      "cell_type": "code",
      "source": [
        "# we calculate nonconformity scores for both situations - potential labels 0 & 1\n",
        "non_conformity_scores_train_plus_test_0 = InverseProbabilityNC(y_pred_score_train_plus_test_0, y_train_plus_test_0)\n",
        "non_conformity_scores_train_plus_test_1 = InverseProbabilityNC(y_pred_score_train_plus_test_1, y_train_plus_test_1)"
      ],
      "metadata": {
        "id": "nl9GFNPCepiB"
      },
      "execution_count": null,
      "outputs": []
    },
    {
      "cell_type": "code",
      "source": [
        "non_conformity_scores_train_plus_test_0"
      ],
      "metadata": {
        "colab": {
          "base_uri": "https://localhost:8080/"
        },
        "id": "Rw--Ah4zJk4g",
        "outputId": "64874411-4d15-4184-c124-7e5a4af92800"
      },
      "execution_count": null,
      "outputs": [
        {
          "output_type": "execute_result",
          "data": {
            "text/plain": [
              "array([0.0035609 , 0.60071695, 0.0713383 , 0.03814137, 0.08269101,\n",
              "       0.02997267, 0.6175475 , 0.05281377, 0.01112795, 0.13198453,\n",
              "       0.21247959, 0.05292362, 0.08392334, 0.04789567, 0.59111536,\n",
              "       0.5195664 , 0.0072754 , 0.01537716, 0.27102876, 0.02357042,\n",
              "       0.05288619, 0.01158446, 0.1686356 , 0.16104478, 0.02004731,\n",
              "       0.1584729 , 0.07250804, 0.05087602, 0.02698505, 0.17599368,\n",
              "       0.00301349, 0.03571492, 0.06411791, 0.33462644, 0.14819026,\n",
              "       0.05280745, 0.04684222, 0.00352097, 0.27101463, 0.02251667,\n",
              "       0.01390165, 0.07455617, 0.010553  , 0.0245598 , 0.53789115,\n",
              "       0.15704787, 0.04092473, 0.15113616, 0.4497909 , 0.26591623,\n",
              "       0.1803773 , 0.02245837, 0.01280665, 0.00932956, 0.15909046,\n",
              "       0.09195942, 0.00698197, 0.27855378, 0.02867728, 0.18165642,\n",
              "       0.1964317 , 0.16181177, 0.9518472 ], dtype=float32)"
            ]
          },
          "metadata": {},
          "execution_count": 38
        }
      ]
    },
    {
      "cell_type": "code",
      "source": [
        "y_train_plus_test_0"
      ],
      "metadata": {
        "colab": {
          "base_uri": "https://localhost:8080/"
        },
        "id": "znZyJhKWjfg0",
        "outputId": "7f3c2436-399b-4be1-e02f-6fdfca4e5e13"
      },
      "execution_count": null,
      "outputs": [
        {
          "output_type": "execute_result",
          "data": {
            "text/plain": [
              "array([0, 1, 1, 1, 1, 1, 1, 1, 0, 0, 0, 1, 0, 1, 0, 1, 0, 0, 0, 0, 1, 1,\n",
              "       1, 1, 0, 0, 1, 1, 0, 1, 0, 0, 0, 1, 1, 1, 1, 0, 0, 1, 0, 1, 0, 1,\n",
              "       0, 0, 0, 1, 0, 1, 0, 0, 1, 0, 1, 0, 0, 1, 1, 0, 1, 1, 0])"
            ]
          },
          "metadata": {},
          "execution_count": 39
        }
      ]
    },
    {
      "cell_type": "code",
      "source": [
        "y_pred_score_train_plus_test_0"
      ],
      "metadata": {
        "colab": {
          "base_uri": "https://localhost:8080/"
        },
        "id": "znB6QDIyjMAv",
        "outputId": "68336ef0-a8cc-4bd5-8b6d-f29ee1f2c09b"
      },
      "execution_count": null,
      "outputs": [
        {
          "output_type": "execute_result",
          "data": {
            "text/plain": [
              "array([[0.99643908, 0.00356092],\n",
              "       [0.60071695, 0.39928305],\n",
              "       [0.07133832, 0.92866168],\n",
              "       [0.0381414 , 0.9618586 ],\n",
              "       [0.08269103, 0.91730897],\n",
              "       [0.02997269, 0.97002731],\n",
              "       [0.61754749, 0.38245251],\n",
              "       [0.05281377, 0.94718623],\n",
              "       [0.98887207, 0.01112793],\n",
              "       [0.86801545, 0.13198455],\n",
              "       [0.7875204 , 0.2124796 ],\n",
              "       [0.05292359, 0.94707641],\n",
              "       [0.91607663, 0.08392337],\n",
              "       [0.04789568, 0.95210432],\n",
              "       [0.40888466, 0.59111534],\n",
              "       [0.51956643, 0.48043357],\n",
              "       [0.99272457, 0.00727543],\n",
              "       [0.98462285, 0.01537715],\n",
              "       [0.72897126, 0.27102874],\n",
              "       [0.97642957, 0.02357043],\n",
              "       [0.05288616, 0.94711384],\n",
              "       [0.01158447, 0.98841553],\n",
              "       [0.16863559, 0.83136441],\n",
              "       [0.1610448 , 0.8389552 ],\n",
              "       [0.97995269, 0.02004731],\n",
              "       [0.84152709, 0.15847291],\n",
              "       [0.07250803, 0.92749197],\n",
              "       [0.050876  , 0.949124  ],\n",
              "       [0.97301496, 0.02698504],\n",
              "       [0.17599371, 0.82400629],\n",
              "       [0.99698654, 0.00301346],\n",
              "       [0.9642851 , 0.0357149 ],\n",
              "       [0.93588208, 0.06411792],\n",
              "       [0.33462644, 0.66537356],\n",
              "       [0.14819029, 0.85180971],\n",
              "       [0.05280747, 0.94719253],\n",
              "       [0.04684219, 0.95315781],\n",
              "       [0.99647904, 0.00352096],\n",
              "       [0.72898535, 0.27101465],\n",
              "       [0.02251668, 0.97748332],\n",
              "       [0.98609836, 0.01390164],\n",
              "       [0.07455619, 0.92544381],\n",
              "       [0.98944697, 0.01055303],\n",
              "       [0.0245598 , 0.9754402 ],\n",
              "       [0.46210888, 0.53789112],\n",
              "       [0.84295212, 0.15704788],\n",
              "       [0.95907529, 0.04092471],\n",
              "       [0.15113619, 0.84886381],\n",
              "       [0.55020909, 0.44979091],\n",
              "       [0.26591625, 0.73408375],\n",
              "       [0.8196227 , 0.1803773 ],\n",
              "       [0.97754162, 0.02245838],\n",
              "       [0.01280664, 0.98719336],\n",
              "       [0.99067044, 0.00932956],\n",
              "       [0.15909047, 0.84090953],\n",
              "       [0.90804056, 0.09195944],\n",
              "       [0.99301803, 0.00698197],\n",
              "       [0.2785538 , 0.7214462 ],\n",
              "       [0.02867729, 0.97132271],\n",
              "       [0.81834357, 0.18165643],\n",
              "       [0.19643168, 0.80356832],\n",
              "       [0.16181177, 0.83818823],\n",
              "       [0.04815281, 0.95184719]])"
            ]
          },
          "metadata": {},
          "execution_count": 40
        }
      ]
    },
    {
      "cell_type": "code",
      "source": [
        "non_conformity_scores_train_plus_test_1"
      ],
      "metadata": {
        "colab": {
          "base_uri": "https://localhost:8080/"
        },
        "id": "hdkfG4KwJnfJ",
        "outputId": "2bc02190-720f-4340-be9f-82ca2f1f718e"
      },
      "execution_count": null,
      "outputs": [
        {
          "output_type": "execute_result",
          "data": {
            "text/plain": [
              "array([0.00126398, 0.59782934, 0.04543024, 0.01947767, 0.05086273,\n",
              "       0.01514763, 0.634406  , 0.0322175 , 0.00495327, 0.1015324 ,\n",
              "       0.17509031, 0.03231645, 0.0548439 , 0.02858746, 0.6211059 ,\n",
              "       0.5260959 , 0.00286758, 0.00754809, 0.2530625 , 0.01164281,\n",
              "       0.03229505, 0.00502336, 0.13268751, 0.12292522, 0.00963873,\n",
              "       0.13349265, 0.04594207, 0.02805352, 0.01448643, 0.14032096,\n",
              "       0.00088155, 0.02085513, 0.04390943, 0.29692793, 0.11043274,\n",
              "       0.0323959 , 0.02560681, 0.00125074, 0.23416162, 0.01009142,\n",
              "       0.00597835, 0.04789686, 0.00448412, 0.01152742, 0.5603553 ,\n",
              "       0.12284917, 0.02265149, 0.11170387, 0.4522264 , 0.22037226,\n",
              "       0.14878333, 0.01096267, 0.005301  , 0.00409913, 0.11977673,\n",
              "       0.06173128, 0.00252378, 0.24052984, 0.0147931 , 0.14655286,\n",
              "       0.16323048, 0.11757052, 0.02226573], dtype=float32)"
            ]
          },
          "metadata": {},
          "execution_count": 41
        }
      ]
    },
    {
      "cell_type": "code",
      "source": [
        "# extract nonconformity scores for the training set and the new test point\n",
        "non_conformity_scores_y_train_class_0 = non_conformity_scores_train_plus_test_0[:-1]\n",
        "non_conformity_scores_y_train_class_1 = non_conformity_scores_train_plus_test_1[:-1]\n",
        "\n",
        "non_conformity_scores_y_test_class_0 = non_conformity_scores_train_plus_test_0[-1]\n",
        "non_conformity_scores_y_test_class_1 = non_conformity_scores_train_plus_test_1[-1]"
      ],
      "metadata": {
        "id": "-xUCpuJUeuu8"
      },
      "execution_count": null,
      "outputs": []
    },
    {
      "cell_type": "code",
      "source": [
        "non_conformity_scores_y_train_class_0"
      ],
      "metadata": {
        "colab": {
          "base_uri": "https://localhost:8080/"
        },
        "id": "yF4veyvkJ_P9",
        "outputId": "83d57b78-f488-4869-92f6-e4ac5db4b012"
      },
      "execution_count": null,
      "outputs": [
        {
          "output_type": "execute_result",
          "data": {
            "text/plain": [
              "array([0.0035609 , 0.60071695, 0.0713383 , 0.03814137, 0.08269101,\n",
              "       0.02997267, 0.6175475 , 0.05281377, 0.01112795, 0.13198453,\n",
              "       0.21247959, 0.05292362, 0.08392334, 0.04789567, 0.59111536,\n",
              "       0.5195664 , 0.0072754 , 0.01537716, 0.27102876, 0.02357042,\n",
              "       0.05288619, 0.01158446, 0.1686356 , 0.16104478, 0.02004731,\n",
              "       0.1584729 , 0.07250804, 0.05087602, 0.02698505, 0.17599368,\n",
              "       0.00301349, 0.03571492, 0.06411791, 0.33462644, 0.14819026,\n",
              "       0.05280745, 0.04684222, 0.00352097, 0.27101463, 0.02251667,\n",
              "       0.01390165, 0.07455617, 0.010553  , 0.0245598 , 0.53789115,\n",
              "       0.15704787, 0.04092473, 0.15113616, 0.4497909 , 0.26591623,\n",
              "       0.1803773 , 0.02245837, 0.01280665, 0.00932956, 0.15909046,\n",
              "       0.09195942, 0.00698197, 0.27855378, 0.02867728, 0.18165642,\n",
              "       0.1964317 , 0.16181177], dtype=float32)"
            ]
          },
          "metadata": {},
          "execution_count": 43
        }
      ]
    },
    {
      "cell_type": "code",
      "source": [
        "non_conformity_scores_y_test_class_0"
      ],
      "metadata": {
        "colab": {
          "base_uri": "https://localhost:8080/"
        },
        "id": "Je_ugSGjKKoJ",
        "outputId": "71d7a90c-804f-4b54-afa5-babd30250d39"
      },
      "execution_count": null,
      "outputs": [
        {
          "output_type": "execute_result",
          "data": {
            "text/plain": [
              "0.9518472"
            ]
          },
          "metadata": {},
          "execution_count": 44
        }
      ]
    },
    {
      "cell_type": "code",
      "source": [
        "non_conformity_scores_y_test_class_1"
      ],
      "metadata": {
        "colab": {
          "base_uri": "https://localhost:8080/"
        },
        "id": "rGEQtmNVPX04",
        "outputId": "3f2fd38b-adbf-4b62-f0fd-dc2bf86e0993"
      },
      "execution_count": null,
      "outputs": [
        {
          "output_type": "execute_result",
          "data": {
            "text/plain": [
              "0.022265732"
            ]
          },
          "metadata": {},
          "execution_count": 45
        }
      ]
    },
    {
      "cell_type": "markdown",
      "source": [
        "Compute p- values by comparing the non conformity score with the true value (Vovk et al. (2005))"
      ],
      "metadata": {
        "id": "mPfLofPXNX7B"
      }
    },
    {
      "cell_type": "code",
      "source": [
        "def compute_p_value(non_conformity_scores_train, non_conformity_scores_test):\n",
        "  p_values = []\n",
        "  if not isinstance(non_conformity_scores_test, list):\n",
        "    non_conformity_scores_test = [non_conformity_scores_test]\n",
        "\n",
        "  for i, test_point_conformity_score in enumerate(non_conformity_scores_test):\n",
        "    p_value = (np.sum(non_conformity_scores_train >= test_point_conformity_score) + 1) / (len(non_conformity_scores_train)+1)\n",
        "    p_values.append(p_value)\n",
        "  return np.array(p_values)"
      ],
      "metadata": {
        "id": "Iby8u4jqe019"
      },
      "execution_count": null,
      "outputs": []
    },
    {
      "cell_type": "code",
      "source": [
        "# compute p-value of the test point twice, each time for label 0 and 1\n",
        "p_value_class_0 = compute_p_value(non_conformity_scores_y_train_class_0, non_conformity_scores_y_test_class_0)\n",
        "p_value_class_1 = compute_p_value(non_conformity_scores_y_train_class_1, non_conformity_scores_y_test_class_1)"
      ],
      "metadata": {
        "id": "sYFJ8lmye6T-"
      },
      "execution_count": null,
      "outputs": []
    },
    {
      "cell_type": "code",
      "source": [
        "print('p-value for class 0: {}, p-value for class 1: {}'.format(p_value_class_0,p_value_class_1))"
      ],
      "metadata": {
        "colab": {
          "base_uri": "https://localhost:8080/"
        },
        "id": "NF9sgpZae-Yz",
        "outputId": "1bcbc51f-1194-4182-a977-befd1b1813c2"
      },
      "execution_count": null,
      "outputs": [
        {
          "output_type": "stream",
          "name": "stdout",
          "text": [
            "p-value for class 0: [0.01587302], p-value for class 1: [0.65079365]\n"
          ]
        }
      ]
    },
    {
      "cell_type": "markdown",
      "source": [
        "So, we should include the class 1 (>0.05) and not include class 0 (<0.05)"
      ],
      "metadata": {
        "id": "NmbLHtvklCcC"
      }
    },
    {
      "cell_type": "markdown",
      "source": [
        "Now, repeat the process for every patient in the test set"
      ],
      "metadata": {
        "id": "75wjRHhgl49M"
      }
    },
    {
      "cell_type": "code",
      "source": [
        "def prediction_sets(X_train, y_train, X_test, y_test, model = SVM, significance_level = 0.05):\n",
        "\n",
        "    prediction_sets = []\n",
        "    p_values_class_0 = []\n",
        "    p_values_class_1 = []\n",
        "\n",
        "    for i,y in enumerate(y_test):\n",
        "\n",
        "      X_train_plus_test = pd.concat([X_train,pd.DataFrame(X_test.iloc[i]).T])\n",
        "      y_train_plus_test_0 = np.append(y_train, 0)\n",
        "      y_train_plus_test_1 = np.append(y_train, 1)\n",
        "      model.fit(X_train_plus_test, y_train_plus_test_0)\n",
        "      y_pred_score_train_plus_test_0 = model.predict_proba(X_train_plus_test)\n",
        "      model.fit(X_train_plus_test, y_train_plus_test_1)\n",
        "      y_pred_score_train_plus_test_1 = model.predict_proba(X_train_plus_test)\n",
        "\n",
        "      #nonconformity scores\n",
        "      non_conformity_scores_train_plus_test_0 = InverseProbabilityNC(y_pred_score_train_plus_test_0, y_train_plus_test_0)\n",
        "      non_conformity_scores_train_plus_test_1 = InverseProbabilityNC(y_pred_score_train_plus_test_1, y_train_plus_test_1)\n",
        "\n",
        "      non_conformity_scores_y_train_class_0 = non_conformity_scores_train_plus_test_0[:-1]\n",
        "      non_conformity_scores_y_train_class_1 = non_conformity_scores_train_plus_test_1[:-1]\n",
        "\n",
        "      non_conformity_scores_y_test_class_0 = non_conformity_scores_train_plus_test_0[-1]\n",
        "      non_conformity_scores_y_test_class_1 = non_conformity_scores_train_plus_test_1[-1]\n",
        "\n",
        "      p_value_class_0 = compute_p_value(non_conformity_scores_y_train_class_0, non_conformity_scores_y_test_class_0)\n",
        "      p_value_class_1 = compute_p_value(non_conformity_scores_y_train_class_1, non_conformity_scores_y_test_class_1)\n",
        "\n",
        "      p_values_class_0.append( p_value_class_0)\n",
        "      p_values_class_1.append( p_value_class_1)\n",
        "\n",
        "      if (p_value_class_0 > significance_level) and (p_value_class_1 > significance_level):\n",
        "        prediction_sets.append([True,True])\n",
        "      elif (p_value_class_0 > significance_level) and (p_value_class_1 <= significance_level):\n",
        "        prediction_sets.append([True,False])\n",
        "      elif (p_value_class_0 <= significance_level) and (p_value_class_1 >significance_level):\n",
        "        prediction_sets.append([False,True])\n",
        "      else:\n",
        "        prediction_sets.append([False,False])\n",
        "\n",
        "    return prediction_sets, p_values_class_0, p_values_class_1"
      ],
      "metadata": {
        "id": "KdDzFci9faTr"
      },
      "execution_count": null,
      "outputs": []
    },
    {
      "cell_type": "code",
      "source": [
        "predictions_test_sets, p_values_test_set_class_0, p_values_test_set_class_1 = prediction_sets(X_train, y_train, X_test, y_test, model = SVM, significance_level = 0.05)"
      ],
      "metadata": {
        "id": "Gu6OVEePgj25"
      },
      "execution_count": null,
      "outputs": []
    },
    {
      "cell_type": "code",
      "source": [
        "p_values_test_set_class_1"
      ],
      "metadata": {
        "colab": {
          "base_uri": "https://localhost:8080/"
        },
        "id": "YFdAg0kF1IN_",
        "outputId": "adacccde-ca8d-4be2-cc67-337e5e20cb40"
      },
      "execution_count": null,
      "outputs": [
        {
          "output_type": "execute_result",
          "data": {
            "text/plain": [
              "[array([0.65079365]),\n",
              " array([0.73015873]),\n",
              " array([0.01587302]),\n",
              " array([0.11111111]),\n",
              " array([0.01587302]),\n",
              " array([0.58730159]),\n",
              " array([0.01587302]),\n",
              " array([0.52380952]),\n",
              " array([0.17460317]),\n",
              " array([0.01587302]),\n",
              " array([0.66666667]),\n",
              " array([0.01587302]),\n",
              " array([0.68253968]),\n",
              " array([0.01587302]),\n",
              " array([0.01587302]),\n",
              " array([0.01587302])]"
            ]
          },
          "metadata": {},
          "execution_count": 74
        }
      ]
    },
    {
      "cell_type": "code",
      "source": [
        "p_values_test_set_class_0"
      ],
      "metadata": {
        "id": "i-vyMgRd3H4l",
        "outputId": "dd6aa032-3ab7-4b07-e0ef-6b9c1a1be153",
        "colab": {
          "base_uri": "https://localhost:8080/"
        }
      },
      "execution_count": null,
      "outputs": [
        {
          "output_type": "execute_result",
          "data": {
            "text/plain": [
              "[array([0.01587302]),\n",
              " array([0.01587302]),\n",
              " array([0.41269841]),\n",
              " array([0.11111111]),\n",
              " array([0.58730159]),\n",
              " array([0.01587302]),\n",
              " array([0.82539683]),\n",
              " array([0.01587302]),\n",
              " array([0.07936508]),\n",
              " array([0.36507937]),\n",
              " array([0.01587302]),\n",
              " array([0.66666667]),\n",
              " array([0.01587302]),\n",
              " array([0.68253968]),\n",
              " array([0.80952381]),\n",
              " array([0.63492063])]"
            ]
          },
          "metadata": {},
          "execution_count": 75
        }
      ]
    },
    {
      "cell_type": "code",
      "source": [
        "predictions_test_sets"
      ],
      "metadata": {
        "colab": {
          "base_uri": "https://localhost:8080/"
        },
        "id": "kazz-RtEgpFo",
        "outputId": "7b89eda2-461c-4262-8e0b-998f8ec10038"
      },
      "execution_count": null,
      "outputs": [
        {
          "output_type": "execute_result",
          "data": {
            "text/plain": [
              "[[False, True],\n",
              " [False, True],\n",
              " [True, False],\n",
              " [True, True],\n",
              " [True, False],\n",
              " [False, True],\n",
              " [True, False],\n",
              " [False, True],\n",
              " [True, True],\n",
              " [True, False],\n",
              " [False, True],\n",
              " [True, False],\n",
              " [False, True],\n",
              " [True, False],\n",
              " [True, False],\n",
              " [True, False]]"
            ]
          },
          "metadata": {},
          "execution_count": 54
        }
      ]
    },
    {
      "cell_type": "code",
      "source": [
        "y_test"
      ],
      "metadata": {
        "colab": {
          "base_uri": "https://localhost:8080/"
        },
        "id": "6aJ2vGaXsxcB",
        "outputId": "f995b343-4516-422d-860b-75686a56e257"
      },
      "execution_count": null,
      "outputs": [
        {
          "output_type": "execute_result",
          "data": {
            "text/plain": [
              "0     1\n",
              "1     1\n",
              "2     0\n",
              "3     0\n",
              "4     0\n",
              "5     1\n",
              "6     0\n",
              "7     1\n",
              "8     1\n",
              "9     1\n",
              "10    1\n",
              "11    0\n",
              "12    1\n",
              "13    0\n",
              "14    0\n",
              "15    0\n",
              "dtype: int64"
            ]
          },
          "metadata": {},
          "execution_count": 55
        }
      ]
    },
    {
      "cell_type": "code",
      "source": [
        "import numpy as np\n",
        "import matplotlib.pyplot as plt\n",
        "\n",
        "# Given boolean matrix\n",
        "matrix = np.array(predictions_test_sets)\n",
        "\n",
        "# Count the occurrences of each category\n",
        "\n",
        "non_responders = np.sum(matrix[:, 0] & ~matrix[:, 1])\n",
        "responders = np.sum(~matrix[:, 0] & matrix[:, 1])\n",
        "uncertain = np.sum(np.all(matrix, axis=1))\n",
        "\n",
        "# Define categories and counts\n",
        "categories = ['Non responder (0)', 'Responder(1)', 'Uncertain']\n",
        "counts = [non_responders, responders, uncertain]\n",
        "\n",
        "# Plot the bar chart\n",
        "plt.figure(figsize=(10, 8))\n",
        "plt.bar(categories, counts, color=['darkseagreen', 'darkseagreen', 'darkseagreen'])\n",
        "plt.xlabel('Prediction')\n",
        "plt.ylabel('Frequency')\n",
        "plt.title('Conformal prediction region')\n",
        "plt.show()\n"
      ],
      "metadata": {
        "colab": {
          "base_uri": "https://localhost:8080/",
          "height": 720
        },
        "id": "MZSTdgYVHXZO",
        "outputId": "041300ac-5a99-4c5c-eb20-797f079ba75f"
      },
      "execution_count": null,
      "outputs": [
        {
          "output_type": "display_data",
          "data": {
            "text/plain": [
              "<Figure size 1000x800 with 1 Axes>"
            ],
            "image/png": "[encoded data removed]"
          },
          "metadata": {}
        }
      ]
    },
    {
      "cell_type": "code",
      "source": [
        "# Convert the list to a DataFrame\n",
        "table = pd.DataFrame(predictions_test_sets, columns=['Prediction1', 'Prediction2'])\n",
        "\n",
        "# Group and count the combinations of \"true\" and \"false\" predictions\n",
        "combination_counts = table.groupby(['Prediction1', 'Prediction2']).size().reset_index(name='Count')\n",
        "\n",
        "# Display the resulting table\n",
        "print(combination_counts)"
      ],
      "metadata": {
        "colab": {
          "base_uri": "https://localhost:8080/"
        },
        "id": "n7zXm3gJm3rF",
        "outputId": "ff55a08d-013b-42fc-fbab-aa990a1a416e"
      },
      "execution_count": null,
      "outputs": [
        {
          "output_type": "stream",
          "name": "stdout",
          "text": [
            "   Prediction1  Prediction2  Count\n",
            "0        False         True      6\n",
            "1         True        False      8\n",
            "2         True         True      2\n"
          ]
        }
      ]
    },
    {
      "cell_type": "code",
      "source": [
        "import pandas as pd\n",
        "import seaborn as sns\n",
        "import matplotlib.pyplot as plt\n",
        "# Convert the list to a DataFrame\n",
        "table = pd.DataFrame(predictions_test_sets, columns=['Prediction1', 'Prediction2'])\n",
        "\n",
        "# Create a pivot table to count combinations\n",
        "pivot_table = table.groupby(['Prediction1', 'Prediction2']).size().unstack(fill_value=0)\n",
        "\n",
        "# Create a heatmap using Seaborn\n",
        "plt.figure(figsize=(8, 6))\n",
        "sns.heatmap(pivot_table, annot=True, cmap='YlGnBu', fmt='d')\n",
        "plt.xlabel('Prediction for class 1')\n",
        "plt.ylabel('Prediction for class 0')\n",
        "plt.show()"
      ],
      "metadata": {
        "colab": {
          "base_uri": "https://localhost:8080/",
          "height": 565
        },
        "id": "vendUgcZnG_K",
        "outputId": "c0576310-49c5-465e-b6a5-93b41f12595b"
      },
      "execution_count": null,
      "outputs": [
        {
          "output_type": "display_data",
          "data": {
            "text/plain": [
              "<Figure size 800x600 with 2 Axes>"
            ],
            "image/png": "[encoded data removed]"
          },
          "metadata": {}
        }
      ]
    },
    {
      "cell_type": "code",
      "source": [
        "#EVALUATION\n",
        "print('Conformal classification based on conformity values:')\n",
        "acc = get_accuracy(predictions_test_sets, y_test)\n",
        "oneC, avgC = get_oneC_avgC(predictions_test_sets)\n",
        "print('Accuracy of region predictor: {}%'.format(acc * 100))\n",
        "print('Efficience:\\n\\t oneC = {}\\n\\t avgC = {}'.format(oneC, avgC))"
      ],
      "metadata": {
        "colab": {
          "base_uri": "https://localhost:8080/"
        },
        "id": "1OsoeHfWiuxC",
        "outputId": "63db83b4-c797-478c-c1bc-49ce7b8aea4e"
      },
      "execution_count": null,
      "outputs": [
        {
          "output_type": "stream",
          "name": "stdout",
          "text": [
            "Conformal classification based on conformity values:\n",
            "Accuracy of region predictor: 93.75%\n",
            "Efficience:\n",
            "\t oneC = 0.875\n",
            "\t avgC = 1.125\n"
          ]
        }
      ]
    },
    {
      "cell_type": "markdown",
      "source": [
        "##USE THE NONCONFORMIST"
      ],
      "metadata": {
        "id": "5ffsYp5ng0ad"
      }
    },
    {
      "cell_type": "markdown",
      "source": [
        "You can use the nonconformist package instead of making the previous proccess manualy"
      ],
      "metadata": {
        "id": "MMKzPKiwm1LB"
      }
    },
    {
      "cell_type": "markdown",
      "source": [
        "Take a look here https://github.com/donlnz/nonconformist"
      ],
      "metadata": {
        "id": "zoaG72a8of_U"
      }
    },
    {
      "cell_type": "code",
      "source": [
        "!pip install nonconformist"
      ],
      "metadata": {
        "colab": {
          "base_uri": "https://localhost:8080/"
        },
        "id": "LmaEd85jhBCG",
        "outputId": "b913c557-6322-476d-b0c0-72b8c05501c4"
      },
      "execution_count": null,
      "outputs": [
        {
          "output_type": "stream",
          "name": "stdout",
          "text": [
            "Collecting nonconformist\n",
            "  Downloading nonconformist-2.1.0.tar.gz (12 kB)\n",
            "  Preparing metadata (setup.py) ... \u001b[?25l\u001b[?25hdone\n",
            "Requirement already satisfied: numpy in /usr/local/lib/python3.10/dist-packages (from nonconformist) (1.23.5)\n",
            "Requirement already satisfied: scikit-learn in /usr/local/lib/python3.10/dist-packages (from nonconformist) (1.2.2)\n",
            "Requirement already satisfied: scipy in /usr/local/lib/python3.10/dist-packages (from nonconformist) (1.10.1)\n",
            "Requirement already satisfied: pandas in /usr/local/lib/python3.10/dist-packages (from nonconformist) (1.5.3)\n",
            "Requirement already satisfied: python-dateutil>=2.8.1 in /usr/local/lib/python3.10/dist-packages (from pandas->nonconformist) (2.8.2)\n",
            "Requirement already satisfied: pytz>=2020.1 in /usr/local/lib/python3.10/dist-packages (from pandas->nonconformist) (2023.3)\n",
            "Requirement already satisfied: joblib>=1.1.1 in /usr/local/lib/python3.10/dist-packages (from scikit-learn->nonconformist) (1.3.2)\n",
            "Requirement already satisfied: threadpoolctl>=2.0.0 in /usr/local/lib/python3.10/dist-packages (from scikit-learn->nonconformist) (3.2.0)\n",
            "Requirement already satisfied: six>=1.5 in /usr/local/lib/python3.10/dist-packages (from python-dateutil>=2.8.1->pandas->nonconformist) (1.16.0)\n",
            "Building wheels for collected packages: nonconformist\n",
            "  Building wheel for nonconformist (setup.py) ... \u001b[?25l\u001b[?25hdone\n",
            "  Created wheel for nonconformist: filename=nonconformist-2.1.0-py3-none-any.whl size=17817 sha256=8395a4efc680109caff4df521ed1a43f2690a6471571dc47a4d8db47b1db2d98\n",
            "  Stored in directory: /root/.cache/pip/wheels/50/0c/42/7f1bdc102730e363402b4414413de01d69d9f54c7df9578e32\n",
            "Successfully built nonconformist\n",
            "Installing collected packages: nonconformist\n",
            "Successfully installed nonconformist-2.1.0\n"
          ]
        }
      ]
    },
    {
      "cell_type": "code",
      "source": [
        "from nonconformist.cp import TcpClassifier\n",
        "from nonconformist.nc import NcFactory\n",
        "from nonconformist.nc import InverseProbabilityErrFunc, MarginErrFunc"
      ],
      "metadata": {
        "id": "YEOUssbvhM6C"
      },
      "execution_count": null,
      "outputs": []
    },
    {
      "cell_type": "code",
      "source": [
        "\n",
        "nc = NcFactory.create_nc(SVM,err_func=InverseProbabilityErrFunc())\t# Create a default nonconformity function, this is the inverse probability (hinge loss) nonconformity measure we used above\n",
        "tcp = TcpClassifier(nc)\t\t\t# Create a transductive conformal classifier"
      ],
      "metadata": {
        "id": "wcQw2f4rg5ut"
      },
      "execution_count": null,
      "outputs": []
    },
    {
      "cell_type": "code",
      "source": [
        "# Fit the TCP using the proper training set\n",
        "tcp.fit(X_train, y_train)"
      ],
      "metadata": {
        "id": "zc-zN_wxhStW"
      },
      "execution_count": null,
      "outputs": []
    },
    {
      "cell_type": "code",
      "source": [
        "# Produce predictions for the test set, with confidence 95%\n",
        "prediction = tcp.predict(X_test.values, significance=0.05)"
      ],
      "metadata": {
        "id": "qhtULjbjhWP9"
      },
      "execution_count": null,
      "outputs": []
    },
    {
      "cell_type": "code",
      "source": [
        "#EVALUATION\n",
        "print('Conformal classification based on conformity values:')\n",
        "acc = get_accuracy(prediction, y_test)\n",
        "oneC, avgC = get_oneC_avgC(prediction)\n",
        "print('Accuracy of region predictor: {}%'.format(acc * 100))\n",
        "print('Efficience:\\n\\t oneC = {}\\n\\t avgC = {}'.format(oneC, avgC))"
      ],
      "metadata": {
        "colab": {
          "base_uri": "https://localhost:8080/"
        },
        "id": "IWme25P8jKA4",
        "outputId": "7c2929e6-76d0-48d1-ef89-1a7cb4642c27"
      },
      "execution_count": null,
      "outputs": [
        {
          "output_type": "stream",
          "name": "stdout",
          "text": [
            "Conformal classification based on conformity values:\n",
            "Accuracy of region predictor: 93.75%\n",
            "Efficience:\n",
            "\t oneC = 0.875\n",
            "\t avgC = 1.125\n"
          ]
        }
      ]
    },
    {
      "cell_type": "code",
      "source": [
        "# Here we output prediction sets we constructed manually by writing code from scratch and comparing it with the output from Nonconformist. The results are the same.\n",
        "for i in range(len(predictions_test_sets)):\n",
        "  print(predictions_test_sets[i], prediction[i, :])"
      ],
      "metadata": {
        "colab": {
          "base_uri": "https://localhost:8080/"
        },
        "id": "0Zu3FGmEhZt6",
        "outputId": "2a26e0e9-248e-4700-dd96-a4e76365485f"
      },
      "execution_count": null,
      "outputs": [
        {
          "output_type": "stream",
          "name": "stdout",
          "text": [
            "[False, True] [False  True]\n",
            "[False, True] [False  True]\n",
            "[True, False] [ True False]\n",
            "[True, True] [ True  True]\n",
            "[True, False] [ True False]\n",
            "[False, True] [False  True]\n",
            "[True, False] [ True False]\n",
            "[False, True] [False  True]\n",
            "[True, True] [ True  True]\n",
            "[True, False] [ True False]\n",
            "[False, True] [False  True]\n",
            "[True, False] [ True False]\n",
            "[False, True] [False  True]\n",
            "[True, False] [ True False]\n",
            "[True, False] [ True False]\n",
            "[True, False] [ True False]\n"
          ]
        }
      ]
    }
  ]
}